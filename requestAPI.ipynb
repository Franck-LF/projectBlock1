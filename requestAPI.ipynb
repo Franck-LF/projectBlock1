{
 "cells": [
  {
   "cell_type": "markdown",
   "metadata": {},
   "source": [
    "# <center> **Requesting an external API**"
   ]
  },
  {
   "cell_type": "markdown",
   "metadata": {},
   "source": [
    "A partir d'une liste de titres de films nous allons requêter l'API publique [https://www.omdbapi.com](https://www.omdbapi.com)\n",
    "\n",
    "Nous enregistrerons les données non-structurées (résumé et affiche du film) dans une base NoSQL (MongoDB)"
   ]
  },
  {
   "cell_type": "code",
   "execution_count": 83,
   "metadata": {},
   "outputs": [],
   "source": [
    "%reset"
   ]
  },
  {
   "cell_type": "markdown",
   "metadata": {},
   "source": [
    "## **Imports**"
   ]
  },
  {
   "cell_type": "code",
   "execution_count": 84,
   "metadata": {},
   "outputs": [],
   "source": [
    "import math\n",
    "import copy\n",
    "import re\n",
    "import json\n",
    "import requests\n",
    "import numpy as np\n",
    "import pandas as pd\n",
    "from tqdm import tqdm\n",
    "from unidecode import unidecode\n",
    "\n",
    "# MongoDB / Pymongo\n",
    "import pymongo\n",
    "from pymongo.mongo_client import MongoClient\n",
    "from pymongo.server_api import ServerApi\n",
    "import pprint\n",
    "\n",
    "pd.set_option('display.max_rows', 10)\n",
    "tqdm.pandas()\n",
    "\n",
    "api_key = \"b8dd5759\""
   ]
  },
  {
   "cell_type": "markdown",
   "metadata": {},
   "source": [
    "## **Reading the data**\n"
   ]
  },
  {
   "cell_type": "code",
   "execution_count": null,
   "metadata": {},
   "outputs": [
    {
     "name": "stdout",
     "output_type": "stream",
     "text": [
      "Nb movies : 807\n"
     ]
    },
    {
     "data": {
      "text/html": [
       "<div>\n",
       "<style scoped>\n",
       "    .dataframe tbody tr th:only-of-type {\n",
       "        vertical-align: middle;\n",
       "    }\n",
       "\n",
       "    .dataframe tbody tr th {\n",
       "        vertical-align: top;\n",
       "    }\n",
       "\n",
       "    .dataframe thead th {\n",
       "        text-align: right;\n",
       "    }\n",
       "</style>\n",
       "<table border=\"1\" class=\"dataframe\">\n",
       "  <thead>\n",
       "    <tr style=\"text-align: right;\">\n",
       "      <th></th>\n",
       "      <th>title</th>\n",
       "      <th>original_title</th>\n",
       "      <th>summary</th>\n",
       "      <th>url_thumbnail</th>\n",
       "    </tr>\n",
       "  </thead>\n",
       "  <tbody>\n",
       "    <tr>\n",
       "      <th>0</th>\n",
       "      <td>Une histoire vraie</td>\n",
       "      <td>The Straight Story</td>\n",
       "      <td>Alvin Straight, vétéran de 73 ans, vit avec sa...</td>\n",
       "      <td>https://fr.web.img6.acsta.net/c_310_420/pictur...</td>\n",
       "    </tr>\n",
       "    <tr>\n",
       "      <th>1</th>\n",
       "      <td>La Ligne verte</td>\n",
       "      <td>The Green Mile</td>\n",
       "      <td>Paul Edgecomb, pensionnaire centenaire d'une m...</td>\n",
       "      <td>https://fr.web.img2.acsta.net/c_310_420/medias...</td>\n",
       "    </tr>\n",
       "    <tr>\n",
       "      <th>2</th>\n",
       "      <td>Matrix</td>\n",
       "      <td>The Matrix</td>\n",
       "      <td>Programmeur anonyme dans un service administra...</td>\n",
       "      <td>https://fr.web.img4.acsta.net/c_310_420/medias...</td>\n",
       "    </tr>\n",
       "    <tr>\n",
       "      <th>3</th>\n",
       "      <td>Eyes Wide Shut</td>\n",
       "      <td>Eyes Wide Shut</td>\n",
       "      <td>William Harford, médecin, mène une paisible ex...</td>\n",
       "      <td>https://fr.web.img6.acsta.net/c_310_420/medias...</td>\n",
       "    </tr>\n",
       "    <tr>\n",
       "      <th>4</th>\n",
       "      <td>Fight Club</td>\n",
       "      <td>Fight Club</td>\n",
       "      <td>Le narrateur, sans identité précise, vit seul,...</td>\n",
       "      <td>https://fr.web.img6.acsta.net/c_310_420/pictur...</td>\n",
       "    </tr>\n",
       "    <tr>\n",
       "      <th>...</th>\n",
       "      <td>...</td>\n",
       "      <td>...</td>\n",
       "      <td>...</td>\n",
       "      <td>...</td>\n",
       "    </tr>\n",
       "    <tr>\n",
       "      <th>802</th>\n",
       "      <td>Un vampire à Brooklyn</td>\n",
       "      <td>Vampire in Brooklyn</td>\n",
       "      <td>Maximillian appartient à une longue lignée de ...</td>\n",
       "      <td>https://fr.web.img6.acsta.net/c_310_420/medias...</td>\n",
       "    </tr>\n",
       "    <tr>\n",
       "      <th>803</th>\n",
       "      <td>Fair Game</td>\n",
       "      <td>Fair Game</td>\n",
       "      <td>Pour avoir menacé son ex-mari de faire saisir ...</td>\n",
       "      <td>https://fr.web.img2.acsta.net/c_310_420/medias...</td>\n",
       "    </tr>\n",
       "    <tr>\n",
       "      <th>804</th>\n",
       "      <td>Les Maitres du monde</td>\n",
       "      <td>The Puppet Masters</td>\n",
       "      <td>Sam Nivens, jeune agent du gouvernement, est e...</td>\n",
       "      <td>https://fr.web.img2.acsta.net/c_310_420/medias...</td>\n",
       "    </tr>\n",
       "    <tr>\n",
       "      <th>805</th>\n",
       "      <td>Halloween 6 : La Malédiction de Michael Myers</td>\n",
       "      <td>Halloween: The Curse of Michael Myers</td>\n",
       "      <td>Dix ans après avoir terrorisé la petite ville ...</td>\n",
       "      <td>https://fr.web.img4.acsta.net/c_310_420/medias...</td>\n",
       "    </tr>\n",
       "    <tr>\n",
       "      <th>806</th>\n",
       "      <td>Candyman 2</td>\n",
       "      <td>Candyman : Farewell to the Flesh</td>\n",
       "      <td>La liaison illicite et tragique d'un jeune art...</td>\n",
       "      <td>https://fr.web.img4.acsta.net/c_310_420/pictur...</td>\n",
       "    </tr>\n",
       "  </tbody>\n",
       "</table>\n",
       "<p>807 rows × 4 columns</p>\n",
       "</div>"
      ],
      "text/plain": [
       "                                             title  \\\n",
       "0                               Une histoire vraie   \n",
       "1                                   La Ligne verte   \n",
       "2                                           Matrix   \n",
       "3                                   Eyes Wide Shut   \n",
       "4                                       Fight Club   \n",
       "..                                             ...   \n",
       "802                          Un vampire à Brooklyn   \n",
       "803                                      Fair Game   \n",
       "804                           Les Maitres du monde   \n",
       "805  Halloween 6 : La Malédiction de Michael Myers   \n",
       "806                                     Candyman 2   \n",
       "\n",
       "                            original_title  \\\n",
       "0                       The Straight Story   \n",
       "1                           The Green Mile   \n",
       "2                               The Matrix   \n",
       "3                           Eyes Wide Shut   \n",
       "4                               Fight Club   \n",
       "..                                     ...   \n",
       "802                    Vampire in Brooklyn   \n",
       "803                              Fair Game   \n",
       "804                     The Puppet Masters   \n",
       "805  Halloween: The Curse of Michael Myers   \n",
       "806       Candyman : Farewell to the Flesh   \n",
       "\n",
       "                                               summary  \\\n",
       "0    Alvin Straight, vétéran de 73 ans, vit avec sa...   \n",
       "1    Paul Edgecomb, pensionnaire centenaire d'une m...   \n",
       "2    Programmeur anonyme dans un service administra...   \n",
       "3    William Harford, médecin, mène une paisible ex...   \n",
       "4    Le narrateur, sans identité précise, vit seul,...   \n",
       "..                                                 ...   \n",
       "802  Maximillian appartient à une longue lignée de ...   \n",
       "803  Pour avoir menacé son ex-mari de faire saisir ...   \n",
       "804  Sam Nivens, jeune agent du gouvernement, est e...   \n",
       "805  Dix ans après avoir terrorisé la petite ville ...   \n",
       "806  La liaison illicite et tragique d'un jeune art...   \n",
       "\n",
       "                                         url_thumbnail  \n",
       "0    https://fr.web.img6.acsta.net/c_310_420/pictur...  \n",
       "1    https://fr.web.img2.acsta.net/c_310_420/medias...  \n",
       "2    https://fr.web.img4.acsta.net/c_310_420/medias...  \n",
       "3    https://fr.web.img6.acsta.net/c_310_420/medias...  \n",
       "4    https://fr.web.img6.acsta.net/c_310_420/pictur...  \n",
       "..                                                 ...  \n",
       "802  https://fr.web.img6.acsta.net/c_310_420/medias...  \n",
       "803  https://fr.web.img2.acsta.net/c_310_420/medias...  \n",
       "804  https://fr.web.img2.acsta.net/c_310_420/medias...  \n",
       "805  https://fr.web.img4.acsta.net/c_310_420/medias...  \n",
       "806  https://fr.web.img4.acsta.net/c_310_420/pictur...  \n",
       "\n",
       "[807 rows x 4 columns]"
      ]
     },
     "execution_count": 165,
     "metadata": {},
     "output_type": "execute_result"
    }
   ],
   "source": [
    "df_movies = pd.read_csv('csv/movies_year_2000_to_2003.csv', delimiter = ',', usecols=['title', 'original_title', 'summary', 'url_thumbnail'])\n",
    "print(\"Nb movies :\", df_movies.shape[0])\n",
    "df_movies.head(5)"
   ]
  },
  {
   "cell_type": "code",
   "execution_count": 166,
   "metadata": {},
   "outputs": [],
   "source": [
    "def format_string(st):\n",
    "    ''' format string \n",
    "        from \"title of the movie\" \n",
    "        to title+of+the+movie\n",
    "\n",
    "        Arg: st string to be converted.\n",
    "    '''\n",
    "    res = ''\n",
    "    for c in st:\n",
    "        if c.isdigit() or c.isalpha() or c.isspace():\n",
    "            res += unidecode(c)\n",
    "        else:\n",
    "            res += ' '\n",
    "    return '+'.join([word for word in res.split() if len(word) > 1])\n",
    "\n",
    "def request_omdb_from_title(title):\n",
    "    ''' Request the omdb API\n",
    "    \n",
    "        return a json dictionary with the information about the movie.\n",
    "\n",
    "        Arg:\n",
    "         - title: string with title of the movie we want the infos about.\n",
    "    '''\n",
    "    url = f\"https://www.omdbapi.com/?apikey={api_key}&t={format_string(title)}\"\n",
    "    r = requests.get(url)\n",
    "    if r.status_code != 200:\n",
    "        print(f\"ERROR {title}, Response Code: {r.status_code}\")\n",
    "        print(\"Request:\", url)\n",
    "        return {'Response': 'False'}\n",
    "    return json.loads(r.text)\n",
    "\n",
    "def get_plot_and_thumbail_from_omdb(title):\n",
    "    ''' return movie plot and thumbail through an API request.\n",
    "        \n",
    "        return: \n",
    "          - plot:      string containing the plot of the movie,\n",
    "          - thumbnail: string containing the url of the thumbnail.\n",
    "\n",
    "        Arg: title: string with the title of the movie.\n",
    "    '''\n",
    "    plot, thumbnail = '', ''\n",
    "    res_dict = request_omdb_from_title(title)\n",
    "    lst_keys = res_dict.keys()\n",
    "    assert 'Response' in res_dict\n",
    "    if res_dict['Response'] == 'True':\n",
    "        # print('res_dict', res_dict)\n",
    "        assert 'Plot' in lst_keys and 'Poster' in lst_keys\n",
    "        if res_dict['Plot'] != 'N/A':\n",
    "            plot = res_dict['Plot']\n",
    "        if res_dict['Poster'] != '' and res_dict['Poster'] != 'N/A':\n",
    "            thumbnail = res_dict['Poster']\n",
    "    return plot + \"AND\" + thumbnail"
   ]
  },
  {
   "cell_type": "markdown",
   "metadata": {},
   "source": [
    "## **Get the plot and the thumbnail from the omdb API**"
   ]
  },
  {
   "cell_type": "code",
   "execution_count": 167,
   "metadata": {},
   "outputs": [],
   "source": [
    "df_movies['temp']      = df_movies['original_title'].apply(get_plot_and_thumbail_from_omdb)\n",
    "df_movies['plot']      = df_movies['temp'].apply(lambda x : x.split('AND')[0])\n",
    "df_movies['thumbnail'] = df_movies['temp'].apply(lambda x : x.split('AND')[1])\n",
    "df_movies['plot']          = np.where(df_movies['plot'] != '', df_movies['plot'], df_movies['summary'])\n",
    "df_movies['url_thumbnail'] = np.where(df_movies['thumbnail'] != '', df_movies['thumbnail'], df_movies['url_thumbnail'])\n",
    "df_movies = df_movies[['title', 'original_title', 'plot', 'url_thumbnail']]"
   ]
  },
  {
   "cell_type": "markdown",
   "metadata": {},
   "source": [
    "## **Store the data in a NoSQL database**"
   ]
  },
  {
   "cell_type": "code",
   "execution_count": 202,
   "metadata": {},
   "outputs": [],
   "source": [
    "# Connect to MongoDB\n",
    "client = pymongo.MongoClient(\"mongodb://localhost:27017/\")\n",
    "\n",
    "# Create database \"allocine\" (or selects it if already exists)\n",
    "mydb = client[\"allocine\"]\n",
    "# client.drop_database(\"movies\")\n",
    "\n",
    "# Create a collection \"movies\" (table in SQL)\n",
    "col_movies = mydb[\"movies\"]\n",
    "# col_movies.drop()"
   ]
  },
  {
   "cell_type": "code",
   "execution_count": null,
   "metadata": {},
   "outputs": [
    {
     "name": "stdout",
     "output_type": "stream",
     "text": [
      "['Rennes', 'Rennes2', 'admin', 'allocine', 'config', 'local', 'mydatabase', 'test_queries']\n",
      "['movies']\n",
      "Nb documents: 3440\n"
     ]
    }
   ],
   "source": [
    "# Insertion of movie plots in MongoDB database\n",
    "col_movies.insert_many(df_movies.to_dict(orient='records')) # TO DO ONLY ONCE\n",
    "# col_movies.drop()\n",
    "\n",
    "print(client.list_database_names())\n",
    "print(mydb.list_collection_names())\n",
    "\n",
    "# for doc in list(col_movies.find().limit(5)):\n",
    "#     pprint.pprint(doc)\n",
    "\n",
    "print(\"Nb documents:\", col_movies.count_documents({}))"
   ]
  },
  {
   "cell_type": "markdown",
   "metadata": {},
   "source": [
    "## **Checking what is in the Mongo DB**"
   ]
  },
  {
   "cell_type": "code",
   "execution_count": null,
   "metadata": {},
   "outputs": [
    {
     "name": "stdout",
     "output_type": "stream",
     "text": [
      "518\n",
      "678\n",
      "869\n",
      "585\n",
      "807\n",
      "729\n",
      "980\n",
      "863\n",
      "983\n",
      "498\n",
      "Nb documents: 3440\n",
      "3440\n"
     ]
    },
    {
     "data": {
      "text/plain": [
       "3457"
      ]
     },
     "execution_count": 208,
     "metadata": {},
     "output_type": "execute_result"
    }
   ],
   "source": [
    "df1 = pd.read_csv('csv/movies_year_1960_to_1970.csv', delimiter = ',', usecols=['title', 'original_title', 'summary', 'url_thumbnail'])\n",
    "df2 = pd.read_csv('csv/movies_year_1970_to_1980.csv', delimiter = ',', usecols=['title', 'original_title', 'summary', 'url_thumbnail'])\n",
    "df3 = pd.read_csv('csv/movies_year_1980_to_1990.csv', delimiter = ',', usecols=['title', 'original_title', 'summary', 'url_thumbnail'])\n",
    "df4 = pd.read_csv('csv/movies_year_1990_to_1995.csv', delimiter = ',', usecols=['title', 'original_title', 'summary', 'url_thumbnail'])\n",
    "df5 = pd.read_csv('csv/movies_year_1995_to_2000.csv', delimiter = ',', usecols=['title', 'original_title', 'summary', 'url_thumbnail'])\n",
    "df6 = pd.read_csv('csv/movies_year_2000_to_2003.csv', delimiter = ',', usecols=['title', 'original_title', 'summary', 'url_thumbnail'])\n",
    "df7 = pd.read_csv('csv/movies_year_2003_to_2006.csv', delimiter = ',', usecols=['title', 'original_title', 'summary', 'url_thumbnail'])\n",
    "df8 = pd.read_csv('csv/movies_year_2006_to_2008.csv', delimiter = ',', usecols=['title', 'original_title', 'summary', 'url_thumbnail'])\n",
    "df9 = pd.read_csv('csv/movies_year_2008_to_2010.csv', delimiter = ',', usecols=['title', 'original_title', 'summary', 'url_thumbnail'])\n",
    "df10 = pd.read_csv('csv/movies_year_2010.csv', delimiter = ',', usecols=['title', 'original_title', 'summary', 'url_thumbnail'])\n",
    "\n",
    "lst = [df1, df2, df3, df4, df5, df6, df7, df8, df9, df10]\n",
    "df_csv = pd.concat(lst)\n",
    "# print(df_csv.shape[0])\n",
    "\n",
    "for df in lst:\n",
    "    print(df.shape[0])\n",
    "\n",
    "# Reading data fmo Mongo DB\n",
    "client = pymongo.MongoClient(\"mongodb://localhost:27017/\")\n",
    "mydb = client[\"allocine\"]\n",
    "col_movies = mydb[\"movies\"]\n",
    "print(\"Nb documents:\", col_movies.count_documents({}))\n",
    "\n",
    "lst = list(col_movies.find())\n",
    "df_mongo = pd.DataFrame(lst, columns = ['_id', 'title', 'original_title', 'plot', 'url_thumbnail'])\n",
    "print(df_mongo.shape[0])\n",
    "\n",
    "# 1960 to 2000 stored in Mongo DB\n",
    "518 + 678 + 869 + 585 + 807 # ~ 3440"
   ]
  },
  {
   "cell_type": "code",
   "execution_count": 210,
   "metadata": {},
   "outputs": [
    {
     "data": {
      "text/html": [
       "<div>\n",
       "<style scoped>\n",
       "    .dataframe tbody tr th:only-of-type {\n",
       "        vertical-align: middle;\n",
       "    }\n",
       "\n",
       "    .dataframe tbody tr th {\n",
       "        vertical-align: top;\n",
       "    }\n",
       "\n",
       "    .dataframe thead th {\n",
       "        text-align: right;\n",
       "    }\n",
       "</style>\n",
       "<table border=\"1\" class=\"dataframe\">\n",
       "  <thead>\n",
       "    <tr style=\"text-align: right;\">\n",
       "      <th></th>\n",
       "      <th>title</th>\n",
       "      <th>original_title</th>\n",
       "      <th>summary</th>\n",
       "      <th>url_thumbnail</th>\n",
       "    </tr>\n",
       "  </thead>\n",
       "  <tbody>\n",
       "    <tr>\n",
       "      <th>0</th>\n",
       "      <td>Forrest Gump</td>\n",
       "      <td>Forrest Gump</td>\n",
       "      <td>Quelques décennies d'histoire américaine, des ...</td>\n",
       "      <td>https://fr.web.img2.acsta.net/c_310_420/pictur...</td>\n",
       "    </tr>\n",
       "    <tr>\n",
       "      <th>1</th>\n",
       "      <td>Pulp Fiction</td>\n",
       "      <td>Pulp Fiction</td>\n",
       "      <td>L'odyssée sanglante et burlesque de petits mal...</td>\n",
       "      <td>https://fr.web.img2.acsta.net/c_310_420/medias...</td>\n",
       "    </tr>\n",
       "    <tr>\n",
       "      <th>2</th>\n",
       "      <td>Les Evadés</td>\n",
       "      <td>The Shawshank Redemption</td>\n",
       "      <td>Red, condamné à perpétuité, et Andy Dufresne, ...</td>\n",
       "      <td>https://fr.web.img6.acsta.net/c_310_420/medias...</td>\n",
       "    </tr>\n",
       "    <tr>\n",
       "      <th>3</th>\n",
       "      <td>Léon</td>\n",
       "      <td>Léon</td>\n",
       "      <td>Un tueur à gages répondant au nom de Léon pren...</td>\n",
       "      <td>https://fr.web.img6.acsta.net/c_310_420/pictur...</td>\n",
       "    </tr>\n",
       "    <tr>\n",
       "      <th>4</th>\n",
       "      <td>Entretien avec un vampire</td>\n",
       "      <td>Interview with the Vampire</td>\n",
       "      <td>San Francisco dans les années 90. Un jeune jou...</td>\n",
       "      <td>https://fr.web.img2.acsta.net/c_310_420/medias...</td>\n",
       "    </tr>\n",
       "    <tr>\n",
       "      <th>...</th>\n",
       "      <td>...</td>\n",
       "      <td>...</td>\n",
       "      <td>...</td>\n",
       "      <td>...</td>\n",
       "    </tr>\n",
       "    <tr>\n",
       "      <th>580</th>\n",
       "      <td>Frankenhooker</td>\n",
       "      <td>Frankenhooker</td>\n",
       "      <td>Jeffrey Kranken, scientifique fou, a la douleu...</td>\n",
       "      <td>https://fr.web.img6.acsta.net/c_310_420/medias...</td>\n",
       "    </tr>\n",
       "    <tr>\n",
       "      <th>581</th>\n",
       "      <td>Moon 44</td>\n",
       "      <td>Moon 44</td>\n",
       "      <td>En 2038, les ressources naturelles de la Terre...</td>\n",
       "      <td>https://fr.web.img6.acsta.net/c_310_420/medias...</td>\n",
       "    </tr>\n",
       "    <tr>\n",
       "      <th>582</th>\n",
       "      <td>Maniac Cop 2</td>\n",
       "      <td>Maniac Cop 2</td>\n",
       "      <td>L'officier Matt Cordell n'est pas mort. Cette ...</td>\n",
       "      <td>https://fr.web.img2.acsta.net/c_310_420/medias...</td>\n",
       "    </tr>\n",
       "    <tr>\n",
       "      <th>583</th>\n",
       "      <td>Dragon Ball Z : Le Combat fratricide</td>\n",
       "      <td>Doragon bôru Z 3: Chikyû marugoto chô kessen</td>\n",
       "      <td>Un nouveau Saïyen, Thalès, qui ressemble à s'y...</td>\n",
       "      <td>https://fr.web.img6.acsta.net/c_310_420/medias...</td>\n",
       "    </tr>\n",
       "    <tr>\n",
       "      <th>584</th>\n",
       "      <td>Dragon Ball Z : Le Robot des glaces</td>\n",
       "      <td>Doragon bôru Z: Kono yo de ichiban tsuyoi yatsu</td>\n",
       "      <td>Le docteur Willow enlève les plus puissants gu...</td>\n",
       "      <td>https://fr.web.img3.acsta.net/c_310_420/medias...</td>\n",
       "    </tr>\n",
       "  </tbody>\n",
       "</table>\n",
       "<p>585 rows × 4 columns</p>\n",
       "</div>"
      ],
      "text/plain": [
       "                                    title  \\\n",
       "0                            Forrest Gump   \n",
       "1                            Pulp Fiction   \n",
       "2                              Les Evadés   \n",
       "3                                    Léon   \n",
       "4               Entretien avec un vampire   \n",
       "..                                    ...   \n",
       "580                         Frankenhooker   \n",
       "581                               Moon 44   \n",
       "582                          Maniac Cop 2   \n",
       "583  Dragon Ball Z : Le Combat fratricide   \n",
       "584   Dragon Ball Z : Le Robot des glaces   \n",
       "\n",
       "                                      original_title  \\\n",
       "0                                       Forrest Gump   \n",
       "1                                       Pulp Fiction   \n",
       "2                           The Shawshank Redemption   \n",
       "3                                               Léon   \n",
       "4                         Interview with the Vampire   \n",
       "..                                               ...   \n",
       "580                                    Frankenhooker   \n",
       "581                                          Moon 44   \n",
       "582                                     Maniac Cop 2   \n",
       "583     Doragon bôru Z 3: Chikyû marugoto chô kessen   \n",
       "584  Doragon bôru Z: Kono yo de ichiban tsuyoi yatsu   \n",
       "\n",
       "                                               summary  \\\n",
       "0    Quelques décennies d'histoire américaine, des ...   \n",
       "1    L'odyssée sanglante et burlesque de petits mal...   \n",
       "2    Red, condamné à perpétuité, et Andy Dufresne, ...   \n",
       "3    Un tueur à gages répondant au nom de Léon pren...   \n",
       "4    San Francisco dans les années 90. Un jeune jou...   \n",
       "..                                                 ...   \n",
       "580  Jeffrey Kranken, scientifique fou, a la douleu...   \n",
       "581  En 2038, les ressources naturelles de la Terre...   \n",
       "582  L'officier Matt Cordell n'est pas mort. Cette ...   \n",
       "583  Un nouveau Saïyen, Thalès, qui ressemble à s'y...   \n",
       "584  Le docteur Willow enlève les plus puissants gu...   \n",
       "\n",
       "                                         url_thumbnail  \n",
       "0    https://fr.web.img2.acsta.net/c_310_420/pictur...  \n",
       "1    https://fr.web.img2.acsta.net/c_310_420/medias...  \n",
       "2    https://fr.web.img6.acsta.net/c_310_420/medias...  \n",
       "3    https://fr.web.img6.acsta.net/c_310_420/pictur...  \n",
       "4    https://fr.web.img2.acsta.net/c_310_420/medias...  \n",
       "..                                                 ...  \n",
       "580  https://fr.web.img6.acsta.net/c_310_420/medias...  \n",
       "581  https://fr.web.img6.acsta.net/c_310_420/medias...  \n",
       "582  https://fr.web.img2.acsta.net/c_310_420/medias...  \n",
       "583  https://fr.web.img6.acsta.net/c_310_420/medias...  \n",
       "584  https://fr.web.img3.acsta.net/c_310_420/medias...  \n",
       "\n",
       "[585 rows x 4 columns]"
      ]
     },
     "execution_count": 210,
     "metadata": {},
     "output_type": "execute_result"
    }
   ],
   "source": [
    "df4"
   ]
  },
  {
   "cell_type": "code",
   "execution_count": 207,
   "metadata": {},
   "outputs": [],
   "source": [
    "# Store data in csv file\n",
    "df_mongo.to_csv('csv/test.csv', sep=',', index = False)"
   ]
  },
  {
   "cell_type": "markdown",
   "metadata": {},
   "source": [
    "**Since we added twice the same 807 movies, we have to remove them from MongoDB**"
   ]
  },
  {
   "cell_type": "code",
   "execution_count": null,
   "metadata": {},
   "outputs": [
    {
     "name": "stdout",
     "output_type": "stream",
     "text": [
      "Nb documents: 4264\n",
      "Nb documents: 2639\n"
     ]
    }
   ],
   "source": [
    "client = pymongo.MongoClient(\"mongodb://localhost:27017/\")\n",
    "mydb = client[\"allocine\"]\n",
    "col_movies = mydb[\"movies\"]\n",
    "\n",
    "print(\"Nb documents:\", col_movies.count_documents({}))\n",
    "col_movies.delete_many({'original_title' : {'$in' : df_movies['original_title'].values.tolist()} })\n",
    "print(\"Nb documents:\", col_movies.count_documents({}))"
   ]
  },
  {
   "cell_type": "markdown",
   "metadata": {},
   "source": [
    "**Looks like more documents have been deleted**<br>\n",
    "So we will drop the whole data base and use the csv 'mongoDB.csv' to restore the previous database and re-add the movies needed."
   ]
  },
  {
   "cell_type": "code",
   "execution_count": null,
   "metadata": {},
   "outputs": [],
   "source": [
    "client = pymongo.MongoClient(\"mongodb://localhost:27017/\")\n",
    "client.drop_database('allocine')\n",
    "\n",
    "# Recreate DB\n",
    "client = pymongo.MongoClient(\"mongodb://localhost:27017/\")\n",
    "mydb = client[\"allocine\"]\n",
    "col_movies = mydb[\"movies\"]"
   ]
  },
  {
   "cell_type": "markdown",
   "metadata": {},
   "source": [
    "## **Query MongoDB Using PyMongo**"
   ]
  },
  {
   "cell_type": "markdown",
   "metadata": {},
   "source": [
    "### **We create another DB**"
   ]
  },
  {
   "cell_type": "code",
   "execution_count": 184,
   "metadata": {},
   "outputs": [
    {
     "name": "stdout",
     "output_type": "stream",
     "text": [
      "['Rennes', 'Rennes2', 'admin', 'allocine', 'config', 'local', 'mydatabase', 'test_queries']\n",
      "['fruits']\n"
     ]
    }
   ],
   "source": [
    "client2 = pymongo.MongoClient(\"mongodb://localhost:27017/\")\n",
    "mydb2 = client2[\"test_queries\"]\n",
    "# client.drop_database(\"test_queries\")\n",
    "\n",
    "# Create a collection \"movies\" (table in SQL)\n",
    "col_fruits = mydb2[\"fruits\"]\n",
    "# col_fruits.drop()\n",
    "\n",
    "col_fruits.insert_many([\n",
    "        # { \"_id\": 1, \"name\": \"apples\", \"qty\": 5, \"rating\": 3, \"color\": \"red\", \"type\": [\"fuji\", \"honeycrisp\"] },\n",
    "        # { \"_id\": 2, \"name\": \"bananas\", \"qty\": 7, \"rating\": 4, \"color\": \"yellow\", \"type\": [\"cavendish\"] },\n",
    "        { \"_id\": 3, \"name\": \"oranges\", \"qty\": 6, \"rating\": 2, \"type\": [\"naval\", \"mandarin\"] },\n",
    "        { \"_id\": 4, \"name\": \"pineapple\", \"qty\": 3, \"rating\": 5, \"color\": \"yellow\" },\n",
    "        { \"_id\": 5, \"name\": \"test\", \"qty\": 10, \"rating\": 3, \"color\": \"green\", \"type\": [\"fuji\", \"typeXXX\"] },\n",
    "    ])\n",
    "# col_fruits.drop()\n",
    "\n",
    "print(client2.list_database_names())\n",
    "print(mydb2.list_collection_names())"
   ]
  },
  {
   "cell_type": "markdown",
   "metadata": {},
   "source": [
    "**Sources**<br>\n",
    "https://www.mongodb.com/docs/languages/python/pymongo-driver/current/read/specify-a-query/<br>\n",
    "https://www.w3resource.com/mongodb/introduction-mongodb.php<br>\n",
    "https://www.mongodbtutorial.org/mongodb-crud/mongodb-findone/<br>\n",
    "https://geekflare.com/fr/mongodb-queries-examples/<br>\n"
   ]
  },
  {
   "cell_type": "markdown",
   "metadata": {},
   "source": [
    "**Exact Match**"
   ]
  },
  {
   "cell_type": "code",
   "execution_count": 175,
   "metadata": {},
   "outputs": [
    {
     "data": {
      "text/plain": [
       "[{'_id': ObjectId('67b1ae3a1e1d959e842460ed'),\n",
       "  'title': 'Eyes Wide Shut',\n",
       "  'original_title': 'Eyes Wide Shut',\n",
       "  'plot': \"A Manhattan doctor embarks on a bizarre, night-long odyssey after his wife's admission of unfulfilled longing.\",\n",
       "  'url_thumbnail': 'https://m.media-amazon.com/images/M/MV5BZTQ0MmM5MDAtYmYyZS00MzlmLTlhZTAtZDJlZWY5ZTZkZjZmXkEyXkFqcGc@._V1_SX300.jpg'},\n",
       " {'_id': ObjectId('67b1ae4a1e1d959e84246414'),\n",
       "  'title': 'Eyes Wide Shut',\n",
       "  'original_title': 'Eyes Wide Shut',\n",
       "  'plot': \"A Manhattan doctor embarks on a bizarre, night-long odyssey after his wife's admission of unfulfilled longing.\",\n",
       "  'url_thumbnail': 'https://m.media-amazon.com/images/M/MV5BZTQ0MmM5MDAtYmYyZS00MzlmLTlhZTAtZDJlZWY5ZTZkZjZmXkEyXkFqcGc@._V1_SX300.jpg'}]"
      ]
     },
     "execution_count": 175,
     "metadata": {},
     "output_type": "execute_result"
    }
   ],
   "source": [
    "results = col_movies.find({ \"title\": \"Eyes Wide Shut\" })\n",
    "results.to_list()"
   ]
  },
  {
   "cell_type": "code",
   "execution_count": 144,
   "metadata": {},
   "outputs": [
    {
     "data": {
      "text/plain": [
       "[{'_id': 2,\n",
       "  'name': 'bananas',\n",
       "  'qty': 7,\n",
       "  'rating': 4,\n",
       "  'color': 'yellow',\n",
       "  'type': ['cavendish']},\n",
       " {'_id': 4, 'name': 'pineapple', 'qty': 3, 'rating': 5, 'color': 'yellow'}]"
      ]
     },
     "execution_count": 144,
     "metadata": {},
     "output_type": "execute_result"
    }
   ],
   "source": [
    "results = col_fruits.find({ \"color\": \"yellow\" })\n",
    "results.to_list()"
   ]
  },
  {
   "cell_type": "markdown",
   "metadata": {},
   "source": [
    "**Comparison operators**\n",
    "\n",
    "list of operators: https://www.mongodb.com/docs/manual/reference/operator/query-comparison/"
   ]
  },
  {
   "cell_type": "code",
   "execution_count": 143,
   "metadata": {},
   "outputs": [
    {
     "name": "stdout",
     "output_type": "stream",
     "text": [
      "{'_id': 1, 'name': 'apples', 'qty': 5, 'rating': 3, 'color': 'red', 'type': ['fuji', 'honeycrisp']}\n",
      "{'_id': 2, 'name': 'bananas', 'qty': 7, 'rating': 4, 'color': 'yellow', 'type': ['cavendish']}\n",
      "{'_id': 4, 'name': 'pineapple', 'qty': 3, 'rating': 5, 'color': 'yellow'}\n"
     ]
    }
   ],
   "source": [
    "results = col_fruits.find({ \"rating\": { \"$gt\" : 2 }})\n",
    "for f in results:\n",
    "    print(f) "
   ]
  },
  {
   "cell_type": "markdown",
   "metadata": {},
   "source": [
    "**Logical operators**\n",
    "\n",
    "https://www.mongodb.com/docs/manual/reference/operator/query-logical/"
   ]
  },
  {
   "cell_type": "code",
   "execution_count": 147,
   "metadata": {},
   "outputs": [
    {
     "name": "stdout",
     "output_type": "stream",
     "text": [
      "{'_id': 2, 'name': 'bananas', 'qty': 7, 'rating': 4, 'color': 'yellow', 'type': ['cavendish']}\n",
      "{'_id': 3, 'name': 'oranges', 'qty': 6, 'rating': 2, 'type': ['naval', 'mandarin']}\n",
      "{'_id': 4, 'name': 'pineapple', 'qty': 3, 'rating': 5, 'color': 'yellow'}\n"
     ]
    }
   ],
   "source": [
    "results = col_fruits.find({ \n",
    "    \"$or\": [\n",
    "        { \"qty\": { \"$gt\": 5 }},\n",
    "        { \"color\": \"yellow\" }\n",
    "    ]\n",
    "})\n",
    "for f in results:\n",
    "    print(f)"
   ]
  },
  {
   "cell_type": "markdown",
   "metadata": {},
   "source": [
    "**Arrays operators**\n",
    "\n",
    "https://www.mongodb.com/docs/manual/reference/operator/query-array/"
   ]
  },
  {
   "cell_type": "code",
   "execution_count": 158,
   "metadata": {},
   "outputs": [
    {
     "name": "stdout",
     "output_type": "stream",
     "text": [
      "{'_id': 1, 'name': 'apples', 'qty': 5, 'rating': 3, 'color': 'red', 'type': ['fuji', 'honeycrisp']}\n",
      "{'_id': 2, 'name': 'bananas', 'qty': 7, 'rating': 4, 'color': 'yellow', 'type': ['cavendish']}\n",
      "{'_id': 3, 'name': 'oranges', 'qty': 6, 'rating': 2, 'type': ['naval', 'mandarin']}\n",
      "{'_id': 4, 'name': 'pineapple', 'qty': 3, 'rating': 5, 'color': 'yellow'}\n",
      "{'_id': 5, 'name': 'test', 'qty': 10, 'rating': 3, 'color': 'green', 'type': ['fuji', 'typeXXX']}\n",
      "----\n",
      "{'_id': 1, 'name': 'apples', 'qty': 5, 'rating': 3, 'color': 'red', 'type': ['fuji', 'honeycrisp']}\n",
      "{'_id': 3, 'name': 'oranges', 'qty': 6, 'rating': 2, 'type': ['naval', 'mandarin']}\n",
      "{'_id': 5, 'name': 'test', 'qty': 10, 'rating': 3, 'color': 'green', 'type': ['fuji', 'typeXXX']}\n"
     ]
    }
   ],
   "source": [
    "for f in col_fruits.find({}):\n",
    "    print(f)\n",
    "\n",
    "print('----')\n",
    "results = col_fruits.find({\n",
    "    \"type\" : { \"$size\": 2 }\n",
    "})\n",
    "\n",
    "for f in results:\n",
    "    print(f)"
   ]
  },
  {
   "cell_type": "code",
   "execution_count": 159,
   "metadata": {},
   "outputs": [
    {
     "name": "stdout",
     "output_type": "stream",
     "text": [
      "{'_id': 1, 'name': 'apples', 'qty': 5, 'rating': 3, 'color': 'red', 'type': ['fuji', 'honeycrisp']}\n",
      "{'_id': 5, 'name': 'test', 'qty': 10, 'rating': 3, 'color': 'green', 'type': ['fuji', 'typeXXX']}\n"
     ]
    }
   ],
   "source": [
    "results = col_fruits.find({\n",
    "    \"type\" : { \"$all\": ['fuji'] }\n",
    "})\n",
    "\n",
    "for f in results:\n",
    "    print(f)"
   ]
  },
  {
   "cell_type": "markdown",
   "metadata": {},
   "source": [
    "**Element Operator**\n",
    "\n",
    "to check if a field exists"
   ]
  },
  {
   "cell_type": "code",
   "execution_count": 160,
   "metadata": {},
   "outputs": [
    {
     "name": "stdout",
     "output_type": "stream",
     "text": [
      "{'_id': 1, 'name': 'apples', 'qty': 5, 'rating': 3, 'color': 'red', 'type': ['fuji', 'honeycrisp']}\n",
      "{'_id': 2, 'name': 'bananas', 'qty': 7, 'rating': 4, 'color': 'yellow', 'type': ['cavendish']}\n",
      "{'_id': 4, 'name': 'pineapple', 'qty': 3, 'rating': 5, 'color': 'yellow'}\n",
      "{'_id': 5, 'name': 'test', 'qty': 10, 'rating': 3, 'color': 'green', 'type': ['fuji', 'typeXXX']}\n"
     ]
    }
   ],
   "source": [
    "results = col_fruits.find( { \"color\" : { \"$exists\": \"true\" }} )\n",
    "for f in results:\n",
    "    print(f)"
   ]
  },
  {
   "cell_type": "markdown",
   "metadata": {},
   "source": [
    "**Evaluation operators**\n",
    "\n",
    "https://www.mongodb.com/docs/manual/reference/operator/query-evaluation/"
   ]
  },
  {
   "cell_type": "code",
   "execution_count": null,
   "metadata": {},
   "outputs": [
    {
     "name": "stdout",
     "output_type": "stream",
     "text": [
      "{'_id': 1, 'name': 'apples', 'qty': 5, 'rating': 3, 'color': 'red', 'type': ['fuji', 'honeycrisp']}\n",
      "{'_id': 4, 'name': 'pineapple', 'qty': 3, 'rating': 5, 'color': 'yellow'}\n"
     ]
    }
   ],
   "source": [
    "results = col_fruits.find({ \"name\" : { \"$regex\" : \"p{2,}\" }} ) ## At least 2 consecutives p\n",
    "for f in results:\n",
    "    print(f)"
   ]
  },
  {
   "cell_type": "markdown",
   "metadata": {},
   "source": [
    "**Delete data**"
   ]
  },
  {
   "cell_type": "code",
   "execution_count": null,
   "metadata": {},
   "outputs": [
    {
     "name": "stdout",
     "output_type": "stream",
     "text": [
      "{'_id': 1, 'name': 'apples', 'qty': 5, 'rating': 3, 'color': 'red', 'type': ['fuji', 'honeycrisp']}\n",
      "{'_id': 2, 'name': 'bananas', 'qty': 7, 'rating': 4, 'color': 'yellow', 'type': ['cavendish']}\n",
      "{'_id': 3, 'name': 'oranges', 'qty': 6, 'rating': 2, 'type': ['naval', 'mandarin']}\n",
      "{'_id': 5, 'name': 'test', 'qty': 10, 'rating': 3, 'color': 'green', 'type': ['fuji', 'typeXXX']}\n",
      "{'_id': 4, 'name': 'pineapple', 'qty': 3, 'rating': 5, 'color': 'yellow'}\n",
      "{'_id': 1, 'name': 'apples', 'qty': 5, 'rating': 3, 'color': 'red', 'type': ['fuji', 'honeycrisp']}\n",
      "{'_id': 2, 'name': 'bananas', 'qty': 7, 'rating': 4, 'color': 'yellow', 'type': ['cavendish']}\n",
      "{'_id': 3, 'name': 'oranges', 'qty': 6, 'rating': 2, 'type': ['naval', 'mandarin']}\n",
      "{'_id': 5, 'name': 'test', 'qty': 10, 'rating': 3, 'color': 'green', 'type': ['fuji', 'typeXXX']}\n",
      "{'_id': 4, 'name': 'pineapple', 'qty': 3, 'rating': 5, 'color': 'yellow'}\n"
     ]
    }
   ],
   "source": [
    "# Delete_one\n",
    "for f in col_fruits.find({}):\n",
    "    print(f)\n",
    "\n",
    "col_fruits.delete_one({'_id' : 4})\n",
    "\n",
    "for f in col_fruits.find({}):\n",
    "    print(f)"
   ]
  },
  {
   "cell_type": "code",
   "execution_count": null,
   "metadata": {},
   "outputs": [
    {
     "name": "stdout",
     "output_type": "stream",
     "text": [
      "{'_id': 1, 'name': 'apples', 'qty': 5, 'rating': 3, 'color': 'red', 'type': ['fuji', 'honeycrisp']}\n",
      "{'_id': 2, 'name': 'bananas', 'qty': 7, 'rating': 4, 'color': 'yellow', 'type': ['cavendish']}\n",
      "{'_id': 3, 'name': 'oranges', 'qty': 6, 'rating': 2, 'type': ['naval', 'mandarin']}\n",
      "{'_id': 4, 'name': 'pineapple', 'qty': 3, 'rating': 5, 'color': 'yellow'}\n",
      "{'_id': 5, 'name': 'test', 'qty': 10, 'rating': 3, 'color': 'green', 'type': ['fuji', 'typeXXX']}\n",
      "{'_id': 1, 'name': 'apples', 'qty': 5, 'rating': 3, 'color': 'red', 'type': ['fuji', 'honeycrisp']}\n",
      "{'_id': 2, 'name': 'bananas', 'qty': 7, 'rating': 4, 'color': 'yellow', 'type': ['cavendish']}\n",
      "{'_id': 3, 'name': 'oranges', 'qty': 6, 'rating': 2, 'type': ['naval', 'mandarin']}\n",
      "{'_id': 4, 'name': 'pineapple', 'qty': 3, 'rating': 5, 'color': 'yellow'}\n",
      "{'_id': 5, 'name': 'test', 'qty': 10, 'rating': 3, 'color': 'green', 'type': ['fuji', 'typeXXX']}\n"
     ]
    }
   ],
   "source": [
    "# Delete_many\n",
    "for f in col_fruits.find({}):\n",
    "    print(f)\n",
    "\n",
    "col_fruits.delete_many({'_id' : {'$gte' : 3} })\n",
    "\n",
    "for f in col_fruits.find({}):\n",
    "    print(f)"
   ]
  },
  {
   "cell_type": "code",
   "execution_count": 186,
   "metadata": {},
   "outputs": [
    {
     "name": "stdout",
     "output_type": "stream",
     "text": [
      "{'_id': 1, 'name': 'apples', 'qty': 5, 'rating': 3, 'color': 'red', 'type': ['fuji', 'honeycrisp']}\n",
      "{'_id': 2, 'name': 'bananas', 'qty': 7, 'rating': 4, 'color': 'yellow', 'type': ['cavendish']}\n",
      "{'_id': 3, 'name': 'oranges', 'qty': 6, 'rating': 2, 'type': ['naval', 'mandarin']}\n",
      "{'_id': 4, 'name': 'pineapple', 'qty': 3, 'rating': 5, 'color': 'yellow'}\n",
      "{'_id': 5, 'name': 'test', 'qty': 10, 'rating': 3, 'color': 'green', 'type': ['fuji', 'typeXXX']}\n",
      "{'_id': 2, 'name': 'bananas', 'qty': 7, 'rating': 4, 'color': 'yellow', 'type': ['cavendish']}\n",
      "{'_id': 4, 'name': 'pineapple', 'qty': 3, 'rating': 5, 'color': 'yellow'}\n"
     ]
    }
   ],
   "source": [
    "# Delete_many\n",
    "for f in col_fruits.find({}):\n",
    "    print(f)\n",
    "\n",
    "col_fruits.delete_many({'_id' : {'$in' : [1, 3, 5]} })\n",
    "\n",
    "for f in col_fruits.find({}):\n",
    "    print(f)"
   ]
  },
  {
   "cell_type": "code",
   "execution_count": null,
   "metadata": {},
   "outputs": [],
   "source": []
  }
 ],
 "metadata": {
  "kernelspec": {
   "display_name": "block1",
   "language": "python",
   "name": "python3"
  },
  "language_info": {
   "codemirror_mode": {
    "name": "ipython",
    "version": 3
   },
   "file_extension": ".py",
   "mimetype": "text/x-python",
   "name": "python",
   "nbconvert_exporter": "python",
   "pygments_lexer": "ipython3",
   "version": "3.12.8"
  }
 },
 "nbformat": 4,
 "nbformat_minor": 2
}
