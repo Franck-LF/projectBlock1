{
 "cells": [
  {
   "cell_type": "markdown",
   "metadata": {},
   "source": [
    "# <center> **Requesting an external API**"
   ]
  },
  {
   "cell_type": "markdown",
   "metadata": {},
   "source": [
    "A partir d'une liste de titres de films nous allons requêter l'API publique [https://www.omdbapi.com](https://www.omdbapi.com)\n",
    "\n",
    "Nous enregistrerons les données non-structurées (résumé et affiche du film) dans une base NoSQL (MongoDB)"
   ]
  },
  {
   "cell_type": "code",
   "execution_count": 83,
   "metadata": {},
   "outputs": [],
   "source": [
    "%reset"
   ]
  },
  {
   "cell_type": "markdown",
   "metadata": {},
   "source": [
    "## **Imports**"
   ]
  },
  {
   "cell_type": "code",
   "execution_count": 84,
   "metadata": {},
   "outputs": [],
   "source": [
    "import math\n",
    "import copy\n",
    "import re\n",
    "import json\n",
    "import requests\n",
    "import numpy as np\n",
    "import pandas as pd\n",
    "from tqdm import tqdm\n",
    "from unidecode import unidecode\n",
    "\n",
    "# MongoDB / Pymongo\n",
    "import pymongo\n",
    "from pymongo.mongo_client import MongoClient\n",
    "from pymongo.server_api import ServerApi\n",
    "import pprint\n",
    "\n",
    "pd.set_option('display.max_rows', 10)\n",
    "tqdm.pandas()\n",
    "\n",
    "api_key = \"b8dd5759\""
   ]
  },
  {
   "cell_type": "markdown",
   "metadata": {},
   "source": [
    "## **Reading the data**\n"
   ]
  },
  {
   "cell_type": "code",
   "execution_count": 138,
   "metadata": {},
   "outputs": [
    {
     "name": "stdout",
     "output_type": "stream",
     "text": [
      "Nb movies : 807\n"
     ]
    },
    {
     "data": {
      "text/html": [
       "<div>\n",
       "<style scoped>\n",
       "    .dataframe tbody tr th:only-of-type {\n",
       "        vertical-align: middle;\n",
       "    }\n",
       "\n",
       "    .dataframe tbody tr th {\n",
       "        vertical-align: top;\n",
       "    }\n",
       "\n",
       "    .dataframe thead th {\n",
       "        text-align: right;\n",
       "    }\n",
       "</style>\n",
       "<table border=\"1\" class=\"dataframe\">\n",
       "  <thead>\n",
       "    <tr style=\"text-align: right;\">\n",
       "      <th></th>\n",
       "      <th>title</th>\n",
       "      <th>original_title</th>\n",
       "      <th>summary</th>\n",
       "      <th>url_thumbnail</th>\n",
       "    </tr>\n",
       "  </thead>\n",
       "  <tbody>\n",
       "    <tr>\n",
       "      <th>0</th>\n",
       "      <td>Une histoire vraie</td>\n",
       "      <td>The Straight Story</td>\n",
       "      <td>Alvin Straight, vétéran de 73 ans, vit avec sa...</td>\n",
       "      <td>https://fr.web.img6.acsta.net/c_310_420/pictur...</td>\n",
       "    </tr>\n",
       "    <tr>\n",
       "      <th>1</th>\n",
       "      <td>La Ligne verte</td>\n",
       "      <td>The Green Mile</td>\n",
       "      <td>Paul Edgecomb, pensionnaire centenaire d'une m...</td>\n",
       "      <td>https://fr.web.img2.acsta.net/c_310_420/medias...</td>\n",
       "    </tr>\n",
       "    <tr>\n",
       "      <th>2</th>\n",
       "      <td>Matrix</td>\n",
       "      <td>The Matrix</td>\n",
       "      <td>Programmeur anonyme dans un service administra...</td>\n",
       "      <td>https://fr.web.img4.acsta.net/c_310_420/medias...</td>\n",
       "    </tr>\n",
       "    <tr>\n",
       "      <th>3</th>\n",
       "      <td>Eyes Wide Shut</td>\n",
       "      <td>Eyes Wide Shut</td>\n",
       "      <td>William Harford, médecin, mène une paisible ex...</td>\n",
       "      <td>https://fr.web.img6.acsta.net/c_310_420/medias...</td>\n",
       "    </tr>\n",
       "    <tr>\n",
       "      <th>4</th>\n",
       "      <td>Fight Club</td>\n",
       "      <td>Fight Club</td>\n",
       "      <td>Le narrateur, sans identité précise, vit seul,...</td>\n",
       "      <td>https://fr.web.img6.acsta.net/c_310_420/pictur...</td>\n",
       "    </tr>\n",
       "    <tr>\n",
       "      <th>...</th>\n",
       "      <td>...</td>\n",
       "      <td>...</td>\n",
       "      <td>...</td>\n",
       "      <td>...</td>\n",
       "    </tr>\n",
       "    <tr>\n",
       "      <th>802</th>\n",
       "      <td>Un vampire à Brooklyn</td>\n",
       "      <td>Vampire in Brooklyn</td>\n",
       "      <td>Maximillian appartient à une longue lignée de ...</td>\n",
       "      <td>https://fr.web.img6.acsta.net/c_310_420/medias...</td>\n",
       "    </tr>\n",
       "    <tr>\n",
       "      <th>803</th>\n",
       "      <td>Fair Game</td>\n",
       "      <td>Fair Game</td>\n",
       "      <td>Pour avoir menacé son ex-mari de faire saisir ...</td>\n",
       "      <td>https://fr.web.img2.acsta.net/c_310_420/medias...</td>\n",
       "    </tr>\n",
       "    <tr>\n",
       "      <th>804</th>\n",
       "      <td>Les Maitres du monde</td>\n",
       "      <td>The Puppet Masters</td>\n",
       "      <td>Sam Nivens, jeune agent du gouvernement, est e...</td>\n",
       "      <td>https://fr.web.img2.acsta.net/c_310_420/medias...</td>\n",
       "    </tr>\n",
       "    <tr>\n",
       "      <th>805</th>\n",
       "      <td>Halloween 6 : La Malédiction de Michael Myers</td>\n",
       "      <td>Halloween: The Curse of Michael Myers</td>\n",
       "      <td>Dix ans après avoir terrorisé la petite ville ...</td>\n",
       "      <td>https://fr.web.img4.acsta.net/c_310_420/medias...</td>\n",
       "    </tr>\n",
       "    <tr>\n",
       "      <th>806</th>\n",
       "      <td>Candyman 2</td>\n",
       "      <td>Candyman : Farewell to the Flesh</td>\n",
       "      <td>La liaison illicite et tragique d'un jeune art...</td>\n",
       "      <td>https://fr.web.img4.acsta.net/c_310_420/pictur...</td>\n",
       "    </tr>\n",
       "  </tbody>\n",
       "</table>\n",
       "<p>807 rows × 4 columns</p>\n",
       "</div>"
      ],
      "text/plain": [
       "                                             title  \\\n",
       "0                               Une histoire vraie   \n",
       "1                                   La Ligne verte   \n",
       "2                                           Matrix   \n",
       "3                                   Eyes Wide Shut   \n",
       "4                                       Fight Club   \n",
       "..                                             ...   \n",
       "802                          Un vampire à Brooklyn   \n",
       "803                                      Fair Game   \n",
       "804                           Les Maitres du monde   \n",
       "805  Halloween 6 : La Malédiction de Michael Myers   \n",
       "806                                     Candyman 2   \n",
       "\n",
       "                            original_title  \\\n",
       "0                       The Straight Story   \n",
       "1                           The Green Mile   \n",
       "2                               The Matrix   \n",
       "3                           Eyes Wide Shut   \n",
       "4                               Fight Club   \n",
       "..                                     ...   \n",
       "802                    Vampire in Brooklyn   \n",
       "803                              Fair Game   \n",
       "804                     The Puppet Masters   \n",
       "805  Halloween: The Curse of Michael Myers   \n",
       "806       Candyman : Farewell to the Flesh   \n",
       "\n",
       "                                               summary  \\\n",
       "0    Alvin Straight, vétéran de 73 ans, vit avec sa...   \n",
       "1    Paul Edgecomb, pensionnaire centenaire d'une m...   \n",
       "2    Programmeur anonyme dans un service administra...   \n",
       "3    William Harford, médecin, mène une paisible ex...   \n",
       "4    Le narrateur, sans identité précise, vit seul,...   \n",
       "..                                                 ...   \n",
       "802  Maximillian appartient à une longue lignée de ...   \n",
       "803  Pour avoir menacé son ex-mari de faire saisir ...   \n",
       "804  Sam Nivens, jeune agent du gouvernement, est e...   \n",
       "805  Dix ans après avoir terrorisé la petite ville ...   \n",
       "806  La liaison illicite et tragique d'un jeune art...   \n",
       "\n",
       "                                         url_thumbnail  \n",
       "0    https://fr.web.img6.acsta.net/c_310_420/pictur...  \n",
       "1    https://fr.web.img2.acsta.net/c_310_420/medias...  \n",
       "2    https://fr.web.img4.acsta.net/c_310_420/medias...  \n",
       "3    https://fr.web.img6.acsta.net/c_310_420/medias...  \n",
       "4    https://fr.web.img6.acsta.net/c_310_420/pictur...  \n",
       "..                                                 ...  \n",
       "802  https://fr.web.img6.acsta.net/c_310_420/medias...  \n",
       "803  https://fr.web.img2.acsta.net/c_310_420/medias...  \n",
       "804  https://fr.web.img2.acsta.net/c_310_420/medias...  \n",
       "805  https://fr.web.img4.acsta.net/c_310_420/medias...  \n",
       "806  https://fr.web.img4.acsta.net/c_310_420/pictur...  \n",
       "\n",
       "[807 rows x 4 columns]"
      ]
     },
     "execution_count": 138,
     "metadata": {},
     "output_type": "execute_result"
    }
   ],
   "source": [
    "# df_movies = pd.read_csv('csv/movies_year_1982.csv', delimiter = ',')\n",
    "# df_movies = pd.read_csv('csv/movies_decade_80.csv', delimiter = ',')\n",
    "df_movies = pd.read_csv('csv/movies_year_1995_to_2000.csv', delimiter = ',', usecols=['title', 'original_title', 'summary', 'url_thumbnail'])\n",
    "print(\"Nb movies :\", df_movies.shape[0])\n",
    "df_movies"
   ]
  },
  {
   "cell_type": "code",
   "execution_count": 131,
   "metadata": {},
   "outputs": [],
   "source": [
    "def format_string(st):\n",
    "    ''' format string \n",
    "        from \"title of the movie\" \n",
    "        to title+of+the+movie\n",
    "\n",
    "        Arg: st string to be converted.\n",
    "    '''\n",
    "    res = ''\n",
    "    for c in st:\n",
    "        if c.isdigit() or c.isalpha() or c.isspace():\n",
    "            res += unidecode(c)\n",
    "        else:\n",
    "            res += ' '\n",
    "    return '+'.join([word for word in res.split() if len(word) > 1])\n",
    "\n",
    "def request_omdb_from_title(title):\n",
    "    ''' Request the omdb API\n",
    "    \n",
    "        return a json dictionary with the information about the movie.\n",
    "\n",
    "        Arg:\n",
    "         - title: string with title of the movie we want the infos about.\n",
    "    '''\n",
    "    url = f\"https://www.omdbapi.com/?apikey={api_key}&t={format_string(title)}\"\n",
    "    r = requests.get(url)\n",
    "    if r.status_code != 200:\n",
    "        print(f\"ERROR {title}, Response Code: {r.status_code}\")\n",
    "        print(\"Request:\", url)\n",
    "        return {'Response': 'False'}\n",
    "    return json.loads(r.text)\n",
    "\n",
    "def get_plot_and_thumbail_from_omdb(title):\n",
    "    ''' return movie plot and thumbail through an API request.\n",
    "        \n",
    "        return: \n",
    "          - plot:      string containing the plot of the movie,\n",
    "          - thumbnail: string containing the url of the thumbnail.\n",
    "\n",
    "        Arg: title: string with the title of the movie.\n",
    "    '''\n",
    "    plot, thumbnail = '', ''\n",
    "    res_dict = request_omdb_from_title(title)\n",
    "    lst_keys = res_dict.keys()\n",
    "    assert 'Response' in res_dict\n",
    "    if res_dict['Response'] == 'True':\n",
    "        # print('res_dict', res_dict)\n",
    "        assert 'Plot' in lst_keys and 'Poster' in lst_keys\n",
    "        if res_dict['Plot'] != 'N/A':\n",
    "            plot = res_dict['Plot']\n",
    "        if res_dict['Poster'] != '' and res_dict['Poster'] != 'N/A':\n",
    "            thumbnail = res_dict['Poster']\n",
    "    return plot + \"AND\" + thumbnail"
   ]
  },
  {
   "cell_type": "markdown",
   "metadata": {},
   "source": [
    "## **Get the plot and the thumbnail from the omdb API**"
   ]
  },
  {
   "cell_type": "code",
   "execution_count": null,
   "metadata": {},
   "outputs": [],
   "source": [
    "df_movies['temp']      = df_movies['original_title'].apply(get_plot_and_thumbail_from_omdb)\n",
    "df_movies['plot']      = df_movies['temp'].apply(lambda x : x.split('AND')[0])\n",
    "df_movies['thumbnail'] = df_movies['temp'].apply(lambda x : x.split('AND')[1])\n",
    "df_movies['plot']          = np.where(df_movies['plot'] != '', df_movies['plot'], df_movies['summary'])\n",
    "df_movies['url_thumbnail'] = np.where(df_movies['thumbnail'] != '', df_movies['thumbnail'], df_movies['url_thumbnail'])\n",
    "df_movies = df_movies[['title', 'original_title', 'plot', 'url_thumbnail']]"
   ]
  },
  {
   "cell_type": "markdown",
   "metadata": {},
   "source": [
    "## **Store the data in a NoSQL database**"
   ]
  },
  {
   "cell_type": "code",
   "execution_count": 134,
   "metadata": {},
   "outputs": [],
   "source": [
    "# Connect to MongoDB\n",
    "client = pymongo.MongoClient(\"mongodb://localhost:27017/\")\n",
    "\n",
    "# Create database \"allocine\" (or selects it if already exists)\n",
    "mydb = client[\"allocine\"]\n",
    "# client.drop_database(\"movies\")\n",
    "\n",
    "# Create a collection \"movies\" (table in SQL)\n",
    "col_movies = mydb[\"movies\"]\n",
    "# col_movies.drop()"
   ]
  },
  {
   "cell_type": "code",
   "execution_count": null,
   "metadata": {},
   "outputs": [
    {
     "name": "stdout",
     "output_type": "stream",
     "text": [
      "['Rennes', 'Rennes2', 'admin', 'allocine', 'config', 'local', 'mydatabase']\n",
      "['movies']\n",
      "{'_id': ObjectId('67abbeaf1e1d959e84245680'),\n",
      " 'original_title': \"L'Armée des Ombres\",\n",
      " 'plot': 'France 1942. Gerbier, ingénieur des Ponts et Chaussées est également '\n",
      "         \"l'un des chefs de la Résistance. Dénoncé et capturé, il est \"\n",
      "         \"incarcéré dans un camp de prisonniers. Alors qu'il \",\n",
      " 'title': \"L'Armée des Ombres\",\n",
      " 'url_thumbnail': 'https://fr.web.img4.acsta.net/c_310_420/img/23/c1/23c1acd5c06be11bc9a64f448dae49f4.jpg'}\n",
      "{'_id': ObjectId('67abbeaf1e1d959e84245681'),\n",
      " 'original_title': 'Easy Rider',\n",
      " 'plot': 'Two bikers head from L.A. to New Orleans through the open country '\n",
      "         'and desert lands, and along the way they meet a man who bridges a '\n",
      "         'counter-culture gap of which they had been unaware.',\n",
      " 'title': 'Easy Rider',\n",
      " 'url_thumbnail': 'https://m.media-amazon.com/images/M/MV5BMTc2MjI2NDc4Ml5BMl5BanBnXkFtZTgwODI4NzU0MTI@._V1_SX300.jpg'}\n",
      "{'_id': ObjectId('67abbeaf1e1d959e84245682'),\n",
      " 'original_title': 'Un homme qui me plaît',\n",
      " 'plot': \"Au cours d'un tournage à Los Angeles, une actrice, Françoise, et un \"\n",
      "         \"compositeur, Henri, tombent amoureux l'un de l'autre.\",\n",
      " 'title': 'Un homme qui me plaît',\n",
      " 'url_thumbnail': 'https://fr.web.img3.acsta.net/c_310_420/pictures/23/01/10/16/45/2561549.jpg'}\n",
      "{'_id': ObjectId('67abbeaf1e1d959e84245683'),\n",
      " 'original_title': 'Z',\n",
      " 'plot': 'Un député progressiste est assassiné dans un pays méditerranéen. Le '\n",
      "         \"juge d'instruction s'occupant de l'enquête met en évidence, dans ce \"\n",
      "         \"crime, la participation de l'armée et de la \",\n",
      " 'title': 'Z',\n",
      " 'url_thumbnail': 'https://fr.web.img6.acsta.net/c_310_420/pictures/15/05/18/14/41/253616.jpg'}\n",
      "{'_id': ObjectId('67abbeaf1e1d959e84245684'),\n",
      " 'original_title': 'Butch Cassidy and the Sundance Kid',\n",
      " 'plot': 'In 1890s Wyoming, Butch Cassidy and The Sundance Kid lead a band of '\n",
      "         'outlaws. When a train robbery goes wrong, they find themselves on '\n",
      "         'the run with a posse hard on their heels..',\n",
      " 'title': 'Butch Cassidy et le Kid',\n",
      " 'url_thumbnail': 'https://m.media-amazon.com/images/M/MV5BMTkyMTM2NDk5Nl5BMl5BanBnXkFtZTgwNzY1NzEyMDE@._V1_SX300.jpg'}\n"
     ]
    }
   ],
   "source": [
    "# Insertion of movie plots in MongoDB database\n",
    "col_movies.insert_many(df_movies.to_dict(orient='records')) # TO DO ONLY ONCE\n",
    "# col_movies.drop()\n",
    "\n",
    "print(client.list_database_names())\n",
    "print(mydb.list_collection_names())\n",
    "\n",
    "# for doc in list(col_movies.find().limit(5)):\n",
    "#     pprint.pprint(doc)"
   ]
  },
  {
   "cell_type": "code",
   "execution_count": 136,
   "metadata": {},
   "outputs": [
    {
     "name": "stdout",
     "output_type": "stream",
     "text": [
      "Nb documents: 2650\n"
     ]
    }
   ],
   "source": [
    "print(\"Nb documents:\", col_movies.count_documents({}))"
   ]
  },
  {
   "cell_type": "markdown",
   "metadata": {},
   "source": [
    "## **Checking what is in the Mongo DB**"
   ]
  },
  {
   "cell_type": "code",
   "execution_count": null,
   "metadata": {},
   "outputs": [
    {
     "name": "stdout",
     "output_type": "stream",
     "text": [
      "518\n",
      "678\n",
      "869\n",
      "585\n",
      "807\n",
      "Nb documents: 2650\n",
      "2650\n"
     ]
    },
    {
     "data": {
      "text/plain": [
       "True"
      ]
     },
     "execution_count": 137,
     "metadata": {},
     "output_type": "execute_result"
    }
   ],
   "source": [
    "df1 = pd.read_csv('csv/movies_year_1960_to_1970.csv', delimiter = ',', usecols=['title', 'original_title', 'summary', 'url_thumbnail'])\n",
    "df2 = pd.read_csv('csv/movies_year_1970_to_1980.csv', delimiter = ',', usecols=['title', 'original_title', 'summary', 'url_thumbnail'])\n",
    "df3 = pd.read_csv('csv/movies_year_1980_to_1990.csv', delimiter = ',', usecols=['title', 'original_title', 'summary', 'url_thumbnail'])\n",
    "df4 = pd.read_csv('csv/movies_year_1990_to_1995.csv', delimiter = ',', usecols=['title', 'original_title', 'summary', 'url_thumbnail'])\n",
    "df5 = pd.read_csv('csv/movies_year_1995_to_2000.csv', delimiter = ',', usecols=['title', 'original_title', 'summary', 'url_thumbnail'])\n",
    "\n",
    "df_csv = pd.concat([df1, df2, df3, df4, df5])\n",
    "# print(df_csv.shape[0])\n",
    "for df in [df1, df2, df3, df4, df5]:\n",
    "    print(df.shape[0])\n",
    "\n",
    "# Reading data fmo Mongo DB\n",
    "client = pymongo.MongoClient(\"mongodb://localhost:27017/\")\n",
    "mydb = client[\"allocine\"]\n",
    "col_movies = mydb[\"movies\"]\n",
    "print(\"Nb documents:\", col_movies.count_documents({}))\n",
    "\n",
    "lst = list(col_movies.find())\n",
    "df_mongo = pd.DataFrame(lst, columns = ['_id', 'title', 'original_title', 'plot', 'url_thumbnail'])\n",
    "print(df_mongo.shape[0])\n",
    "\n",
    "# Saving Mongo DB Data into CSV\n",
    "df_mongo.to_csv('csv/mongoDB.csv', sep=',', index = False)\n",
    "df_mongo.tail(3)\n",
    "\n",
    "518 + 678 + 869 + 585 == 2650 # 1960 to 1995"
   ]
  },
  {
   "cell_type": "markdown",
   "metadata": {},
   "source": [
    "## **Query MongoDB Using PyMongo**"
   ]
  },
  {
   "cell_type": "markdown",
   "metadata": {},
   "source": [
    "### **We create another DB**"
   ]
  },
  {
   "cell_type": "code",
   "execution_count": 157,
   "metadata": {},
   "outputs": [
    {
     "name": "stdout",
     "output_type": "stream",
     "text": [
      "['Rennes', 'Rennes2', 'admin', 'allocine', 'config', 'local', 'mydatabase', 'test_queries']\n",
      "['fruits']\n"
     ]
    }
   ],
   "source": [
    "client2 = pymongo.MongoClient(\"mongodb://localhost:27017/\")\n",
    "mydb2 = client2[\"test_queries\"]\n",
    "# client.drop_database(\"test_queries\")\n",
    "\n",
    "# Create a collection \"movies\" (table in SQL)\n",
    "col_fruits = mydb2[\"fruits\"]\n",
    "# col_fruits.drop()\n",
    "\n",
    "col_fruits.insert_many([\n",
    "        # { \"_id\": 1, \"name\": \"apples\", \"qty\": 5, \"rating\": 3, \"color\": \"red\", \"type\": [\"fuji\", \"honeycrisp\"] },\n",
    "        # { \"_id\": 2, \"name\": \"bananas\", \"qty\": 7, \"rating\": 4, \"color\": \"yellow\", \"type\": [\"cavendish\"] },\n",
    "        # { \"_id\": 3, \"name\": \"oranges\", \"qty\": 6, \"rating\": 2, \"type\": [\"naval\", \"mandarin\"] },\n",
    "        # { \"_id\": 4, \"name\": \"pineapple\", \"qty\": 3, \"rating\": 5, \"color\": \"yellow\" },\n",
    "        { \"_id\": 5, \"name\": \"test\", \"qty\": 10, \"rating\": 3, \"color\": \"green\", \"type\": [\"fuji\", \"typeXXX\"] },\n",
    "    ])\n",
    "# col_fruits.drop()\n",
    "\n",
    "print(client2.list_database_names())\n",
    "print(mydb2.list_collection_names())"
   ]
  },
  {
   "cell_type": "markdown",
   "metadata": {},
   "source": [
    "**Sources**<br>\n",
    "https://www.mongodb.com/docs/languages/python/pymongo-driver/current/read/specify-a-query/<br>\n",
    "https://www.w3resource.com/mongodb/introduction-mongodb.php<br>\n",
    "https://www.mongodbtutorial.org/mongodb-crud/mongodb-findone/<br>\n",
    "https://geekflare.com/fr/mongodb-queries-examples/<br>\n"
   ]
  },
  {
   "cell_type": "markdown",
   "metadata": {},
   "source": [
    "**Exact Match**"
   ]
  },
  {
   "cell_type": "code",
   "execution_count": 142,
   "metadata": {},
   "outputs": [
    {
     "data": {
      "text/plain": [
       "[{'_id': ObjectId('67abbeaf1e1d959e84245693'),\n",
       "  'title': 'Médée',\n",
       "  'original_title': 'Medea',\n",
       "  'plot': \"After his quest to retrieve the fabled Golden Fleece, Jason returns to Greece with powerful sorceress Medea. However, when the king banishes her, it's only human that Medea plots her furious revenge. Can they escape her wrath?\",\n",
       "  'url_thumbnail': 'https://m.media-amazon.com/images/M/MV5BODliMTQzNGQtNTNlNi00OGIyLTkzMWYtNzRkNThlYjJlNjhiXkEyXkFqcGc@._V1_SX300.jpg'}]"
      ]
     },
     "execution_count": 142,
     "metadata": {},
     "output_type": "execute_result"
    }
   ],
   "source": [
    "results = col_movies.find({ \"title\": \"Médée\" })\n",
    "results.to_list()"
   ]
  },
  {
   "cell_type": "code",
   "execution_count": 144,
   "metadata": {},
   "outputs": [
    {
     "data": {
      "text/plain": [
       "[{'_id': 2,\n",
       "  'name': 'bananas',\n",
       "  'qty': 7,\n",
       "  'rating': 4,\n",
       "  'color': 'yellow',\n",
       "  'type': ['cavendish']},\n",
       " {'_id': 4, 'name': 'pineapple', 'qty': 3, 'rating': 5, 'color': 'yellow'}]"
      ]
     },
     "execution_count": 144,
     "metadata": {},
     "output_type": "execute_result"
    }
   ],
   "source": [
    "results = col_fruits.find({ \"color\": \"yellow\" })\n",
    "results.to_list()"
   ]
  },
  {
   "cell_type": "markdown",
   "metadata": {},
   "source": [
    "**Comparison operators**\n",
    "\n",
    "list of operators: https://www.mongodb.com/docs/manual/reference/operator/query-comparison/"
   ]
  },
  {
   "cell_type": "code",
   "execution_count": 143,
   "metadata": {},
   "outputs": [
    {
     "name": "stdout",
     "output_type": "stream",
     "text": [
      "{'_id': 1, 'name': 'apples', 'qty': 5, 'rating': 3, 'color': 'red', 'type': ['fuji', 'honeycrisp']}\n",
      "{'_id': 2, 'name': 'bananas', 'qty': 7, 'rating': 4, 'color': 'yellow', 'type': ['cavendish']}\n",
      "{'_id': 4, 'name': 'pineapple', 'qty': 3, 'rating': 5, 'color': 'yellow'}\n"
     ]
    }
   ],
   "source": [
    "results = col_fruits.find({ \"rating\": { \"$gt\" : 2 }})\n",
    "for f in results:\n",
    "    print(f) "
   ]
  },
  {
   "cell_type": "markdown",
   "metadata": {},
   "source": [
    "**Logical operators**\n",
    "\n",
    "https://www.mongodb.com/docs/manual/reference/operator/query-logical/"
   ]
  },
  {
   "cell_type": "code",
   "execution_count": 147,
   "metadata": {},
   "outputs": [
    {
     "name": "stdout",
     "output_type": "stream",
     "text": [
      "{'_id': 2, 'name': 'bananas', 'qty': 7, 'rating': 4, 'color': 'yellow', 'type': ['cavendish']}\n",
      "{'_id': 3, 'name': 'oranges', 'qty': 6, 'rating': 2, 'type': ['naval', 'mandarin']}\n",
      "{'_id': 4, 'name': 'pineapple', 'qty': 3, 'rating': 5, 'color': 'yellow'}\n"
     ]
    }
   ],
   "source": [
    "results = col_fruits.find({ \n",
    "    \"$or\": [\n",
    "        { \"qty\": { \"$gt\": 5 }},\n",
    "        { \"color\": \"yellow\" }\n",
    "    ]\n",
    "})\n",
    "for f in results:\n",
    "    print(f)"
   ]
  },
  {
   "cell_type": "markdown",
   "metadata": {},
   "source": [
    "**Arrays operators**\n",
    "\n",
    "https://www.mongodb.com/docs/manual/reference/operator/query-array/"
   ]
  },
  {
   "cell_type": "code",
   "execution_count": 158,
   "metadata": {},
   "outputs": [
    {
     "name": "stdout",
     "output_type": "stream",
     "text": [
      "{'_id': 1, 'name': 'apples', 'qty': 5, 'rating': 3, 'color': 'red', 'type': ['fuji', 'honeycrisp']}\n",
      "{'_id': 2, 'name': 'bananas', 'qty': 7, 'rating': 4, 'color': 'yellow', 'type': ['cavendish']}\n",
      "{'_id': 3, 'name': 'oranges', 'qty': 6, 'rating': 2, 'type': ['naval', 'mandarin']}\n",
      "{'_id': 4, 'name': 'pineapple', 'qty': 3, 'rating': 5, 'color': 'yellow'}\n",
      "{'_id': 5, 'name': 'test', 'qty': 10, 'rating': 3, 'color': 'green', 'type': ['fuji', 'typeXXX']}\n",
      "----\n",
      "{'_id': 1, 'name': 'apples', 'qty': 5, 'rating': 3, 'color': 'red', 'type': ['fuji', 'honeycrisp']}\n",
      "{'_id': 3, 'name': 'oranges', 'qty': 6, 'rating': 2, 'type': ['naval', 'mandarin']}\n",
      "{'_id': 5, 'name': 'test', 'qty': 10, 'rating': 3, 'color': 'green', 'type': ['fuji', 'typeXXX']}\n"
     ]
    }
   ],
   "source": [
    "for f in col_fruits.find({}):\n",
    "    print(f)\n",
    "\n",
    "print('----')\n",
    "results = col_fruits.find({\n",
    "    \"type\" : { \"$size\": 2 }\n",
    "})\n",
    "\n",
    "for f in results:\n",
    "    print(f)"
   ]
  },
  {
   "cell_type": "code",
   "execution_count": 159,
   "metadata": {},
   "outputs": [
    {
     "name": "stdout",
     "output_type": "stream",
     "text": [
      "{'_id': 1, 'name': 'apples', 'qty': 5, 'rating': 3, 'color': 'red', 'type': ['fuji', 'honeycrisp']}\n",
      "{'_id': 5, 'name': 'test', 'qty': 10, 'rating': 3, 'color': 'green', 'type': ['fuji', 'typeXXX']}\n"
     ]
    }
   ],
   "source": [
    "results = col_fruits.find({\n",
    "    \"type\" : { \"$all\": ['fuji'] }\n",
    "})\n",
    "\n",
    "for f in results:\n",
    "    print(f)"
   ]
  },
  {
   "cell_type": "markdown",
   "metadata": {},
   "source": [
    "**Element Operator**\n",
    "\n",
    "to check if a field exists"
   ]
  },
  {
   "cell_type": "code",
   "execution_count": 160,
   "metadata": {},
   "outputs": [
    {
     "name": "stdout",
     "output_type": "stream",
     "text": [
      "{'_id': 1, 'name': 'apples', 'qty': 5, 'rating': 3, 'color': 'red', 'type': ['fuji', 'honeycrisp']}\n",
      "{'_id': 2, 'name': 'bananas', 'qty': 7, 'rating': 4, 'color': 'yellow', 'type': ['cavendish']}\n",
      "{'_id': 4, 'name': 'pineapple', 'qty': 3, 'rating': 5, 'color': 'yellow'}\n",
      "{'_id': 5, 'name': 'test', 'qty': 10, 'rating': 3, 'color': 'green', 'type': ['fuji', 'typeXXX']}\n"
     ]
    }
   ],
   "source": [
    "results = col_fruits.find( { \"color\" : { \"$exists\": \"true\" }} )\n",
    "for f in results:\n",
    "    print(f)"
   ]
  },
  {
   "cell_type": "markdown",
   "metadata": {},
   "source": [
    "**Evaluation operators**\n",
    "\n",
    "https://www.mongodb.com/docs/manual/reference/operator/query-evaluation/"
   ]
  },
  {
   "cell_type": "code",
   "execution_count": null,
   "metadata": {},
   "outputs": [
    {
     "name": "stdout",
     "output_type": "stream",
     "text": [
      "{'_id': 1, 'name': 'apples', 'qty': 5, 'rating': 3, 'color': 'red', 'type': ['fuji', 'honeycrisp']}\n",
      "{'_id': 4, 'name': 'pineapple', 'qty': 3, 'rating': 5, 'color': 'yellow'}\n"
     ]
    }
   ],
   "source": [
    "results = col_fruits.find({ \"name\" : { \"$regex\" : \"p{2,}\" }} ) ## At least 2 consecutives p\n",
    "for f in results:\n",
    "    print(f)"
   ]
  },
  {
   "cell_type": "markdown",
   "metadata": {},
   "source": []
  }
 ],
 "metadata": {
  "kernelspec": {
   "display_name": "block1",
   "language": "python",
   "name": "python3"
  },
  "language_info": {
   "codemirror_mode": {
    "name": "ipython",
    "version": 3
   },
   "file_extension": ".py",
   "mimetype": "text/x-python",
   "name": "python",
   "nbconvert_exporter": "python",
   "pygments_lexer": "ipython3",
   "version": "3.12.8"
  }
 },
 "nbformat": 4,
 "nbformat_minor": 2
}
