{
 "cells": [
  {
   "cell_type": "markdown",
   "metadata": {},
   "source": [
    "# <center> **Requesting an external API**"
   ]
  },
  {
   "cell_type": "markdown",
   "metadata": {},
   "source": [
    "A partir d'une liste de titres de films nous allons requêter l'API publique [https://www.omdbapi.com](https://www.omdbapi.com)\n",
    "\n",
    "\n"
   ]
  },
  {
   "cell_type": "code",
   "execution_count": null,
   "metadata": {},
   "outputs": [],
   "source": [
    "%reset"
   ]
  },
  {
   "cell_type": "markdown",
   "metadata": {},
   "source": [
    "## **Imports**"
   ]
  },
  {
   "cell_type": "code",
   "execution_count": null,
   "metadata": {},
   "outputs": [],
   "source": [
    "import math\n",
    "import copy\n",
    "import re\n",
    "import json\n",
    "import requests\n",
    "import numpy as np\n",
    "import pandas as pd\n",
    "from tqdm import tqdm\n",
    "from unidecode import unidecode\n",
    "\n",
    "# MongoDB / Pymongo\n",
    "import pymongo\n",
    "from pymongo.mongo_client import MongoClient\n",
    "from pymongo.server_api import ServerApi\n",
    "import pprint\n",
    "\n",
    "pd.set_option('display.max_rows', 10)\n",
    "tqdm.pandas()\n",
    "\n",
    "api_key = \"b8dd5759\""
   ]
  },
  {
   "cell_type": "markdown",
   "metadata": {},
   "source": [
    "## **Reading the data**\n"
   ]
  },
  {
   "cell_type": "code",
   "execution_count": 22,
   "metadata": {},
   "outputs": [
    {
     "name": "stdout",
     "output_type": "stream",
     "text": [
      "Nb movies : 518\n"
     ]
    },
    {
     "data": {
      "text/html": [
       "<div>\n",
       "<style scoped>\n",
       "    .dataframe tbody tr th:only-of-type {\n",
       "        vertical-align: middle;\n",
       "    }\n",
       "\n",
       "    .dataframe tbody tr th {\n",
       "        vertical-align: top;\n",
       "    }\n",
       "\n",
       "    .dataframe thead th {\n",
       "        text-align: right;\n",
       "    }\n",
       "</style>\n",
       "<table border=\"1\" class=\"dataframe\">\n",
       "  <thead>\n",
       "    <tr style=\"text-align: right;\">\n",
       "      <th></th>\n",
       "      <th>original_title</th>\n",
       "      <th>summary</th>\n",
       "    </tr>\n",
       "  </thead>\n",
       "  <tbody>\n",
       "    <tr>\n",
       "      <th>0</th>\n",
       "      <td>L'Armée des Ombres</td>\n",
       "      <td>France 1942. Gerbier, ingénieur des Ponts et C...</td>\n",
       "    </tr>\n",
       "    <tr>\n",
       "      <th>1</th>\n",
       "      <td>Easy Rider</td>\n",
       "      <td>Billy et Captain America disposent d'une gross...</td>\n",
       "    </tr>\n",
       "    <tr>\n",
       "      <th>2</th>\n",
       "      <td>Un homme qui me plaît</td>\n",
       "      <td>Au cours d'un tournage à Los Angeles, une actr...</td>\n",
       "    </tr>\n",
       "    <tr>\n",
       "      <th>3</th>\n",
       "      <td>Z</td>\n",
       "      <td>Un député progressiste est assassiné dans un p...</td>\n",
       "    </tr>\n",
       "    <tr>\n",
       "      <th>4</th>\n",
       "      <td>Butch Cassidy and the Sundance Kid</td>\n",
       "      <td>Au début du XXe siècle, Butch Cassidy et son a...</td>\n",
       "    </tr>\n",
       "    <tr>\n",
       "      <th>...</th>\n",
       "      <td>...</td>\n",
       "      <td>...</td>\n",
       "    </tr>\n",
       "    <tr>\n",
       "      <th>513</th>\n",
       "      <td>Ocean's 11</td>\n",
       "      <td>Gros casse à Las Vegas. Onze amis vétérans de ...</td>\n",
       "    </tr>\n",
       "    <tr>\n",
       "      <th>514</th>\n",
       "      <td>Home from the Hill</td>\n",
       "      <td>Un grand propriétaire du Sud tyrannise sa femm...</td>\n",
       "    </tr>\n",
       "    <tr>\n",
       "      <th>515</th>\n",
       "      <td>Die 1000 Augen des Dr. Mabuse</td>\n",
       "      <td>Un journaliste est tué dans sa voiture sur la ...</td>\n",
       "    </tr>\n",
       "    <tr>\n",
       "      <th>516</th>\n",
       "      <td>The Brides of Dracula</td>\n",
       "      <td>Marianne a accepté un poste d’institutrice dan...</td>\n",
       "    </tr>\n",
       "    <tr>\n",
       "      <th>517</th>\n",
       "      <td>Two Rode Together</td>\n",
       "      <td>Le shérif Guthrie McCabe, fumeur et alcoolique...</td>\n",
       "    </tr>\n",
       "  </tbody>\n",
       "</table>\n",
       "<p>518 rows × 2 columns</p>\n",
       "</div>"
      ],
      "text/plain": [
       "                         original_title  \\\n",
       "0                    L'Armée des Ombres   \n",
       "1                            Easy Rider   \n",
       "2                 Un homme qui me plaît   \n",
       "3                                     Z   \n",
       "4    Butch Cassidy and the Sundance Kid   \n",
       "..                                  ...   \n",
       "513                          Ocean's 11   \n",
       "514                  Home from the Hill   \n",
       "515       Die 1000 Augen des Dr. Mabuse   \n",
       "516               The Brides of Dracula   \n",
       "517                   Two Rode Together   \n",
       "\n",
       "                                               summary  \n",
       "0    France 1942. Gerbier, ingénieur des Ponts et C...  \n",
       "1    Billy et Captain America disposent d'une gross...  \n",
       "2    Au cours d'un tournage à Los Angeles, une actr...  \n",
       "3    Un député progressiste est assassiné dans un p...  \n",
       "4    Au début du XXe siècle, Butch Cassidy et son a...  \n",
       "..                                                 ...  \n",
       "513  Gros casse à Las Vegas. Onze amis vétérans de ...  \n",
       "514  Un grand propriétaire du Sud tyrannise sa femm...  \n",
       "515  Un journaliste est tué dans sa voiture sur la ...  \n",
       "516  Marianne a accepté un poste d’institutrice dan...  \n",
       "517  Le shérif Guthrie McCabe, fumeur et alcoolique...  \n",
       "\n",
       "[518 rows x 2 columns]"
      ]
     },
     "execution_count": 22,
     "metadata": {},
     "output_type": "execute_result"
    }
   ],
   "source": [
    "# df_movies = pd.read_csv('csv/movies_year_1982.csv', delimiter = ',')\n",
    "# df_movies = pd.read_csv('csv/movies_decade_80.csv', delimiter = ',')\n",
    "df_movies = pd.read_csv('csv/movies_year_1960_to_1970.csv', delimiter = ',', usecols=['original_title', 'summary'])\n",
    "print(\"Nb movies :\", df_movies.shape[0])\n",
    "df_movies"
   ]
  },
  {
   "cell_type": "code",
   "execution_count": 28,
   "metadata": {},
   "outputs": [],
   "source": [
    "def format_string(st):\n",
    "    ''' format string \n",
    "        from \"title of the movie\" \n",
    "        to title+of+the+movie\n",
    "\n",
    "        Arg: st string to be converted.\n",
    "    '''\n",
    "    res = ''\n",
    "    for c in st:\n",
    "        if c.isdigit() or c.isalpha() or c.isspace():\n",
    "            res += unidecode(c)\n",
    "        else:\n",
    "            res += ' '\n",
    "    return '+'.join([word for word in res.split() if len(word) > 1])\n",
    "\n",
    "def request_omdb_from_title(title):\n",
    "    ''' Request the omdb API\n",
    "    \n",
    "        return a json dictionary with the information about the movie.\n",
    "\n",
    "        Arg:\n",
    "         - title: string with title of the movie we want the infos about.\n",
    "    '''\n",
    "    url = f\"https://www.omdbapi.com/?apikey={api_key}&t={format_string(title)}\"\n",
    "    r = requests.get(url)\n",
    "    if r.status_code != 200:\n",
    "        print(f\"ERROR {title}, Response Code: {r.status_code}\")\n",
    "        print(\"Request:\", url)\n",
    "        return {'Response': 'False'}\n",
    "    return json.loads(r.text)\n",
    "\n",
    "# print(request_omdb_from_title(\"Moi, Christiane F., 13 ans, droguée, prostituée...\"))\n",
    "# print(request_omdb_from_title(\"Christiane droguée\"))\n",
    "# print(request_omdb_from_title(\"Le Père Noël est une ordure\"))\n",
    "# print(request_omdb_from_title(\"Y a-t-il un Français Dans la Salle ?\"))\n",
    "# print(request_omdb_from_title(\"Travail au noir\"))\n",
    "\n",
    "def get_movie_plot_from_omdb(title):\n",
    "    ''' return plot of a movie from its title through an API request.\n",
    "        \n",
    "        return: string containing the plot of the movie,\n",
    "        Arg: title: string with the title of the movie.\n",
    "    '''\n",
    "    res_dict = request_omdb_from_title(title)\n",
    "    assert 'Response' in res_dict\n",
    "    if res_dict['Response'] == 'True':\n",
    "        # print('res_dict', res_dict)\n",
    "        if res_dict:\n",
    "            assert 'Plot' in list(res_dict.keys())\n",
    "            if res_dict['Plot'] != 'N/A':\n",
    "                return res_dict['Plot']\n",
    "    return ''"
   ]
  },
  {
   "cell_type": "markdown",
   "metadata": {},
   "source": [
    "## **Get the plot from the omdb API**"
   ]
  },
  {
   "cell_type": "code",
   "execution_count": 29,
   "metadata": {},
   "outputs": [
    {
     "data": {
      "text/html": [
       "<div>\n",
       "<style scoped>\n",
       "    .dataframe tbody tr th:only-of-type {\n",
       "        vertical-align: middle;\n",
       "    }\n",
       "\n",
       "    .dataframe tbody tr th {\n",
       "        vertical-align: top;\n",
       "    }\n",
       "\n",
       "    .dataframe thead th {\n",
       "        text-align: right;\n",
       "    }\n",
       "</style>\n",
       "<table border=\"1\" class=\"dataframe\">\n",
       "  <thead>\n",
       "    <tr style=\"text-align: right;\">\n",
       "      <th></th>\n",
       "      <th>original_title</th>\n",
       "      <th>summary</th>\n",
       "    </tr>\n",
       "  </thead>\n",
       "  <tbody>\n",
       "    <tr>\n",
       "      <th>0</th>\n",
       "      <td>L'Armée des Ombres</td>\n",
       "      <td>France 1942. Gerbier, ingénieur des Ponts et C...</td>\n",
       "    </tr>\n",
       "    <tr>\n",
       "      <th>1</th>\n",
       "      <td>Easy Rider</td>\n",
       "      <td>Billy et Captain America disposent d'une gross...</td>\n",
       "    </tr>\n",
       "    <tr>\n",
       "      <th>2</th>\n",
       "      <td>Un homme qui me plaît</td>\n",
       "      <td>Au cours d'un tournage à Los Angeles, une actr...</td>\n",
       "    </tr>\n",
       "    <tr>\n",
       "      <th>3</th>\n",
       "      <td>Z</td>\n",
       "      <td>Un député progressiste est assassiné dans un p...</td>\n",
       "    </tr>\n",
       "  </tbody>\n",
       "</table>\n",
       "</div>"
      ],
      "text/plain": [
       "          original_title                                            summary\n",
       "0     L'Armée des Ombres  France 1942. Gerbier, ingénieur des Ponts et C...\n",
       "1             Easy Rider  Billy et Captain America disposent d'une gross...\n",
       "2  Un homme qui me plaît  Au cours d'un tournage à Los Angeles, une actr...\n",
       "3                      Z  Un député progressiste est assassiné dans un p..."
      ]
     },
     "execution_count": 29,
     "metadata": {},
     "output_type": "execute_result"
    }
   ],
   "source": [
    "df_test = df_movies[:4]\n",
    "df_test"
   ]
  },
  {
   "cell_type": "code",
   "execution_count": 30,
   "metadata": {},
   "outputs": [
    {
     "name": "stderr",
     "output_type": "stream",
     "text": [
      "C:\\Users\\Utilisateur\\AppData\\Local\\Temp\\ipykernel_19684\\3294076993.py:2: SettingWithCopyWarning: \n",
      "A value is trying to be set on a copy of a slice from a DataFrame.\n",
      "Try using .loc[row_indexer,col_indexer] = value instead\n",
      "\n",
      "See the caveats in the documentation: https://pandas.pydata.org/pandas-docs/stable/user_guide/indexing.html#returning-a-view-versus-a-copy\n",
      "  df_test['plot'] = df_test['original_title'].apply(get_movie_plot_from_omdb)\n"
     ]
    },
    {
     "data": {
      "text/html": [
       "<div>\n",
       "<style scoped>\n",
       "    .dataframe tbody tr th:only-of-type {\n",
       "        vertical-align: middle;\n",
       "    }\n",
       "\n",
       "    .dataframe tbody tr th {\n",
       "        vertical-align: top;\n",
       "    }\n",
       "\n",
       "    .dataframe thead th {\n",
       "        text-align: right;\n",
       "    }\n",
       "</style>\n",
       "<table border=\"1\" class=\"dataframe\">\n",
       "  <thead>\n",
       "    <tr style=\"text-align: right;\">\n",
       "      <th></th>\n",
       "      <th>original_title</th>\n",
       "      <th>summary</th>\n",
       "      <th>plot</th>\n",
       "    </tr>\n",
       "  </thead>\n",
       "  <tbody>\n",
       "    <tr>\n",
       "      <th>0</th>\n",
       "      <td>L'Armée des Ombres</td>\n",
       "      <td>France 1942. Gerbier, ingénieur des Ponts et C...</td>\n",
       "      <td></td>\n",
       "    </tr>\n",
       "    <tr>\n",
       "      <th>1</th>\n",
       "      <td>Easy Rider</td>\n",
       "      <td>Billy et Captain America disposent d'une gross...</td>\n",
       "      <td>Two bikers head from L.A. to New Orleans throu...</td>\n",
       "    </tr>\n",
       "    <tr>\n",
       "      <th>2</th>\n",
       "      <td>Un homme qui me plaît</td>\n",
       "      <td>Au cours d'un tournage à Los Angeles, une actr...</td>\n",
       "      <td></td>\n",
       "    </tr>\n",
       "    <tr>\n",
       "      <th>3</th>\n",
       "      <td>Z</td>\n",
       "      <td>Un député progressiste est assassiné dans un p...</td>\n",
       "      <td></td>\n",
       "    </tr>\n",
       "  </tbody>\n",
       "</table>\n",
       "</div>"
      ],
      "text/plain": [
       "          original_title                                            summary  \\\n",
       "0     L'Armée des Ombres  France 1942. Gerbier, ingénieur des Ponts et C...   \n",
       "1             Easy Rider  Billy et Captain America disposent d'une gross...   \n",
       "2  Un homme qui me plaît  Au cours d'un tournage à Los Angeles, une actr...   \n",
       "3                      Z  Un député progressiste est assassiné dans un p...   \n",
       "\n",
       "                                                plot  \n",
       "0                                                     \n",
       "1  Two bikers head from L.A. to New Orleans throu...  \n",
       "2                                                     \n",
       "3                                                     "
      ]
     },
     "execution_count": 30,
     "metadata": {},
     "output_type": "execute_result"
    }
   ],
   "source": [
    "df_test = df_movies[:4]\n",
    "df_test['plot'] = df_test['original_title'].apply(get_movie_plot_from_omdb)\n",
    "df_test"
   ]
  },
  {
   "cell_type": "code",
   "execution_count": 34,
   "metadata": {},
   "outputs": [
    {
     "name": "stderr",
     "output_type": "stream",
     "text": [
      "C:\\Users\\Utilisateur\\AppData\\Local\\Temp\\ipykernel_19684\\392409722.py:1: SettingWithCopyWarning: \n",
      "A value is trying to be set on a copy of a slice from a DataFrame.\n",
      "Try using .loc[row_indexer,col_indexer] = value instead\n",
      "\n",
      "See the caveats in the documentation: https://pandas.pydata.org/pandas-docs/stable/user_guide/indexing.html#returning-a-view-versus-a-copy\n",
      "  df_test['plot'] = np.where(df_test['plot'] != '', df_test['plot'], df_test['summary'])\n"
     ]
    },
    {
     "data": {
      "text/html": [
       "<div>\n",
       "<style scoped>\n",
       "    .dataframe tbody tr th:only-of-type {\n",
       "        vertical-align: middle;\n",
       "    }\n",
       "\n",
       "    .dataframe tbody tr th {\n",
       "        vertical-align: top;\n",
       "    }\n",
       "\n",
       "    .dataframe thead th {\n",
       "        text-align: right;\n",
       "    }\n",
       "</style>\n",
       "<table border=\"1\" class=\"dataframe\">\n",
       "  <thead>\n",
       "    <tr style=\"text-align: right;\">\n",
       "      <th></th>\n",
       "      <th>original_title</th>\n",
       "      <th>summary</th>\n",
       "      <th>plot</th>\n",
       "    </tr>\n",
       "  </thead>\n",
       "  <tbody>\n",
       "    <tr>\n",
       "      <th>0</th>\n",
       "      <td>L'Armée des Ombres</td>\n",
       "      <td>France 1942. Gerbier, ingénieur des Ponts et C...</td>\n",
       "      <td>France 1942. Gerbier, ingénieur des Ponts et C...</td>\n",
       "    </tr>\n",
       "    <tr>\n",
       "      <th>1</th>\n",
       "      <td>Easy Rider</td>\n",
       "      <td>Billy et Captain America disposent d'une gross...</td>\n",
       "      <td>Two bikers head from L.A. to New Orleans throu...</td>\n",
       "    </tr>\n",
       "    <tr>\n",
       "      <th>2</th>\n",
       "      <td>Un homme qui me plaît</td>\n",
       "      <td>Au cours d'un tournage à Los Angeles, une actr...</td>\n",
       "      <td>Au cours d'un tournage à Los Angeles, une actr...</td>\n",
       "    </tr>\n",
       "    <tr>\n",
       "      <th>3</th>\n",
       "      <td>Z</td>\n",
       "      <td>Un député progressiste est assassiné dans un p...</td>\n",
       "      <td>Un député progressiste est assassiné dans un p...</td>\n",
       "    </tr>\n",
       "  </tbody>\n",
       "</table>\n",
       "</div>"
      ],
      "text/plain": [
       "          original_title                                            summary  \\\n",
       "0     L'Armée des Ombres  France 1942. Gerbier, ingénieur des Ponts et C...   \n",
       "1             Easy Rider  Billy et Captain America disposent d'une gross...   \n",
       "2  Un homme qui me plaît  Au cours d'un tournage à Los Angeles, une actr...   \n",
       "3                      Z  Un député progressiste est assassiné dans un p...   \n",
       "\n",
       "                                                plot  \n",
       "0  France 1942. Gerbier, ingénieur des Ponts et C...  \n",
       "1  Two bikers head from L.A. to New Orleans throu...  \n",
       "2  Au cours d'un tournage à Los Angeles, une actr...  \n",
       "3  Un député progressiste est assassiné dans un p...  "
      ]
     },
     "execution_count": 34,
     "metadata": {},
     "output_type": "execute_result"
    }
   ],
   "source": [
    "df_test['plot'] = np.where(df_test['plot'] != '', df_test['plot'], df_test['summary'])\n",
    "df_test"
   ]
  },
  {
   "cell_type": "markdown",
   "metadata": {},
   "source": [
    "## **Store the data in a NoSQL database**"
   ]
  },
  {
   "cell_type": "code",
   "execution_count": null,
   "metadata": {},
   "outputs": [],
   "source": [
    "# Connect to MongoDB\n",
    "client = pymongo.MongoClient(\"mongodb://localhost:27017/\")\n",
    "\n",
    "# Create database \"allocine\" (or selects it if already exists)\n",
    "mydb = client[\"allocine\"]\n",
    "# client.drop_database(\"movies\")\n",
    "\n",
    "# Create a collection \"movies\" (table in SQL)\n",
    "col_movies = mydb[\"movies\"]\n",
    "col_movies.drop()\n"
   ]
  },
  {
   "cell_type": "code",
   "execution_count": null,
   "metadata": {},
   "outputs": [],
   "source": [
    "\n",
    "# Insertion of texts into MongoDB database\n",
    "col_movies.insert_many(df_movies.to_dict(orient='records')) # TO DO ONLY ONCE\n",
    "col_movies.drop()\n",
    "\n",
    "# Insertion of texts into MongoDB database (ALREADY DONE)\n",
    "# for index, row in df_data[:20].iterrows():\n",
    "#     print(index, row)\n",
    "#     col_txts.insert_one({\"text\" : row['text'], \"label\" : row[\"label\"]})\n",
    "\n",
    "# Display some infos\n",
    "# (remark: nothing is created as long as there is no data in the collection)\n",
    "\n",
    "print(client.list_database_names())\n",
    "print(mydb.list_collection_names())\n",
    "\n",
    "for doc in list(col_movies.find().limit(5)):\n",
    "    pprint.pprint(doc)"
   ]
  }
 ],
 "metadata": {
  "kernelspec": {
   "display_name": "block1",
   "language": "python",
   "name": "python3"
  },
  "language_info": {
   "codemirror_mode": {
    "name": "ipython",
    "version": 3
   },
   "file_extension": ".py",
   "mimetype": "text/x-python",
   "name": "python",
   "nbconvert_exporter": "python",
   "pygments_lexer": "ipython3",
   "version": "3.12.8"
  }
 },
 "nbformat": 4,
 "nbformat_minor": 2
}
