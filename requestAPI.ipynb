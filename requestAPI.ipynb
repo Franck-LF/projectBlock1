{
 "cells": [
  {
   "cell_type": "markdown",
   "metadata": {},
   "source": [
    "# <center> **Requesting an external API**"
   ]
  },
  {
   "cell_type": "markdown",
   "metadata": {},
   "source": [
    "A partir d'une liste de titres de films nous allons requêter l'API publique [https://www.omdbapi.com](https://www.omdbapi.com)\n",
    "\n",
    "Nous enregistrerons les données non-structurées (résumé et affiche du film) dans une base NoSQL (MongoDB)"
   ]
  },
  {
   "cell_type": "code",
   "execution_count": 83,
   "metadata": {},
   "outputs": [],
   "source": [
    "%reset"
   ]
  },
  {
   "cell_type": "markdown",
   "metadata": {},
   "source": [
    "## **Imports**"
   ]
  },
  {
   "cell_type": "code",
   "execution_count": 84,
   "metadata": {},
   "outputs": [],
   "source": [
    "import math\n",
    "import copy\n",
    "import re\n",
    "import json\n",
    "import requests\n",
    "import numpy as np\n",
    "import pandas as pd\n",
    "from tqdm import tqdm\n",
    "from unidecode import unidecode\n",
    "\n",
    "# MongoDB / Pymongo\n",
    "import pymongo\n",
    "from pymongo.mongo_client import MongoClient\n",
    "from pymongo.server_api import ServerApi\n",
    "import pprint\n",
    "\n",
    "pd.set_option('display.max_rows', 10)\n",
    "tqdm.pandas()\n",
    "\n",
    "api_key = \"b8dd5759\""
   ]
  },
  {
   "cell_type": "markdown",
   "metadata": {},
   "source": [
    "## **Reading the data**\n"
   ]
  },
  {
   "cell_type": "code",
   "execution_count": 85,
   "metadata": {},
   "outputs": [
    {
     "name": "stdout",
     "output_type": "stream",
     "text": [
      "Nb movies : 869\n"
     ]
    },
    {
     "data": {
      "text/html": [
       "<div>\n",
       "<style scoped>\n",
       "    .dataframe tbody tr th:only-of-type {\n",
       "        vertical-align: middle;\n",
       "    }\n",
       "\n",
       "    .dataframe tbody tr th {\n",
       "        vertical-align: top;\n",
       "    }\n",
       "\n",
       "    .dataframe thead th {\n",
       "        text-align: right;\n",
       "    }\n",
       "</style>\n",
       "<table border=\"1\" class=\"dataframe\">\n",
       "  <thead>\n",
       "    <tr style=\"text-align: right;\">\n",
       "      <th></th>\n",
       "      <th>title</th>\n",
       "      <th>original_title</th>\n",
       "      <th>summary</th>\n",
       "      <th>url_thumbnail</th>\n",
       "    </tr>\n",
       "  </thead>\n",
       "  <tbody>\n",
       "    <tr>\n",
       "      <th>0</th>\n",
       "      <td>Music Box</td>\n",
       "      <td>Music Box</td>\n",
       "      <td>Ann Talbot, brillante avocate de Chicago, est ...</td>\n",
       "      <td>https://fr.web.img3.acsta.net/c_310_420/medias...</td>\n",
       "    </tr>\n",
       "    <tr>\n",
       "      <th>1</th>\n",
       "      <td>Le Cercle des poètes disparus</td>\n",
       "      <td>Dead Poets Society</td>\n",
       "      <td>Todd Anderson, un garçon plutôt timide, est en...</td>\n",
       "      <td>https://fr.web.img2.acsta.net/c_310_420/medias...</td>\n",
       "    </tr>\n",
       "    <tr>\n",
       "      <th>2</th>\n",
       "      <td>Trop belle pour toi</td>\n",
       "      <td>Trop belle pour toi</td>\n",
       "      <td>Bernard, chef d'entreprise, est marié à une tr...</td>\n",
       "      <td>https://fr.web.img5.acsta.net/c_310_420/medias...</td>\n",
       "    </tr>\n",
       "    <tr>\n",
       "      <th>3</th>\n",
       "      <td>Blue Steel</td>\n",
       "      <td>Blue Steel</td>\n",
       "      <td>Jeune recrue de la police, Megan Turner abat u...</td>\n",
       "      <td>https://fr.web.img3.acsta.net/c_310_420/pictur...</td>\n",
       "    </tr>\n",
       "    <tr>\n",
       "      <th>4</th>\n",
       "      <td>Retour vers le futur II</td>\n",
       "      <td>Back to the Future Part II</td>\n",
       "      <td>Lors de son premier voyage en 1985, Marty a co...</td>\n",
       "      <td>https://fr.web.img6.acsta.net/c_310_420/pictur...</td>\n",
       "    </tr>\n",
       "    <tr>\n",
       "      <th>...</th>\n",
       "      <td>...</td>\n",
       "      <td>...</td>\n",
       "      <td>...</td>\n",
       "      <td>...</td>\n",
       "    </tr>\n",
       "    <tr>\n",
       "      <th>864</th>\n",
       "      <td>Permanent Vacation</td>\n",
       "      <td>Permanent Vacation</td>\n",
       "      <td>Deux jours et demi de la vie d’Aloysious Parke...</td>\n",
       "      <td>https://fr.web.img5.acsta.net/c_310_420/pictur...</td>\n",
       "    </tr>\n",
       "    <tr>\n",
       "      <th>865</th>\n",
       "      <td>Les Charlots contre Dracula</td>\n",
       "      <td>Les Charlots contre Dracula</td>\n",
       "      <td>Dracula Junior est bien embêté. Seule une femm...</td>\n",
       "      <td>https://fr.web.img5.acsta.net/c_310_420/pictur...</td>\n",
       "    </tr>\n",
       "    <tr>\n",
       "      <th>866</th>\n",
       "      <td>La Maison au fond du parc</td>\n",
       "      <td>La casa sperduta nel parco</td>\n",
       "      <td>Deux truands, responsables d'un trafic de voit...</td>\n",
       "      <td>https://fr.web.img6.acsta.net/c_310_420/medias...</td>\n",
       "    </tr>\n",
       "    <tr>\n",
       "      <th>867</th>\n",
       "      <td>Retour à la 36ème chambre</td>\n",
       "      <td>Shao Lin da peng da shi</td>\n",
       "      <td>Des ouvriers exploités engagent un acteur pour...</td>\n",
       "      <td>https://fr.web.img4.acsta.net/c_310_420/medias...</td>\n",
       "    </tr>\n",
       "    <tr>\n",
       "      <th>868</th>\n",
       "      <td>Le Monstre du train</td>\n",
       "      <td>Terror Train</td>\n",
       "      <td>Une fraternité d'étudiants universitaires déci...</td>\n",
       "      <td>https://fr.web.img4.acsta.net/c_310_420/medias...</td>\n",
       "    </tr>\n",
       "  </tbody>\n",
       "</table>\n",
       "<p>869 rows × 4 columns</p>\n",
       "</div>"
      ],
      "text/plain": [
       "                             title               original_title  \\\n",
       "0                        Music Box                    Music Box   \n",
       "1    Le Cercle des poètes disparus           Dead Poets Society   \n",
       "2              Trop belle pour toi          Trop belle pour toi   \n",
       "3                       Blue Steel                   Blue Steel   \n",
       "4          Retour vers le futur II   Back to the Future Part II   \n",
       "..                             ...                          ...   \n",
       "864             Permanent Vacation           Permanent Vacation   \n",
       "865    Les Charlots contre Dracula  Les Charlots contre Dracula   \n",
       "866      La Maison au fond du parc   La casa sperduta nel parco   \n",
       "867      Retour à la 36ème chambre      Shao Lin da peng da shi   \n",
       "868            Le Monstre du train                 Terror Train   \n",
       "\n",
       "                                               summary  \\\n",
       "0    Ann Talbot, brillante avocate de Chicago, est ...   \n",
       "1    Todd Anderson, un garçon plutôt timide, est en...   \n",
       "2    Bernard, chef d'entreprise, est marié à une tr...   \n",
       "3    Jeune recrue de la police, Megan Turner abat u...   \n",
       "4    Lors de son premier voyage en 1985, Marty a co...   \n",
       "..                                                 ...   \n",
       "864  Deux jours et demi de la vie d’Aloysious Parke...   \n",
       "865  Dracula Junior est bien embêté. Seule une femm...   \n",
       "866  Deux truands, responsables d'un trafic de voit...   \n",
       "867  Des ouvriers exploités engagent un acteur pour...   \n",
       "868  Une fraternité d'étudiants universitaires déci...   \n",
       "\n",
       "                                         url_thumbnail  \n",
       "0    https://fr.web.img3.acsta.net/c_310_420/medias...  \n",
       "1    https://fr.web.img2.acsta.net/c_310_420/medias...  \n",
       "2    https://fr.web.img5.acsta.net/c_310_420/medias...  \n",
       "3    https://fr.web.img3.acsta.net/c_310_420/pictur...  \n",
       "4    https://fr.web.img6.acsta.net/c_310_420/pictur...  \n",
       "..                                                 ...  \n",
       "864  https://fr.web.img5.acsta.net/c_310_420/pictur...  \n",
       "865  https://fr.web.img5.acsta.net/c_310_420/pictur...  \n",
       "866  https://fr.web.img6.acsta.net/c_310_420/medias...  \n",
       "867  https://fr.web.img4.acsta.net/c_310_420/medias...  \n",
       "868  https://fr.web.img4.acsta.net/c_310_420/medias...  \n",
       "\n",
       "[869 rows x 4 columns]"
      ]
     },
     "execution_count": 85,
     "metadata": {},
     "output_type": "execute_result"
    }
   ],
   "source": [
    "# df_movies = pd.read_csv('csv/movies_year_1982.csv', delimiter = ',')\n",
    "# df_movies = pd.read_csv('csv/movies_decade_80.csv', delimiter = ',')\n",
    "df_movies = pd.read_csv('csv/movies_year_1980_to_1990.csv', delimiter = ',', usecols=['title', 'original_title', 'summary', 'url_thumbnail'])\n",
    "print(\"Nb movies :\", df_movies.shape[0])\n",
    "df_movies"
   ]
  },
  {
   "cell_type": "code",
   "execution_count": null,
   "metadata": {},
   "outputs": [],
   "source": [
    "def format_string(st):\n",
    "    ''' format string \n",
    "        from \"title of the movie\" \n",
    "        to title+of+the+movie\n",
    "\n",
    "        Arg: st string to be converted.\n",
    "    '''\n",
    "    res = ''\n",
    "    for c in st:\n",
    "        if c.isdigit() or c.isalpha() or c.isspace():\n",
    "            res += unidecode(c)\n",
    "        else:\n",
    "            res += ' '\n",
    "    return '+'.join([word for word in res.split() if len(word) > 1])\n",
    "\n",
    "def request_omdb_from_title(title):\n",
    "    ''' Request the omdb API\n",
    "    \n",
    "        return a json dictionary with the information about the movie.\n",
    "\n",
    "        Arg:\n",
    "         - title: string with title of the movie we want the infos about.\n",
    "    '''\n",
    "    url = f\"https://www.omdbapi.com/?apikey={api_key}&t={format_string(title)}\"\n",
    "    r = requests.get(url)\n",
    "    if r.status_code != 200:\n",
    "        print(f\"ERROR {title}, Response Code: {r.status_code}\")\n",
    "        print(\"Request:\", url)\n",
    "        return {'Response': 'False'}\n",
    "    return json.loads(r.text)\n",
    "\n",
    "def get_plot_and_thumbail_from_omdb(title):\n",
    "    ''' return movie plot and thumbail through an API request.\n",
    "        \n",
    "        return: \n",
    "          - plot:      string containing the plot of the movie,\n",
    "          - thumbnail: string containing the url of the thumbnail.\n",
    "\n",
    "        Arg: title: string with the title of the movie.\n",
    "    '''\n",
    "    plot, thumbnail = '', ''\n",
    "    res_dict = request_omdb_from_title(title)\n",
    "    lst_keys = res_dict.keys()\n",
    "    assert 'Response' in res_dict\n",
    "    if res_dict['Response'] == 'True':\n",
    "        # print('res_dict', res_dict)\n",
    "        assert 'Plot' in lst_keys and 'Poster' in lst_keys\n",
    "        if res_dict['Plot'] != 'N/A':\n",
    "            plot = res_dict['Plot']\n",
    "        if res_dict['Poster'] != '' and res_dict['Poster'] != 'N/A':\n",
    "            thumbnail = res_dict['Poster']\n",
    "    return plot + \"AND\" + thumbnail"
   ]
  },
  {
   "cell_type": "markdown",
   "metadata": {},
   "source": [
    "## **Get the plot and the thumbnail from the omdb API**"
   ]
  },
  {
   "cell_type": "code",
   "execution_count": 87,
   "metadata": {},
   "outputs": [],
   "source": [
    "df_movies['temp']      = df_movies['original_title'].apply(get_plot_and_thumbail_from_omdb)\n",
    "df_movies['plot']      = df_movies['temp'].apply(lambda x : x.split('AND')[0])\n",
    "df_movies['thumbnail'] = df_movies['temp'].apply(lambda x : x.split('AND')[1])\n",
    "df_movies['plot']          = np.where(df_movies['plot'] != '', df_movies['plot'], df_movies['summary'])\n",
    "df_movies['url_thumbnail'] = np.where(df_movies['thumbnail'] != '', df_movies['thumbnail'], df_movies['url_thumbnail'])\n",
    "df_movies = df_movies[['title', 'original_title', 'plot', 'url_thumbnail']]"
   ]
  },
  {
   "cell_type": "markdown",
   "metadata": {},
   "source": [
    "## **Store the data in a NoSQL database**"
   ]
  },
  {
   "cell_type": "code",
   "execution_count": 91,
   "metadata": {},
   "outputs": [],
   "source": [
    "# Connect to MongoDB\n",
    "client = pymongo.MongoClient(\"mongodb://localhost:27017/\")\n",
    "\n",
    "# Create database \"allocine\" (or selects it if already exists)\n",
    "mydb = client[\"allocine\"]\n",
    "# client.drop_database(\"movies\")\n",
    "\n",
    "# Create a collection \"movies\" (table in SQL)\n",
    "col_movies = mydb[\"movies\"]\n",
    "# col_movies.drop()"
   ]
  },
  {
   "cell_type": "code",
   "execution_count": 92,
   "metadata": {},
   "outputs": [
    {
     "name": "stdout",
     "output_type": "stream",
     "text": [
      "['Rennes', 'Rennes2', 'admin', 'allocine', 'config', 'local', 'mydatabase']\n",
      "['movies']\n",
      "{'_id': ObjectId('67abbeaf1e1d959e84245680'),\n",
      " 'original_title': \"L'Armée des Ombres\",\n",
      " 'plot': 'France 1942. Gerbier, ingénieur des Ponts et Chaussées est également '\n",
      "         \"l'un des chefs de la Résistance. Dénoncé et capturé, il est \"\n",
      "         \"incarcéré dans un camp de prisonniers. Alors qu'il \",\n",
      " 'title': \"L'Armée des Ombres\",\n",
      " 'url_thumbnail': 'https://fr.web.img4.acsta.net/c_310_420/img/23/c1/23c1acd5c06be11bc9a64f448dae49f4.jpg'}\n",
      "{'_id': ObjectId('67abbeaf1e1d959e84245681'),\n",
      " 'original_title': 'Easy Rider',\n",
      " 'plot': 'Two bikers head from L.A. to New Orleans through the open country '\n",
      "         'and desert lands, and along the way they meet a man who bridges a '\n",
      "         'counter-culture gap of which they had been unaware.',\n",
      " 'title': 'Easy Rider',\n",
      " 'url_thumbnail': 'https://m.media-amazon.com/images/M/MV5BMTc2MjI2NDc4Ml5BMl5BanBnXkFtZTgwODI4NzU0MTI@._V1_SX300.jpg'}\n",
      "{'_id': ObjectId('67abbeaf1e1d959e84245682'),\n",
      " 'original_title': 'Un homme qui me plaît',\n",
      " 'plot': \"Au cours d'un tournage à Los Angeles, une actrice, Françoise, et un \"\n",
      "         \"compositeur, Henri, tombent amoureux l'un de l'autre.\",\n",
      " 'title': 'Un homme qui me plaît',\n",
      " 'url_thumbnail': 'https://fr.web.img3.acsta.net/c_310_420/pictures/23/01/10/16/45/2561549.jpg'}\n",
      "{'_id': ObjectId('67abbeaf1e1d959e84245683'),\n",
      " 'original_title': 'Z',\n",
      " 'plot': 'Un député progressiste est assassiné dans un pays méditerranéen. Le '\n",
      "         \"juge d'instruction s'occupant de l'enquête met en évidence, dans ce \"\n",
      "         \"crime, la participation de l'armée et de la \",\n",
      " 'title': 'Z',\n",
      " 'url_thumbnail': 'https://fr.web.img6.acsta.net/c_310_420/pictures/15/05/18/14/41/253616.jpg'}\n",
      "{'_id': ObjectId('67abbeaf1e1d959e84245684'),\n",
      " 'original_title': 'Butch Cassidy and the Sundance Kid',\n",
      " 'plot': 'In 1890s Wyoming, Butch Cassidy and The Sundance Kid lead a band of '\n",
      "         'outlaws. When a train robbery goes wrong, they find themselves on '\n",
      "         'the run with a posse hard on their heels..',\n",
      " 'title': 'Butch Cassidy et le Kid',\n",
      " 'url_thumbnail': 'https://m.media-amazon.com/images/M/MV5BMTkyMTM2NDk5Nl5BMl5BanBnXkFtZTgwNzY1NzEyMDE@._V1_SX300.jpg'}\n"
     ]
    }
   ],
   "source": [
    "# Insertion of movie plots in MongoDB database\n",
    "col_movies.insert_many(df_movies.to_dict(orient='records')) # TO DO ONLY ONCE\n",
    "# col_movies.drop()\n",
    "\n",
    "print(client.list_database_names())\n",
    "print(mydb.list_collection_names())\n",
    "\n",
    "for doc in list(col_movies.find().limit(5)):\n",
    "    pprint.pprint(doc)"
   ]
  },
  {
   "cell_type": "code",
   "execution_count": 94,
   "metadata": {},
   "outputs": [
    {
     "name": "stdout",
     "output_type": "stream",
     "text": [
      "Nb documents: 2065\n"
     ]
    }
   ],
   "source": [
    "print(\"Nb documents:\", col_movies.count_documents({}))"
   ]
  },
  {
   "cell_type": "code",
   "execution_count": 102,
   "metadata": {},
   "outputs": [
    {
     "data": {
      "text/html": [
       "<div>\n",
       "<style scoped>\n",
       "    .dataframe tbody tr th:only-of-type {\n",
       "        vertical-align: middle;\n",
       "    }\n",
       "\n",
       "    .dataframe tbody tr th {\n",
       "        vertical-align: top;\n",
       "    }\n",
       "\n",
       "    .dataframe thead th {\n",
       "        text-align: right;\n",
       "    }\n",
       "</style>\n",
       "<table border=\"1\" class=\"dataframe\">\n",
       "  <thead>\n",
       "    <tr style=\"text-align: right;\">\n",
       "      <th></th>\n",
       "      <th>_id</th>\n",
       "      <th>title</th>\n",
       "      <th>original_title</th>\n",
       "      <th>plot</th>\n",
       "      <th>url_thumbnail</th>\n",
       "    </tr>\n",
       "  </thead>\n",
       "  <tbody>\n",
       "    <tr>\n",
       "      <th>0</th>\n",
       "      <td>67abbeaf1e1d959e84245680</td>\n",
       "      <td>L'Armée des Ombres</td>\n",
       "      <td>L'Armée des Ombres</td>\n",
       "      <td>France 1942. Gerbier, ingénieur des Ponts et C...</td>\n",
       "      <td>https://fr.web.img4.acsta.net/c_310_420/img/23...</td>\n",
       "    </tr>\n",
       "    <tr>\n",
       "      <th>1</th>\n",
       "      <td>67abbeaf1e1d959e84245681</td>\n",
       "      <td>Easy Rider</td>\n",
       "      <td>Easy Rider</td>\n",
       "      <td>Two bikers head from L.A. to New Orleans throu...</td>\n",
       "      <td>https://m.media-amazon.com/images/M/MV5BMTc2Mj...</td>\n",
       "    </tr>\n",
       "    <tr>\n",
       "      <th>2</th>\n",
       "      <td>67abbeaf1e1d959e84245682</td>\n",
       "      <td>Un homme qui me plaît</td>\n",
       "      <td>Un homme qui me plaît</td>\n",
       "      <td>Au cours d'un tournage à Los Angeles, une actr...</td>\n",
       "      <td>https://fr.web.img3.acsta.net/c_310_420/pictur...</td>\n",
       "    </tr>\n",
       "  </tbody>\n",
       "</table>\n",
       "</div>"
      ],
      "text/plain": [
       "                        _id                  title         original_title  \\\n",
       "0  67abbeaf1e1d959e84245680     L'Armée des Ombres     L'Armée des Ombres   \n",
       "1  67abbeaf1e1d959e84245681             Easy Rider             Easy Rider   \n",
       "2  67abbeaf1e1d959e84245682  Un homme qui me plaît  Un homme qui me plaît   \n",
       "\n",
       "                                                plot  \\\n",
       "0  France 1942. Gerbier, ingénieur des Ponts et C...   \n",
       "1  Two bikers head from L.A. to New Orleans throu...   \n",
       "2  Au cours d'un tournage à Los Angeles, une actr...   \n",
       "\n",
       "                                       url_thumbnail  \n",
       "0  https://fr.web.img4.acsta.net/c_310_420/img/23...  \n",
       "1  https://m.media-amazon.com/images/M/MV5BMTc2Mj...  \n",
       "2  https://fr.web.img3.acsta.net/c_310_420/pictur...  "
      ]
     },
     "execution_count": 102,
     "metadata": {},
     "output_type": "execute_result"
    }
   ],
   "source": [
    "lst = list(col_movies.find())\n",
    "df_mongo = pd.DataFrame(lst, columns = ['_id', 'title', 'original_title', 'plot', 'url_thumbnail'])\n",
    "df_mongo.to_csv('csv/mongoDB.csv', sep=',', index = False)\n",
    "df_mongo.head(3)"
   ]
  },
  {
   "cell_type": "code",
   "execution_count": null,
   "metadata": {},
   "outputs": [],
   "source": []
  }
 ],
 "metadata": {
  "kernelspec": {
   "display_name": "block1",
   "language": "python",
   "name": "python3"
  },
  "language_info": {
   "codemirror_mode": {
    "name": "ipython",
    "version": 3
   },
   "file_extension": ".py",
   "mimetype": "text/x-python",
   "name": "python",
   "nbconvert_exporter": "python",
   "pygments_lexer": "ipython3",
   "version": "3.12.8"
  }
 },
 "nbformat": 4,
 "nbformat_minor": 2
}
