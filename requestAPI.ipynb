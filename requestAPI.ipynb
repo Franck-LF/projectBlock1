{
 "cells": [
  {
   "cell_type": "markdown",
   "metadata": {},
   "source": [
    "# <center> **Requesting an external API**"
   ]
  },
  {
   "cell_type": "markdown",
   "metadata": {},
   "source": [
    "A partir d'une liste de titres de films nous allons requêter l'API publique [https://www.omdbapi.com](https://www.omdbapi.com)\n",
    "\n",
    "Nous enregistrerons les données non-structurées (résumé et affiche du film) dans une base NoSQL (MongoDB)"
   ]
  },
  {
   "cell_type": "code",
   "execution_count": 226,
   "metadata": {},
   "outputs": [],
   "source": [
    "%reset"
   ]
  },
  {
   "cell_type": "markdown",
   "metadata": {},
   "source": [
    "## **Imports**"
   ]
  },
  {
   "cell_type": "code",
   "execution_count": 227,
   "metadata": {},
   "outputs": [],
   "source": [
    "import math\n",
    "import copy\n",
    "import re\n",
    "import json\n",
    "import requests\n",
    "import numpy as np\n",
    "import pandas as pd\n",
    "from tqdm import tqdm\n",
    "from unidecode import unidecode\n",
    "\n",
    "# MongoDB / Pymongo\n",
    "import pymongo\n",
    "from pymongo.mongo_client import MongoClient\n",
    "from pymongo.server_api import ServerApi\n",
    "import pprint\n",
    "\n",
    "pd.set_option('display.max_rows', 10)\n",
    "tqdm.pandas()\n",
    "\n",
    "api_key = \"b8dd5759\""
   ]
  },
  {
   "cell_type": "markdown",
   "metadata": {},
   "source": [
    "## **Reading the data**\n"
   ]
  },
  {
   "cell_type": "code",
   "execution_count": null,
   "metadata": {},
   "outputs": [
    {
     "name": "stdout",
     "output_type": "stream",
     "text": [
      "Nb movies : 980\n"
     ]
    },
    {
     "data": {
      "text/html": [
       "<div>\n",
       "<style scoped>\n",
       "    .dataframe tbody tr th:only-of-type {\n",
       "        vertical-align: middle;\n",
       "    }\n",
       "\n",
       "    .dataframe tbody tr th {\n",
       "        vertical-align: top;\n",
       "    }\n",
       "\n",
       "    .dataframe thead th {\n",
       "        text-align: right;\n",
       "    }\n",
       "</style>\n",
       "<table border=\"1\" class=\"dataframe\">\n",
       "  <thead>\n",
       "    <tr style=\"text-align: right;\">\n",
       "      <th></th>\n",
       "      <th>title</th>\n",
       "      <th>original_title</th>\n",
       "      <th>summary</th>\n",
       "      <th>url_thumbnail</th>\n",
       "    </tr>\n",
       "  </thead>\n",
       "  <tbody>\n",
       "    <tr>\n",
       "      <th>0</th>\n",
       "      <td>Star Wars : Episode III - La Revanche des Sith</td>\n",
       "      <td>Star Wars: Episode III - Revenge of the Sith</td>\n",
       "      <td>La Guerre des Clones fait rage. Une franche ho...</td>\n",
       "      <td>https://fr.web.img6.acsta.net/c_310_420/medias...</td>\n",
       "    </tr>\n",
       "    <tr>\n",
       "      <th>1</th>\n",
       "      <td>Le Seigneur des anneaux : le retour du roi</td>\n",
       "      <td>The Lord of the Rings: The Return of the King</td>\n",
       "      <td>Les armées de Sauron ont attaqué Minas Tirith,...</td>\n",
       "      <td>https://fr.web.img6.acsta.net/c_310_420/medias...</td>\n",
       "    </tr>\n",
       "    <tr>\n",
       "      <th>2</th>\n",
       "      <td>Batman Begins</td>\n",
       "      <td>Batman Begins</td>\n",
       "      <td>Comment un homme seul peut-il changer le monde...</td>\n",
       "      <td>https://fr.web.img6.acsta.net/c_310_420/pictur...</td>\n",
       "    </tr>\n",
       "    <tr>\n",
       "      <th>3</th>\n",
       "      <td>King Kong</td>\n",
       "      <td>King Kong</td>\n",
       "      <td>New York, 1933. Ann Darrow est une artiste de ...</td>\n",
       "      <td>https://fr.web.img3.acsta.net/c_310_420/medias...</td>\n",
       "    </tr>\n",
       "    <tr>\n",
       "      <th>4</th>\n",
       "      <td>Kill Bill: Volume 1</td>\n",
       "      <td>Kill Bill: Volume 1</td>\n",
       "      <td>Au cours d'une cérémonie de mariage en plein d...</td>\n",
       "      <td>https://fr.web.img6.acsta.net/c_310_420/medias...</td>\n",
       "    </tr>\n",
       "  </tbody>\n",
       "</table>\n",
       "</div>"
      ],
      "text/plain": [
       "                                            title  \\\n",
       "0  Star Wars : Episode III - La Revanche des Sith   \n",
       "1      Le Seigneur des anneaux : le retour du roi   \n",
       "2                                   Batman Begins   \n",
       "3                                       King Kong   \n",
       "4                             Kill Bill: Volume 1   \n",
       "\n",
       "                                  original_title  \\\n",
       "0   Star Wars: Episode III - Revenge of the Sith   \n",
       "1  The Lord of the Rings: The Return of the King   \n",
       "2                                  Batman Begins   \n",
       "3                                      King Kong   \n",
       "4                            Kill Bill: Volume 1   \n",
       "\n",
       "                                             summary  \\\n",
       "0  La Guerre des Clones fait rage. Une franche ho...   \n",
       "1  Les armées de Sauron ont attaqué Minas Tirith,...   \n",
       "2  Comment un homme seul peut-il changer le monde...   \n",
       "3  New York, 1933. Ann Darrow est une artiste de ...   \n",
       "4  Au cours d'une cérémonie de mariage en plein d...   \n",
       "\n",
       "                                       url_thumbnail  \n",
       "0  https://fr.web.img6.acsta.net/c_310_420/medias...  \n",
       "1  https://fr.web.img6.acsta.net/c_310_420/medias...  \n",
       "2  https://fr.web.img6.acsta.net/c_310_420/pictur...  \n",
       "3  https://fr.web.img3.acsta.net/c_310_420/medias...  \n",
       "4  https://fr.web.img6.acsta.net/c_310_420/medias...  "
      ]
     },
     "execution_count": 228,
     "metadata": {},
     "output_type": "execute_result"
    }
   ],
   "source": [
    "df_movies = pd.read_csv('csv/movies_year_2006_to_2010.csv', delimiter = ',', usecols=['title', 'original_title', 'summary', 'url_thumbnail'])\n",
    "print(\"Nb movies :\", df_movies.shape[0])\n",
    "df_movies.head(5)"
   ]
  },
  {
   "cell_type": "code",
   "execution_count": 229,
   "metadata": {},
   "outputs": [],
   "source": [
    "def format_string(st):\n",
    "    ''' format string \n",
    "        from \"title of the movie\" \n",
    "        to title+of+the+movie\n",
    "\n",
    "        Arg: st string to be converted.\n",
    "    '''\n",
    "    res = ''\n",
    "    for c in st:\n",
    "        if c.isdigit() or c.isalpha() or c.isspace():\n",
    "            res += unidecode(c)\n",
    "        else:\n",
    "            res += ' '\n",
    "    return '+'.join([word for word in res.split() if len(word) > 1])\n",
    "\n",
    "def request_omdb_from_title(title):\n",
    "    ''' Request the omdb API\n",
    "    \n",
    "        return a json dictionary with the information about the movie.\n",
    "\n",
    "        Arg:\n",
    "         - title: string with title of the movie we want the infos about.\n",
    "    '''\n",
    "    url = f\"https://www.omdbapi.com/?apikey={api_key}&t={format_string(title)}\"\n",
    "    r = requests.get(url)\n",
    "    if r.status_code != 200:\n",
    "        print(f\"ERROR {title}, Response Code: {r.status_code}\")\n",
    "        print(\"Request:\", url)\n",
    "        return {'Response': 'False'}\n",
    "    return json.loads(r.text)\n",
    "\n",
    "def get_plot_and_thumbail_from_omdb(title):\n",
    "    ''' return movie plot and thumbail through an API request.\n",
    "\n",
    "        return: \n",
    "          - plot:      string containing the plot of the movie,\n",
    "          - thumbnail: string containing the url of the thumbnail.\n",
    "\n",
    "        Arg: title: string with the title of the movie.\n",
    "    '''\n",
    "    plot, thumbnail = '', ''\n",
    "    res_dict = request_omdb_from_title(title)\n",
    "    lst_keys = res_dict.keys()\n",
    "    assert 'Response' in res_dict\n",
    "    if res_dict['Response'] == 'True':\n",
    "        # print('res_dict', res_dict)\n",
    "        assert 'Plot' in lst_keys and 'Poster' in lst_keys\n",
    "        if res_dict['Plot'] != 'N/A':\n",
    "            plot = res_dict['Plot']\n",
    "        if res_dict['Poster'] != '' and res_dict['Poster'] != 'N/A':\n",
    "            thumbnail = res_dict['Poster']\n",
    "    return plot + \"AND\" + thumbnail"
   ]
  },
  {
   "cell_type": "markdown",
   "metadata": {},
   "source": [
    "## **Get the plot and the thumbnail from the omdb API**"
   ]
  },
  {
   "cell_type": "code",
   "execution_count": 230,
   "metadata": {},
   "outputs": [],
   "source": [
    "df_movies['temp']      = df_movies['original_title'].apply(get_plot_and_thumbail_from_omdb)\n",
    "df_movies['plot']      = df_movies['temp'].apply(lambda x : x.split('AND')[0])\n",
    "df_movies['thumbnail'] = df_movies['temp'].apply(lambda x : x.split('AND')[1])\n",
    "df_movies['plot']          = np.where(df_movies['plot'] != '', df_movies['plot'], df_movies['summary'])\n",
    "df_movies['url_thumbnail'] = np.where(df_movies['thumbnail'] != '', df_movies['thumbnail'], df_movies['url_thumbnail'])\n",
    "df_movies = df_movies[['title', 'original_title', 'plot', 'url_thumbnail']]"
   ]
  },
  {
   "cell_type": "code",
   "execution_count": 233,
   "metadata": {},
   "outputs": [
    {
     "data": {
      "text/html": [
       "<div>\n",
       "<style scoped>\n",
       "    .dataframe tbody tr th:only-of-type {\n",
       "        vertical-align: middle;\n",
       "    }\n",
       "\n",
       "    .dataframe tbody tr th {\n",
       "        vertical-align: top;\n",
       "    }\n",
       "\n",
       "    .dataframe thead th {\n",
       "        text-align: right;\n",
       "    }\n",
       "</style>\n",
       "<table border=\"1\" class=\"dataframe\">\n",
       "  <thead>\n",
       "    <tr style=\"text-align: right;\">\n",
       "      <th></th>\n",
       "      <th>title</th>\n",
       "      <th>original_title</th>\n",
       "      <th>plot</th>\n",
       "      <th>url_thumbnail</th>\n",
       "    </tr>\n",
       "  </thead>\n",
       "  <tbody>\n",
       "    <tr>\n",
       "      <th>0</th>\n",
       "      <td>Star Wars : Episode III - La Revanche des Sith</td>\n",
       "      <td>Star Wars: Episode III - Revenge of the Sith</td>\n",
       "      <td>Anakin Skywalker finally makes the transition ...</td>\n",
       "      <td>https://fr.web.img6.acsta.net/c_310_420/medias...</td>\n",
       "    </tr>\n",
       "    <tr>\n",
       "      <th>1</th>\n",
       "      <td>Le Seigneur des anneaux : le retour du roi</td>\n",
       "      <td>The Lord of the Rings: The Return of the King</td>\n",
       "      <td>Gandalf and Aragorn lead the World of Men agai...</td>\n",
       "      <td>https://m.media-amazon.com/images/M/MV5BMTZkMj...</td>\n",
       "    </tr>\n",
       "    <tr>\n",
       "      <th>2</th>\n",
       "      <td>Batman Begins</td>\n",
       "      <td>Batman Begins</td>\n",
       "      <td>After witnessing his parents' death, Bruce lea...</td>\n",
       "      <td>https://m.media-amazon.com/images/M/MV5BODIyMD...</td>\n",
       "    </tr>\n",
       "    <tr>\n",
       "      <th>3</th>\n",
       "      <td>King Kong</td>\n",
       "      <td>King Kong</td>\n",
       "      <td>A greedy film producer assembles a team of mov...</td>\n",
       "      <td>https://m.media-amazon.com/images/M/MV5BMWY0NW...</td>\n",
       "    </tr>\n",
       "    <tr>\n",
       "      <th>4</th>\n",
       "      <td>Kill Bill: Volume 1</td>\n",
       "      <td>Kill Bill: Volume 1</td>\n",
       "      <td>Au cours d'une cérémonie de mariage en plein d...</td>\n",
       "      <td>https://m.media-amazon.com/images/M/MV5BZmRhZG...</td>\n",
       "    </tr>\n",
       "    <tr>\n",
       "      <th>...</th>\n",
       "      <td>...</td>\n",
       "      <td>...</td>\n",
       "      <td>...</td>\n",
       "      <td>...</td>\n",
       "    </tr>\n",
       "    <tr>\n",
       "      <th>975</th>\n",
       "      <td>Winnie l'ourson et l'Efélant</td>\n",
       "      <td>Pooh's Heffalump Movie</td>\n",
       "      <td>La paisible Forêt des Rêves Bleus est soudain ...</td>\n",
       "      <td>https://fr.web.img2.acsta.net/c_310_420/medias...</td>\n",
       "    </tr>\n",
       "    <tr>\n",
       "      <th>976</th>\n",
       "      <td>Bronx à Bel Air</td>\n",
       "      <td>Bringing down the house</td>\n",
       "      <td>When a lonely guy meets a woman on the interne...</td>\n",
       "      <td>https://m.media-amazon.com/images/M/MV5BOTUyMT...</td>\n",
       "    </tr>\n",
       "    <tr>\n",
       "      <th>977</th>\n",
       "      <td>Les Enigmes de l'Atlantide (V)</td>\n",
       "      <td>Atlantis : Milo's Return</td>\n",
       "      <td>Milo, Kida et leur équipe vont faire le tour d...</td>\n",
       "      <td>https://fr.web.img3.acsta.net/c_310_420/medias...</td>\n",
       "    </tr>\n",
       "    <tr>\n",
       "      <th>978</th>\n",
       "      <td>Le Soleil</td>\n",
       "      <td>Solntse</td>\n",
       "      <td>Ural Airlines flight grounded in cornfield aft...</td>\n",
       "      <td>https://m.media-amazon.com/images/M/MV5BMDQzYT...</td>\n",
       "    </tr>\n",
       "    <tr>\n",
       "      <th>979</th>\n",
       "      <td>Ginger Snaps : Aux origines du mal</td>\n",
       "      <td>Ginger Snaps Back: The Beginning</td>\n",
       "      <td>Set in 19th Century Canada, Brigette and her s...</td>\n",
       "      <td>https://m.media-amazon.com/images/M/MV5BMTg1NT...</td>\n",
       "    </tr>\n",
       "  </tbody>\n",
       "</table>\n",
       "<p>980 rows × 4 columns</p>\n",
       "</div>"
      ],
      "text/plain": [
       "                                              title  \\\n",
       "0    Star Wars : Episode III - La Revanche des Sith   \n",
       "1        Le Seigneur des anneaux : le retour du roi   \n",
       "2                                     Batman Begins   \n",
       "3                                         King Kong   \n",
       "4                               Kill Bill: Volume 1   \n",
       "..                                              ...   \n",
       "975                    Winnie l'ourson et l'Efélant   \n",
       "976                                 Bronx à Bel Air   \n",
       "977                  Les Enigmes de l'Atlantide (V)   \n",
       "978                                       Le Soleil   \n",
       "979              Ginger Snaps : Aux origines du mal   \n",
       "\n",
       "                                    original_title  \\\n",
       "0     Star Wars: Episode III - Revenge of the Sith   \n",
       "1    The Lord of the Rings: The Return of the King   \n",
       "2                                    Batman Begins   \n",
       "3                                        King Kong   \n",
       "4                              Kill Bill: Volume 1   \n",
       "..                                             ...   \n",
       "975                         Pooh's Heffalump Movie   \n",
       "976                        Bringing down the house   \n",
       "977                       Atlantis : Milo's Return   \n",
       "978                                        Solntse   \n",
       "979               Ginger Snaps Back: The Beginning   \n",
       "\n",
       "                                                  plot  \\\n",
       "0    Anakin Skywalker finally makes the transition ...   \n",
       "1    Gandalf and Aragorn lead the World of Men agai...   \n",
       "2    After witnessing his parents' death, Bruce lea...   \n",
       "3    A greedy film producer assembles a team of mov...   \n",
       "4    Au cours d'une cérémonie de mariage en plein d...   \n",
       "..                                                 ...   \n",
       "975  La paisible Forêt des Rêves Bleus est soudain ...   \n",
       "976  When a lonely guy meets a woman on the interne...   \n",
       "977  Milo, Kida et leur équipe vont faire le tour d...   \n",
       "978  Ural Airlines flight grounded in cornfield aft...   \n",
       "979  Set in 19th Century Canada, Brigette and her s...   \n",
       "\n",
       "                                         url_thumbnail  \n",
       "0    https://fr.web.img6.acsta.net/c_310_420/medias...  \n",
       "1    https://m.media-amazon.com/images/M/MV5BMTZkMj...  \n",
       "2    https://m.media-amazon.com/images/M/MV5BODIyMD...  \n",
       "3    https://m.media-amazon.com/images/M/MV5BMWY0NW...  \n",
       "4    https://m.media-amazon.com/images/M/MV5BZmRhZG...  \n",
       "..                                                 ...  \n",
       "975  https://fr.web.img2.acsta.net/c_310_420/medias...  \n",
       "976  https://m.media-amazon.com/images/M/MV5BOTUyMT...  \n",
       "977  https://fr.web.img3.acsta.net/c_310_420/medias...  \n",
       "978  https://m.media-amazon.com/images/M/MV5BMDQzYT...  \n",
       "979  https://m.media-amazon.com/images/M/MV5BMTg1NT...  \n",
       "\n",
       "[980 rows x 4 columns]"
      ]
     },
     "execution_count": 233,
     "metadata": {},
     "output_type": "execute_result"
    }
   ],
   "source": [
    "df_movies"
   ]
  },
  {
   "cell_type": "markdown",
   "metadata": {},
   "source": [
    "## **Store the data in a NoSQL database**"
   ]
  },
  {
   "cell_type": "code",
   "execution_count": 234,
   "metadata": {},
   "outputs": [],
   "source": [
    "# Connect to MongoDB\n",
    "client = pymongo.MongoClient(\"mongodb://localhost:27017/\")\n",
    "\n",
    "# Create database \"allocine\" (or selects it if already exists)\n",
    "mydb = client[\"allocine\"]\n",
    "# client.drop_database(\"movies\")\n",
    "\n",
    "# Create a collection \"movies\" (table in SQL)\n",
    "col_movies = mydb[\"movies\"]\n",
    "# col_movies.drop()"
   ]
  },
  {
   "cell_type": "code",
   "execution_count": 235,
   "metadata": {},
   "outputs": [
    {
     "name": "stdout",
     "output_type": "stream",
     "text": [
      "['Rennes', 'Rennes2', 'admin', 'allocine', 'config', 'local', 'mydatabase', 'test_queries']\n",
      "['movies']\n",
      "Nb documents: 5149\n"
     ]
    }
   ],
   "source": [
    "# Insertion of movie plots in MongoDB database\n",
    "col_movies.insert_many(df_movies.to_dict(orient='records')) # TO DO ONLY ONCE\n",
    "# col_movies.drop()\n",
    "\n",
    "print(client.list_database_names())\n",
    "print(mydb.list_collection_names())\n",
    "\n",
    "# for doc in list(col_movies.find().limit(5)):\n",
    "#     pprint.pprint(doc)\n",
    "\n",
    "print(\"Nb documents:\", col_movies.count_documents({}))"
   ]
  },
  {
   "cell_type": "markdown",
   "metadata": {},
   "source": [
    "## **Checking what is in the Mongo DB**"
   ]
  },
  {
   "cell_type": "code",
   "execution_count": 237,
   "metadata": {},
   "outputs": [
    {
     "name": "stdout",
     "output_type": "stream",
     "text": [
      "518\n",
      "678\n",
      "869\n",
      "585\n",
      "807\n",
      "729\n",
      "980\n",
      "600\n",
      "750\n",
      "800\n",
      "750\n",
      "750\n",
      "Nb total de films 8816\n",
      "Nb documents: 5149\n"
     ]
    },
    {
     "data": {
      "text/plain": [
       "5166"
      ]
     },
     "execution_count": 237,
     "metadata": {},
     "output_type": "execute_result"
    }
   ],
   "source": [
    "names = ['csv/movies_year_1960_to_1970.csv',\n",
    "         'csv/movies_year_1970_to_1980.csv',\n",
    "         'csv/movies_year_1980_to_1990.csv',\n",
    "         'csv/movies_year_1990_to_1995.csv',\n",
    "         'csv/movies_year_1995_to_2000.csv',\n",
    "         'csv/movies_year_2000_to_2003.csv',\n",
    "         'csv/movies_year_2003_to_2006.csv',\n",
    "         'csv/movies_year_2006_to_2010.csv',\n",
    "         'csv/movies_year_2010_to_2015.csv',\n",
    "         'csv/movies_year_2015_to_2019.csv',\n",
    "         'csv/movies_year_2019_to_2022.csv',\n",
    "         'csv/movies_year_2022_to_2025.csv']\n",
    "\n",
    "lst_df = [pd.read_csv(name, delimiter = ',', usecols=['title', 'original_title', 'summary', 'url_thumbnail'])\n",
    "          for name in names]\n",
    "\n",
    "for df in lst_df:\n",
    "    print(df.shape[0])\n",
    "\n",
    "df_csv = pd.concat(lst_df)\n",
    "print(\"Nb total de films\", df_csv.shape[0])\n",
    "# df_csv.to_csv('csv/movies_all_years.csv', sep=',', index = False)\n",
    "\n",
    "# Reading data fmo Mongo DB\n",
    "client = pymongo.MongoClient(\"mongodb://localhost:27017/\")\n",
    "mydb = client[\"allocine\"]\n",
    "col_movies = mydb[\"movies\"]\n",
    "print(\"Nb documents:\", col_movies.count_documents({}))\n",
    "\n",
    "# 1960 to 2003 stored in Mongo DB\n",
    "518 + 678 + 869 + 585 + 807 + 729 +980"
   ]
  },
  {
   "cell_type": "code",
   "execution_count": 238,
   "metadata": {},
   "outputs": [
    {
     "name": "stdout",
     "output_type": "stream",
     "text": [
      "5149\n"
     ]
    }
   ],
   "source": [
    "# Store data in csv file\n",
    "lst = list(col_movies.find())\n",
    "df_mongo = pd.DataFrame(lst, columns = ['_id', 'title', 'original_title', 'plot', 'url_thumbnail'])\n",
    "print(df_mongo.shape[0])\n",
    "df_mongo.to_csv('csv/mongoDB_1960_to_2006.csv', sep=',', index = False)"
   ]
  },
  {
   "cell_type": "markdown",
   "metadata": {},
   "source": [
    "**Since we added twice the same 807 movies, we have to remove them from MongoDB**"
   ]
  },
  {
   "cell_type": "code",
   "execution_count": null,
   "metadata": {},
   "outputs": [
    {
     "name": "stdout",
     "output_type": "stream",
     "text": [
      "Nb documents: 4264\n",
      "Nb documents: 2639\n"
     ]
    }
   ],
   "source": [
    "client = pymongo.MongoClient(\"mongodb://localhost:27017/\")\n",
    "mydb = client[\"allocine\"]\n",
    "col_movies = mydb[\"movies\"]\n",
    "\n",
    "print(\"Nb documents:\", col_movies.count_documents({}))\n",
    "col_movies.delete_many({'original_title' : {'$in' : df_movies['original_title'].values.tolist()} })\n",
    "print(\"Nb documents:\", col_movies.count_documents({}))"
   ]
  },
  {
   "cell_type": "markdown",
   "metadata": {},
   "source": [
    "**Looks like more documents have been deleted**<br>\n",
    "So we will drop the whole data base and use the csv 'mongoDB.csv' to restore the previous database and re-add the movies needed."
   ]
  },
  {
   "cell_type": "code",
   "execution_count": null,
   "metadata": {},
   "outputs": [],
   "source": [
    "client = pymongo.MongoClient(\"mongodb://localhost:27017/\")\n",
    "client.drop_database('allocine')\n",
    "\n",
    "# Recreate DB\n",
    "client = pymongo.MongoClient(\"mongodb://localhost:27017/\")\n",
    "mydb = client[\"allocine\"]\n",
    "col_movies = mydb[\"movies\"]"
   ]
  },
  {
   "cell_type": "markdown",
   "metadata": {},
   "source": [
    "## **Query MongoDB Using PyMongo**"
   ]
  },
  {
   "cell_type": "markdown",
   "metadata": {},
   "source": [
    "### **We create another DB**"
   ]
  },
  {
   "cell_type": "code",
   "execution_count": 184,
   "metadata": {},
   "outputs": [
    {
     "name": "stdout",
     "output_type": "stream",
     "text": [
      "['Rennes', 'Rennes2', 'admin', 'allocine', 'config', 'local', 'mydatabase', 'test_queries']\n",
      "['fruits']\n"
     ]
    }
   ],
   "source": [
    "client2 = pymongo.MongoClient(\"mongodb://localhost:27017/\")\n",
    "mydb2 = client2[\"test_queries\"]\n",
    "# client.drop_database(\"test_queries\")\n",
    "\n",
    "# Create a collection \"movies\" (table in SQL)\n",
    "col_fruits = mydb2[\"fruits\"]\n",
    "# col_fruits.drop()\n",
    "\n",
    "col_fruits.insert_many([\n",
    "        # { \"_id\": 1, \"name\": \"apples\", \"qty\": 5, \"rating\": 3, \"color\": \"red\", \"type\": [\"fuji\", \"honeycrisp\"] },\n",
    "        # { \"_id\": 2, \"name\": \"bananas\", \"qty\": 7, \"rating\": 4, \"color\": \"yellow\", \"type\": [\"cavendish\"] },\n",
    "        { \"_id\": 3, \"name\": \"oranges\", \"qty\": 6, \"rating\": 2, \"type\": [\"naval\", \"mandarin\"] },\n",
    "        { \"_id\": 4, \"name\": \"pineapple\", \"qty\": 3, \"rating\": 5, \"color\": \"yellow\" },\n",
    "        { \"_id\": 5, \"name\": \"test\", \"qty\": 10, \"rating\": 3, \"color\": \"green\", \"type\": [\"fuji\", \"typeXXX\"] },\n",
    "    ])\n",
    "# col_fruits.drop()\n",
    "\n",
    "print(client2.list_database_names())\n",
    "print(mydb2.list_collection_names())"
   ]
  },
  {
   "cell_type": "markdown",
   "metadata": {},
   "source": [
    "**Sources**<br>\n",
    "https://www.mongodb.com/docs/languages/python/pymongo-driver/current/read/specify-a-query/<br>\n",
    "https://www.w3resource.com/mongodb/introduction-mongodb.php<br>\n",
    "https://www.mongodbtutorial.org/mongodb-crud/mongodb-findone/<br>\n",
    "https://geekflare.com/fr/mongodb-queries-examples/<br>\n"
   ]
  },
  {
   "cell_type": "markdown",
   "metadata": {},
   "source": [
    "**Exact Match**"
   ]
  },
  {
   "cell_type": "code",
   "execution_count": 175,
   "metadata": {},
   "outputs": [
    {
     "data": {
      "text/plain": [
       "[{'_id': ObjectId('67b1ae3a1e1d959e842460ed'),\n",
       "  'title': 'Eyes Wide Shut',\n",
       "  'original_title': 'Eyes Wide Shut',\n",
       "  'plot': \"A Manhattan doctor embarks on a bizarre, night-long odyssey after his wife's admission of unfulfilled longing.\",\n",
       "  'url_thumbnail': 'https://m.media-amazon.com/images/M/MV5BZTQ0MmM5MDAtYmYyZS00MzlmLTlhZTAtZDJlZWY5ZTZkZjZmXkEyXkFqcGc@._V1_SX300.jpg'},\n",
       " {'_id': ObjectId('67b1ae4a1e1d959e84246414'),\n",
       "  'title': 'Eyes Wide Shut',\n",
       "  'original_title': 'Eyes Wide Shut',\n",
       "  'plot': \"A Manhattan doctor embarks on a bizarre, night-long odyssey after his wife's admission of unfulfilled longing.\",\n",
       "  'url_thumbnail': 'https://m.media-amazon.com/images/M/MV5BZTQ0MmM5MDAtYmYyZS00MzlmLTlhZTAtZDJlZWY5ZTZkZjZmXkEyXkFqcGc@._V1_SX300.jpg'}]"
      ]
     },
     "execution_count": 175,
     "metadata": {},
     "output_type": "execute_result"
    }
   ],
   "source": [
    "results = col_movies.find({ \"title\": \"Eyes Wide Shut\" })\n",
    "results.to_list()"
   ]
  },
  {
   "cell_type": "code",
   "execution_count": 144,
   "metadata": {},
   "outputs": [
    {
     "data": {
      "text/plain": [
       "[{'_id': 2,\n",
       "  'name': 'bananas',\n",
       "  'qty': 7,\n",
       "  'rating': 4,\n",
       "  'color': 'yellow',\n",
       "  'type': ['cavendish']},\n",
       " {'_id': 4, 'name': 'pineapple', 'qty': 3, 'rating': 5, 'color': 'yellow'}]"
      ]
     },
     "execution_count": 144,
     "metadata": {},
     "output_type": "execute_result"
    }
   ],
   "source": [
    "results = col_fruits.find({ \"color\": \"yellow\" })\n",
    "results.to_list()"
   ]
  },
  {
   "cell_type": "markdown",
   "metadata": {},
   "source": [
    "**Comparison operators**\n",
    "\n",
    "list of operators: https://www.mongodb.com/docs/manual/reference/operator/query-comparison/"
   ]
  },
  {
   "cell_type": "code",
   "execution_count": 143,
   "metadata": {},
   "outputs": [
    {
     "name": "stdout",
     "output_type": "stream",
     "text": [
      "{'_id': 1, 'name': 'apples', 'qty': 5, 'rating': 3, 'color': 'red', 'type': ['fuji', 'honeycrisp']}\n",
      "{'_id': 2, 'name': 'bananas', 'qty': 7, 'rating': 4, 'color': 'yellow', 'type': ['cavendish']}\n",
      "{'_id': 4, 'name': 'pineapple', 'qty': 3, 'rating': 5, 'color': 'yellow'}\n"
     ]
    }
   ],
   "source": [
    "results = col_fruits.find({ \"rating\": { \"$gt\" : 2 }})\n",
    "for f in results:\n",
    "    print(f) "
   ]
  },
  {
   "cell_type": "markdown",
   "metadata": {},
   "source": [
    "**Logical operators**\n",
    "\n",
    "https://www.mongodb.com/docs/manual/reference/operator/query-logical/"
   ]
  },
  {
   "cell_type": "code",
   "execution_count": 147,
   "metadata": {},
   "outputs": [
    {
     "name": "stdout",
     "output_type": "stream",
     "text": [
      "{'_id': 2, 'name': 'bananas', 'qty': 7, 'rating': 4, 'color': 'yellow', 'type': ['cavendish']}\n",
      "{'_id': 3, 'name': 'oranges', 'qty': 6, 'rating': 2, 'type': ['naval', 'mandarin']}\n",
      "{'_id': 4, 'name': 'pineapple', 'qty': 3, 'rating': 5, 'color': 'yellow'}\n"
     ]
    }
   ],
   "source": [
    "results = col_fruits.find({ \n",
    "    \"$or\": [\n",
    "        { \"qty\": { \"$gt\": 5 }},\n",
    "        { \"color\": \"yellow\" }\n",
    "    ]\n",
    "})\n",
    "for f in results:\n",
    "    print(f)"
   ]
  },
  {
   "cell_type": "markdown",
   "metadata": {},
   "source": [
    "**Arrays operators**\n",
    "\n",
    "https://www.mongodb.com/docs/manual/reference/operator/query-array/"
   ]
  },
  {
   "cell_type": "code",
   "execution_count": 158,
   "metadata": {},
   "outputs": [
    {
     "name": "stdout",
     "output_type": "stream",
     "text": [
      "{'_id': 1, 'name': 'apples', 'qty': 5, 'rating': 3, 'color': 'red', 'type': ['fuji', 'honeycrisp']}\n",
      "{'_id': 2, 'name': 'bananas', 'qty': 7, 'rating': 4, 'color': 'yellow', 'type': ['cavendish']}\n",
      "{'_id': 3, 'name': 'oranges', 'qty': 6, 'rating': 2, 'type': ['naval', 'mandarin']}\n",
      "{'_id': 4, 'name': 'pineapple', 'qty': 3, 'rating': 5, 'color': 'yellow'}\n",
      "{'_id': 5, 'name': 'test', 'qty': 10, 'rating': 3, 'color': 'green', 'type': ['fuji', 'typeXXX']}\n",
      "----\n",
      "{'_id': 1, 'name': 'apples', 'qty': 5, 'rating': 3, 'color': 'red', 'type': ['fuji', 'honeycrisp']}\n",
      "{'_id': 3, 'name': 'oranges', 'qty': 6, 'rating': 2, 'type': ['naval', 'mandarin']}\n",
      "{'_id': 5, 'name': 'test', 'qty': 10, 'rating': 3, 'color': 'green', 'type': ['fuji', 'typeXXX']}\n"
     ]
    }
   ],
   "source": [
    "for f in col_fruits.find({}):\n",
    "    print(f)\n",
    "\n",
    "print('----')\n",
    "results = col_fruits.find({\n",
    "    \"type\" : { \"$size\": 2 }\n",
    "})\n",
    "\n",
    "for f in results:\n",
    "    print(f)"
   ]
  },
  {
   "cell_type": "code",
   "execution_count": 159,
   "metadata": {},
   "outputs": [
    {
     "name": "stdout",
     "output_type": "stream",
     "text": [
      "{'_id': 1, 'name': 'apples', 'qty': 5, 'rating': 3, 'color': 'red', 'type': ['fuji', 'honeycrisp']}\n",
      "{'_id': 5, 'name': 'test', 'qty': 10, 'rating': 3, 'color': 'green', 'type': ['fuji', 'typeXXX']}\n"
     ]
    }
   ],
   "source": [
    "results = col_fruits.find({\n",
    "    \"type\" : { \"$all\": ['fuji'] }\n",
    "})\n",
    "\n",
    "for f in results:\n",
    "    print(f)"
   ]
  },
  {
   "cell_type": "markdown",
   "metadata": {},
   "source": [
    "**Element Operator**\n",
    "\n",
    "to check if a field exists"
   ]
  },
  {
   "cell_type": "code",
   "execution_count": 160,
   "metadata": {},
   "outputs": [
    {
     "name": "stdout",
     "output_type": "stream",
     "text": [
      "{'_id': 1, 'name': 'apples', 'qty': 5, 'rating': 3, 'color': 'red', 'type': ['fuji', 'honeycrisp']}\n",
      "{'_id': 2, 'name': 'bananas', 'qty': 7, 'rating': 4, 'color': 'yellow', 'type': ['cavendish']}\n",
      "{'_id': 4, 'name': 'pineapple', 'qty': 3, 'rating': 5, 'color': 'yellow'}\n",
      "{'_id': 5, 'name': 'test', 'qty': 10, 'rating': 3, 'color': 'green', 'type': ['fuji', 'typeXXX']}\n"
     ]
    }
   ],
   "source": [
    "results = col_fruits.find( { \"color\" : { \"$exists\": \"true\" }} )\n",
    "for f in results:\n",
    "    print(f)"
   ]
  },
  {
   "cell_type": "markdown",
   "metadata": {},
   "source": [
    "**Evaluation operators**\n",
    "\n",
    "https://www.mongodb.com/docs/manual/reference/operator/query-evaluation/"
   ]
  },
  {
   "cell_type": "code",
   "execution_count": null,
   "metadata": {},
   "outputs": [
    {
     "name": "stdout",
     "output_type": "stream",
     "text": [
      "{'_id': 1, 'name': 'apples', 'qty': 5, 'rating': 3, 'color': 'red', 'type': ['fuji', 'honeycrisp']}\n",
      "{'_id': 4, 'name': 'pineapple', 'qty': 3, 'rating': 5, 'color': 'yellow'}\n"
     ]
    }
   ],
   "source": [
    "results = col_fruits.find({ \"name\" : { \"$regex\" : \"p{2,}\" }} ) ## At least 2 consecutives p\n",
    "for f in results:\n",
    "    print(f)"
   ]
  },
  {
   "cell_type": "markdown",
   "metadata": {},
   "source": [
    "**Delete data**"
   ]
  },
  {
   "cell_type": "code",
   "execution_count": null,
   "metadata": {},
   "outputs": [
    {
     "name": "stdout",
     "output_type": "stream",
     "text": [
      "{'_id': 1, 'name': 'apples', 'qty': 5, 'rating': 3, 'color': 'red', 'type': ['fuji', 'honeycrisp']}\n",
      "{'_id': 2, 'name': 'bananas', 'qty': 7, 'rating': 4, 'color': 'yellow', 'type': ['cavendish']}\n",
      "{'_id': 3, 'name': 'oranges', 'qty': 6, 'rating': 2, 'type': ['naval', 'mandarin']}\n",
      "{'_id': 5, 'name': 'test', 'qty': 10, 'rating': 3, 'color': 'green', 'type': ['fuji', 'typeXXX']}\n",
      "{'_id': 4, 'name': 'pineapple', 'qty': 3, 'rating': 5, 'color': 'yellow'}\n",
      "{'_id': 1, 'name': 'apples', 'qty': 5, 'rating': 3, 'color': 'red', 'type': ['fuji', 'honeycrisp']}\n",
      "{'_id': 2, 'name': 'bananas', 'qty': 7, 'rating': 4, 'color': 'yellow', 'type': ['cavendish']}\n",
      "{'_id': 3, 'name': 'oranges', 'qty': 6, 'rating': 2, 'type': ['naval', 'mandarin']}\n",
      "{'_id': 5, 'name': 'test', 'qty': 10, 'rating': 3, 'color': 'green', 'type': ['fuji', 'typeXXX']}\n",
      "{'_id': 4, 'name': 'pineapple', 'qty': 3, 'rating': 5, 'color': 'yellow'}\n"
     ]
    }
   ],
   "source": [
    "# Delete_one\n",
    "for f in col_fruits.find({}):\n",
    "    print(f)\n",
    "\n",
    "col_fruits.delete_one({'_id' : 4})\n",
    "\n",
    "for f in col_fruits.find({}):\n",
    "    print(f)"
   ]
  },
  {
   "cell_type": "code",
   "execution_count": null,
   "metadata": {},
   "outputs": [
    {
     "name": "stdout",
     "output_type": "stream",
     "text": [
      "{'_id': 1, 'name': 'apples', 'qty': 5, 'rating': 3, 'color': 'red', 'type': ['fuji', 'honeycrisp']}\n",
      "{'_id': 2, 'name': 'bananas', 'qty': 7, 'rating': 4, 'color': 'yellow', 'type': ['cavendish']}\n",
      "{'_id': 3, 'name': 'oranges', 'qty': 6, 'rating': 2, 'type': ['naval', 'mandarin']}\n",
      "{'_id': 4, 'name': 'pineapple', 'qty': 3, 'rating': 5, 'color': 'yellow'}\n",
      "{'_id': 5, 'name': 'test', 'qty': 10, 'rating': 3, 'color': 'green', 'type': ['fuji', 'typeXXX']}\n",
      "{'_id': 1, 'name': 'apples', 'qty': 5, 'rating': 3, 'color': 'red', 'type': ['fuji', 'honeycrisp']}\n",
      "{'_id': 2, 'name': 'bananas', 'qty': 7, 'rating': 4, 'color': 'yellow', 'type': ['cavendish']}\n",
      "{'_id': 3, 'name': 'oranges', 'qty': 6, 'rating': 2, 'type': ['naval', 'mandarin']}\n",
      "{'_id': 4, 'name': 'pineapple', 'qty': 3, 'rating': 5, 'color': 'yellow'}\n",
      "{'_id': 5, 'name': 'test', 'qty': 10, 'rating': 3, 'color': 'green', 'type': ['fuji', 'typeXXX']}\n"
     ]
    }
   ],
   "source": [
    "# Delete_many\n",
    "for f in col_fruits.find({}):\n",
    "    print(f)\n",
    "\n",
    "col_fruits.delete_many({'_id' : {'$gte' : 3} })\n",
    "\n",
    "for f in col_fruits.find({}):\n",
    "    print(f)"
   ]
  },
  {
   "cell_type": "code",
   "execution_count": 186,
   "metadata": {},
   "outputs": [
    {
     "name": "stdout",
     "output_type": "stream",
     "text": [
      "{'_id': 1, 'name': 'apples', 'qty': 5, 'rating': 3, 'color': 'red', 'type': ['fuji', 'honeycrisp']}\n",
      "{'_id': 2, 'name': 'bananas', 'qty': 7, 'rating': 4, 'color': 'yellow', 'type': ['cavendish']}\n",
      "{'_id': 3, 'name': 'oranges', 'qty': 6, 'rating': 2, 'type': ['naval', 'mandarin']}\n",
      "{'_id': 4, 'name': 'pineapple', 'qty': 3, 'rating': 5, 'color': 'yellow'}\n",
      "{'_id': 5, 'name': 'test', 'qty': 10, 'rating': 3, 'color': 'green', 'type': ['fuji', 'typeXXX']}\n",
      "{'_id': 2, 'name': 'bananas', 'qty': 7, 'rating': 4, 'color': 'yellow', 'type': ['cavendish']}\n",
      "{'_id': 4, 'name': 'pineapple', 'qty': 3, 'rating': 5, 'color': 'yellow'}\n"
     ]
    }
   ],
   "source": [
    "# Delete_many\n",
    "for f in col_fruits.find({}):\n",
    "    print(f)\n",
    "\n",
    "col_fruits.delete_many({'_id' : {'$in' : [1, 3, 5]} })\n",
    "\n",
    "for f in col_fruits.find({}):\n",
    "    print(f)"
   ]
  },
  {
   "cell_type": "code",
   "execution_count": null,
   "metadata": {},
   "outputs": [],
   "source": []
  }
 ],
 "metadata": {
  "kernelspec": {
   "display_name": "block1",
   "language": "python",
   "name": "python3"
  },
  "language_info": {
   "codemirror_mode": {
    "name": "ipython",
    "version": 3
   },
   "file_extension": ".py",
   "mimetype": "text/x-python",
   "name": "python",
   "nbconvert_exporter": "python",
   "pygments_lexer": "ipython3",
   "version": "3.12.8"
  }
 },
 "nbformat": 4,
 "nbformat_minor": 2
}
