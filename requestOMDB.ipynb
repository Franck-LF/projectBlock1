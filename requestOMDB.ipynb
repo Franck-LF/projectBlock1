{
 "cells": [
  {
   "cell_type": "markdown",
   "metadata": {},
   "source": [
    "# <center> **Requesting an external API**"
   ]
  },
  {
   "cell_type": "markdown",
   "metadata": {},
   "source": [
    "A partir d'une liste de titres de films nous allons requêter l'API publique [https://www.omdbapi.com](https://www.omdbapi.com)\n",
    "\n",
    "Nous enregistrerons les données non-structurées (résumé et affiche du film) dans une base NoSQL (MongoDB)"
   ]
  },
  {
   "cell_type": "code",
   "execution_count": 226,
   "metadata": {},
   "outputs": [],
   "source": [
    "%reset"
   ]
  },
  {
   "cell_type": "markdown",
   "metadata": {},
   "source": [
    "## **Imports**"
   ]
  },
  {
   "cell_type": "code",
   "execution_count": null,
   "metadata": {},
   "outputs": [],
   "source": [
    "import math\n",
    "import copy\n",
    "import re\n",
    "import os\n",
    "import json\n",
    "import requests\n",
    "import numpy as np\n",
    "import pandas as pd\n",
    "from tqdm import tqdm\n",
    "from unidecode import unidecode\n",
    "\n",
    "# MongoDB / Pymongo\n",
    "import pymongo\n",
    "from pymongo.mongo_client import MongoClient\n",
    "from pymongo.server_api import ServerApi\n",
    "import pprint\n",
    "from dotenv import load_dotenv\n",
    "\n",
    "pd.set_option('display.max_rows', 10)\n",
    "tqdm.pandas()\n",
    "\n",
    "# Environnement variables\n",
    "load_dotenv()\n",
    "\n",
    "OMDB_API_KEY = os.getenv(\"OMDB_API_KEY\")"
   ]
  },
  {
   "cell_type": "code",
   "execution_count": null,
   "metadata": {},
   "outputs": [
    {
     "data": {
      "text/plain": [
       "{'Title': 'God Save the Tuche',\n",
       " 'Year': '2025',\n",
       " 'Rated': 'N/A',\n",
       " 'Released': '05 Feb 2025',\n",
       " 'Runtime': '95 min',\n",
       " 'Genre': 'Comedy',\n",
       " 'Director': 'Jean-Paul Rouve',\n",
       " 'Writer': 'Nessim Chikhaoui, Julien Hervé, Philippe Mechelen',\n",
       " 'Actors': 'Jean-Paul Rouve, Isabelle Nanty, Claire Nadeau',\n",
       " 'Plot': 'N/A',\n",
       " 'Language': 'French',\n",
       " 'Country': 'France',\n",
       " 'Awards': 'N/A',\n",
       " 'Poster': 'https://m.media-amazon.com/images/M/MV5BMGZlY2RhNzUtZmExYy00NzAyLWFkZTctMjA5NmU3N2UyMzRhXkEyXkFqcGc@._V1_SX300.jpg',\n",
       " 'Ratings': [],\n",
       " 'Metascore': 'N/A',\n",
       " 'imdbRating': 'N/A',\n",
       " 'imdbVotes': '94',\n",
       " 'imdbID': 'tt33613785',\n",
       " 'Type': 'movie',\n",
       " 'DVD': 'N/A',\n",
       " 'BoxOffice': 'N/A',\n",
       " 'Production': 'N/A',\n",
       " 'Website': 'N/A',\n",
       " 'Response': 'True'}"
      ]
     },
     "execution_count": 251,
     "metadata": {},
     "output_type": "execute_result"
    }
   ],
   "source": [
    "url = f\"https://www.omdbapi.com/?apikey={OMDB_API_KEY}&t=god+save+the+tuche\"\n",
    "r = requests.get(url)\n",
    "if r.status_code != 200:\n",
    "    print(\"Error:\", url)\n",
    "\n",
    "json.loads(r.text)"
   ]
  },
  {
   "cell_type": "markdown",
   "metadata": {},
   "source": [
    "## **Reading the data**\n"
   ]
  },
  {
   "cell_type": "code",
   "execution_count": 76,
   "metadata": {},
   "outputs": [
    {
     "name": "stdout",
     "output_type": "stream",
     "text": [
      "Nb movies : 24\n"
     ]
    },
    {
     "data": {
      "text/html": [
       "<div>\n",
       "<style scoped>\n",
       "    .dataframe tbody tr th:only-of-type {\n",
       "        vertical-align: middle;\n",
       "    }\n",
       "\n",
       "    .dataframe tbody tr th {\n",
       "        vertical-align: top;\n",
       "    }\n",
       "\n",
       "    .dataframe thead th {\n",
       "        text-align: right;\n",
       "    }\n",
       "</style>\n",
       "<table border=\"1\" class=\"dataframe\">\n",
       "  <thead>\n",
       "    <tr style=\"text-align: right;\">\n",
       "      <th></th>\n",
       "      <th>title</th>\n",
       "      <th>original_title</th>\n",
       "      <th>summary</th>\n",
       "      <th>url_thumbnail</th>\n",
       "    </tr>\n",
       "  </thead>\n",
       "  <tbody>\n",
       "    <tr>\n",
       "      <th>0</th>\n",
       "      <td>Totto-Chan, la petite fille à la fenêtre</td>\n",
       "      <td>Madogiwa no Totto-chan</td>\n",
       "      <td>Tokyo, début des années 1940. Tetsuko, que tou...</td>\n",
       "      <td>https://fr.web.img2.acsta.net/c_310_420/img/04...</td>\n",
       "    </tr>\n",
       "    <tr>\n",
       "      <th>1</th>\n",
       "      <td>Tout ira bien</td>\n",
       "      <td>All Shall Be Well</td>\n",
       "      <td>Angie et Pat vivent le parfait amour à Hong Ko...</td>\n",
       "      <td>https://fr.web.img5.acsta.net/c_310_420/img/1a...</td>\n",
       "    </tr>\n",
       "    <tr>\n",
       "      <th>2</th>\n",
       "      <td>Quiet Life</td>\n",
       "      <td>Quiet Life</td>\n",
       "      <td>Suède, 2018. Un syndrome mystérieux affecte le...</td>\n",
       "      <td>https://fr.web.img2.acsta.net/c_310_420/img/e1...</td>\n",
       "    </tr>\n",
       "    <tr>\n",
       "      <th>3</th>\n",
       "      <td>Maja, une épopée finlandaise</td>\n",
       "      <td>Myrskyluodon Maija</td>\n",
       "      <td>Au XIXe siècle, Maja épouse Janne, un modeste ...</td>\n",
       "      <td>https://fr.web.img5.acsta.net/c_310_420/img/cc...</td>\n",
       "    </tr>\n",
       "    <tr>\n",
       "      <th>4</th>\n",
       "      <td>Pepe</td>\n",
       "      <td>Pepe</td>\n",
       "      <td>Pablo Escobar c'est 30 milliards de dollars, 5...</td>\n",
       "      <td>https://fr.web.img6.acsta.net/c_310_420/img/0c...</td>\n",
       "    </tr>\n",
       "    <tr>\n",
       "      <th>...</th>\n",
       "      <td>...</td>\n",
       "      <td>...</td>\n",
       "      <td>...</td>\n",
       "      <td>...</td>\n",
       "    </tr>\n",
       "    <tr>\n",
       "      <th>19</th>\n",
       "      <td>God Save the Tuche</td>\n",
       "      <td>God Save the Tuche</td>\n",
       "      <td>Les Tuche mènent à nouveau une vie paisible à ...</td>\n",
       "      <td>https://fr.web.img2.acsta.net/c_310_420/img/e1...</td>\n",
       "    </tr>\n",
       "    <tr>\n",
       "      <th>20</th>\n",
       "      <td>Paddington au Pérou</td>\n",
       "      <td>Paddington in Peru</td>\n",
       "      <td>Alors que Paddington rend visite à sa tante Lu...</td>\n",
       "      <td>https://fr.web.img5.acsta.net/c_310_420/img/3d...</td>\n",
       "    </tr>\n",
       "    <tr>\n",
       "      <th>21</th>\n",
       "      <td>Une guitare à la mer</td>\n",
       "      <td>Une guitare à la mer</td>\n",
       "      <td>C’est l’histoire d’une fouine qui voudrait viv...</td>\n",
       "      <td>https://fr.web.img4.acsta.net/c_310_420/img/02...</td>\n",
       "    </tr>\n",
       "    <tr>\n",
       "      <th>22</th>\n",
       "      <td>Pororo et le Dragon Géant</td>\n",
       "      <td>Pororo Dragon Castle Adventure</td>\n",
       "      <td>Pororo et ses amis partent en mission au coeur...</td>\n",
       "      <td>https://fr.web.img3.acsta.net/c_310_420/img/ab...</td>\n",
       "    </tr>\n",
       "    <tr>\n",
       "      <th>23</th>\n",
       "      <td>Beurk !</td>\n",
       "      <td>Beurk !</td>\n",
       "      <td>Programme de 5 courts-métrages d’animation.</td>\n",
       "      <td>https://fr.web.img4.acsta.net/c_310_420/img/e1...</td>\n",
       "    </tr>\n",
       "  </tbody>\n",
       "</table>\n",
       "<p>24 rows × 4 columns</p>\n",
       "</div>"
      ],
      "text/plain": [
       "                                       title                  original_title  \\\n",
       "0   Totto-Chan, la petite fille à la fenêtre          Madogiwa no Totto-chan   \n",
       "1                              Tout ira bien               All Shall Be Well   \n",
       "2                                 Quiet Life                      Quiet Life   \n",
       "3              Maja, une épopée finlandaise               Myrskyluodon Maija   \n",
       "4                                       Pepe                            Pepe   \n",
       "..                                       ...                             ...   \n",
       "19                        God Save the Tuche              God Save the Tuche   \n",
       "20                       Paddington au Pérou              Paddington in Peru   \n",
       "21                      Une guitare à la mer            Une guitare à la mer   \n",
       "22                 Pororo et le Dragon Géant  Pororo Dragon Castle Adventure   \n",
       "23                                   Beurk !                         Beurk !   \n",
       "\n",
       "                                              summary  \\\n",
       "0   Tokyo, début des années 1940. Tetsuko, que tou...   \n",
       "1   Angie et Pat vivent le parfait amour à Hong Ko...   \n",
       "2   Suède, 2018. Un syndrome mystérieux affecte le...   \n",
       "3   Au XIXe siècle, Maja épouse Janne, un modeste ...   \n",
       "4   Pablo Escobar c'est 30 milliards de dollars, 5...   \n",
       "..                                                ...   \n",
       "19  Les Tuche mènent à nouveau une vie paisible à ...   \n",
       "20  Alors que Paddington rend visite à sa tante Lu...   \n",
       "21  C’est l’histoire d’une fouine qui voudrait viv...   \n",
       "22  Pororo et ses amis partent en mission au coeur...   \n",
       "23        Programme de 5 courts-métrages d’animation.   \n",
       "\n",
       "                                        url_thumbnail  \n",
       "0   https://fr.web.img2.acsta.net/c_310_420/img/04...  \n",
       "1   https://fr.web.img5.acsta.net/c_310_420/img/1a...  \n",
       "2   https://fr.web.img2.acsta.net/c_310_420/img/e1...  \n",
       "3   https://fr.web.img5.acsta.net/c_310_420/img/cc...  \n",
       "4   https://fr.web.img6.acsta.net/c_310_420/img/0c...  \n",
       "..                                                ...  \n",
       "19  https://fr.web.img2.acsta.net/c_310_420/img/e1...  \n",
       "20  https://fr.web.img5.acsta.net/c_310_420/img/3d...  \n",
       "21  https://fr.web.img4.acsta.net/c_310_420/img/02...  \n",
       "22  https://fr.web.img3.acsta.net/c_310_420/img/ab...  \n",
       "23  https://fr.web.img4.acsta.net/c_310_420/img/e1...  \n",
       "\n",
       "[24 rows x 4 columns]"
      ]
     },
     "execution_count": 76,
     "metadata": {},
     "output_type": "execute_result"
    }
   ],
   "source": [
    "df_movies = pd.read_csv('csv/movies_year_2025_week_1_to_5.csv', delimiter = ',', usecols=['title', 'original_title', 'summary', 'url_thumbnail'])\n",
    "print(\"Nb movies :\", df_movies.shape[0])\n",
    "df_movies"
   ]
  },
  {
   "cell_type": "code",
   "execution_count": 77,
   "metadata": {},
   "outputs": [],
   "source": [
    "def format_string(st):\n",
    "    ''' format string \n",
    "        from \"title of the movie\" \n",
    "        to title+of+the+movie\n",
    "\n",
    "        Arg: st string to be converted.\n",
    "    '''\n",
    "    res = ''\n",
    "    for c in st:\n",
    "        if c.isdigit() or c.isalpha() or c.isspace():\n",
    "            res += unidecode(c)\n",
    "        else:\n",
    "            res += ' '\n",
    "    return '+'.join([word for word in res.split() if len(word) > 1])\n",
    "\n",
    "def request_omdb_from_title(title):\n",
    "    ''' Request the omdb API\n",
    "    \n",
    "        return a json dictionary with the information about the movie.\n",
    "\n",
    "        Arg:\n",
    "         - title: string with title of the movie we want the infos about.\n",
    "    '''\n",
    "    url = f\"https://www.omdbapi.com/?apikey={api_key}&t={format_string(title)}\"\n",
    "    r = requests.get(url)\n",
    "    if r.status_code != 200:\n",
    "        print(f\"ERROR {title}, Response Code: {r.status_code}\")\n",
    "        print(\"Request:\", url)\n",
    "        return {'Response': 'False'}\n",
    "    return json.loads(r.text)\n",
    "\n",
    "def get_plot_and_thumbail_from_omdb(title):\n",
    "    ''' return movie plot and thumbail through an API request.\n",
    "\n",
    "        return: \n",
    "          - plot:      string containing the plot of the movie,\n",
    "          - thumbnail: string containing the url of the thumbnail.\n",
    "\n",
    "        Arg: title: string with the title of the movie.\n",
    "    '''\n",
    "    plot, thumbnail = '', ''\n",
    "    res_dict = request_omdb_from_title(title)\n",
    "    lst_keys = res_dict.keys()\n",
    "    assert 'Response' in res_dict\n",
    "    if res_dict['Response'] == 'True':\n",
    "        # print('res_dict', res_dict)\n",
    "        assert 'Plot' in lst_keys and 'Poster' in lst_keys\n",
    "        if res_dict['Plot'] != 'N/A':\n",
    "            plot = res_dict['Plot']\n",
    "        if res_dict['Poster'] != '' and res_dict['Poster'] != 'N/A':\n",
    "            thumbnail = res_dict['Poster']\n",
    "    return plot + \"AND\" + thumbnail"
   ]
  },
  {
   "cell_type": "markdown",
   "metadata": {},
   "source": [
    "## **Get the plot and the thumbnail from the omdb API**"
   ]
  },
  {
   "cell_type": "code",
   "execution_count": 78,
   "metadata": {},
   "outputs": [],
   "source": [
    "df_movies['temp']      = df_movies['original_title'].apply(get_plot_and_thumbail_from_omdb)\n",
    "df_movies['plot']      = df_movies['temp'].apply(lambda x : x.split('AND')[0])\n",
    "df_movies['thumbnail'] = df_movies['temp'].apply(lambda x : x.split('AND')[1])\n",
    "df_movies['plot']          = np.where(df_movies['plot'] != '', df_movies['plot'], df_movies['summary'])\n",
    "df_movies['url_thumbnail'] = np.where(df_movies['thumbnail'] != '', df_movies['thumbnail'], df_movies['url_thumbnail'])\n",
    "df_movies = df_movies[['title', 'original_title', 'plot', 'url_thumbnail']]"
   ]
  },
  {
   "cell_type": "code",
   "execution_count": 79,
   "metadata": {},
   "outputs": [
    {
     "data": {
      "text/html": [
       "<div>\n",
       "<style scoped>\n",
       "    .dataframe tbody tr th:only-of-type {\n",
       "        vertical-align: middle;\n",
       "    }\n",
       "\n",
       "    .dataframe tbody tr th {\n",
       "        vertical-align: top;\n",
       "    }\n",
       "\n",
       "    .dataframe thead th {\n",
       "        text-align: right;\n",
       "    }\n",
       "</style>\n",
       "<table border=\"1\" class=\"dataframe\">\n",
       "  <thead>\n",
       "    <tr style=\"text-align: right;\">\n",
       "      <th></th>\n",
       "      <th>title</th>\n",
       "      <th>original_title</th>\n",
       "      <th>plot</th>\n",
       "      <th>url_thumbnail</th>\n",
       "    </tr>\n",
       "  </thead>\n",
       "  <tbody>\n",
       "    <tr>\n",
       "      <th>0</th>\n",
       "      <td>Totto-Chan, la petite fille à la fenêtre</td>\n",
       "      <td>Madogiwa no Totto-chan</td>\n",
       "      <td>Tokyo, début des années 1940. Tetsuko, que tou...</td>\n",
       "      <td>https://fr.web.img2.acsta.net/c_310_420/img/04...</td>\n",
       "    </tr>\n",
       "    <tr>\n",
       "      <th>1</th>\n",
       "      <td>Tout ira bien</td>\n",
       "      <td>All Shall Be Well</td>\n",
       "      <td>Angie and Pat have been together for over four...</td>\n",
       "      <td>https://m.media-amazon.com/images/M/MV5BMzBmNT...</td>\n",
       "    </tr>\n",
       "    <tr>\n",
       "      <th>2</th>\n",
       "      <td>Quiet Life</td>\n",
       "      <td>Quiet Life</td>\n",
       "      <td>Refugee family in Sweden faces trauma after yo...</td>\n",
       "      <td>https://m.media-amazon.com/images/M/MV5BYWRjYj...</td>\n",
       "    </tr>\n",
       "    <tr>\n",
       "      <th>3</th>\n",
       "      <td>Maja, une épopée finlandaise</td>\n",
       "      <td>Myrskyluodon Maija</td>\n",
       "      <td>Au XIXe siècle, Maja épouse Janne, un modeste ...</td>\n",
       "      <td>https://fr.web.img5.acsta.net/c_310_420/img/cc...</td>\n",
       "    </tr>\n",
       "    <tr>\n",
       "      <th>4</th>\n",
       "      <td>Pepe</td>\n",
       "      <td>Pepe</td>\n",
       "      <td>The young Mexican Pepe's beloved horse is sold...</td>\n",
       "      <td>https://m.media-amazon.com/images/M/MV5BOTY3Mj...</td>\n",
       "    </tr>\n",
       "    <tr>\n",
       "      <th>...</th>\n",
       "      <td>...</td>\n",
       "      <td>...</td>\n",
       "      <td>...</td>\n",
       "      <td>...</td>\n",
       "    </tr>\n",
       "    <tr>\n",
       "      <th>19</th>\n",
       "      <td>God Save the Tuche</td>\n",
       "      <td>God Save the Tuche</td>\n",
       "      <td>Les Tuche mènent à nouveau une vie paisible à ...</td>\n",
       "      <td>https://m.media-amazon.com/images/M/MV5BMGZlY2...</td>\n",
       "    </tr>\n",
       "    <tr>\n",
       "      <th>20</th>\n",
       "      <td>Paddington au Pérou</td>\n",
       "      <td>Paddington in Peru</td>\n",
       "      <td>Paddington returns to Peru to visit his belove...</td>\n",
       "      <td>https://m.media-amazon.com/images/M/MV5BNzMyNW...</td>\n",
       "    </tr>\n",
       "    <tr>\n",
       "      <th>21</th>\n",
       "      <td>Une guitare à la mer</td>\n",
       "      <td>Une guitare à la mer</td>\n",
       "      <td>C’est l’histoire d’une fouine qui voudrait viv...</td>\n",
       "      <td>https://fr.web.img4.acsta.net/c_310_420/img/02...</td>\n",
       "    </tr>\n",
       "    <tr>\n",
       "      <th>22</th>\n",
       "      <td>Pororo et le Dragon Géant</td>\n",
       "      <td>Pororo Dragon Castle Adventure</td>\n",
       "      <td>A mysterious wizard, Gad, appears in the Drago...</td>\n",
       "      <td>https://m.media-amazon.com/images/M/MV5BZGVhZG...</td>\n",
       "    </tr>\n",
       "    <tr>\n",
       "      <th>23</th>\n",
       "      <td>Beurk !</td>\n",
       "      <td>Beurk !</td>\n",
       "      <td>Yuck. Couples kissing on the mouth are gross. ...</td>\n",
       "      <td>https://m.media-amazon.com/images/M/MV5BYWM1Mm...</td>\n",
       "    </tr>\n",
       "  </tbody>\n",
       "</table>\n",
       "<p>24 rows × 4 columns</p>\n",
       "</div>"
      ],
      "text/plain": [
       "                                       title                  original_title  \\\n",
       "0   Totto-Chan, la petite fille à la fenêtre          Madogiwa no Totto-chan   \n",
       "1                              Tout ira bien               All Shall Be Well   \n",
       "2                                 Quiet Life                      Quiet Life   \n",
       "3              Maja, une épopée finlandaise               Myrskyluodon Maija   \n",
       "4                                       Pepe                            Pepe   \n",
       "..                                       ...                             ...   \n",
       "19                        God Save the Tuche              God Save the Tuche   \n",
       "20                       Paddington au Pérou              Paddington in Peru   \n",
       "21                      Une guitare à la mer            Une guitare à la mer   \n",
       "22                 Pororo et le Dragon Géant  Pororo Dragon Castle Adventure   \n",
       "23                                   Beurk !                         Beurk !   \n",
       "\n",
       "                                                 plot  \\\n",
       "0   Tokyo, début des années 1940. Tetsuko, que tou...   \n",
       "1   Angie and Pat have been together for over four...   \n",
       "2   Refugee family in Sweden faces trauma after yo...   \n",
       "3   Au XIXe siècle, Maja épouse Janne, un modeste ...   \n",
       "4   The young Mexican Pepe's beloved horse is sold...   \n",
       "..                                                ...   \n",
       "19  Les Tuche mènent à nouveau une vie paisible à ...   \n",
       "20  Paddington returns to Peru to visit his belove...   \n",
       "21  C’est l’histoire d’une fouine qui voudrait viv...   \n",
       "22  A mysterious wizard, Gad, appears in the Drago...   \n",
       "23  Yuck. Couples kissing on the mouth are gross. ...   \n",
       "\n",
       "                                        url_thumbnail  \n",
       "0   https://fr.web.img2.acsta.net/c_310_420/img/04...  \n",
       "1   https://m.media-amazon.com/images/M/MV5BMzBmNT...  \n",
       "2   https://m.media-amazon.com/images/M/MV5BYWRjYj...  \n",
       "3   https://fr.web.img5.acsta.net/c_310_420/img/cc...  \n",
       "4   https://m.media-amazon.com/images/M/MV5BOTY3Mj...  \n",
       "..                                                ...  \n",
       "19  https://m.media-amazon.com/images/M/MV5BMGZlY2...  \n",
       "20  https://m.media-amazon.com/images/M/MV5BNzMyNW...  \n",
       "21  https://fr.web.img4.acsta.net/c_310_420/img/02...  \n",
       "22  https://m.media-amazon.com/images/M/MV5BZGVhZG...  \n",
       "23  https://m.media-amazon.com/images/M/MV5BYWM1Mm...  \n",
       "\n",
       "[24 rows x 4 columns]"
      ]
     },
     "execution_count": 79,
     "metadata": {},
     "output_type": "execute_result"
    }
   ],
   "source": [
    "df_movies"
   ]
  },
  {
   "cell_type": "markdown",
   "metadata": {},
   "source": [
    "## **Store the data in a NoSQL database**"
   ]
  },
  {
   "cell_type": "code",
   "execution_count": 80,
   "metadata": {},
   "outputs": [],
   "source": [
    "# Connect to MongoDB\n",
    "client = pymongo.MongoClient(\"mongodb://localhost:27017/\")\n",
    "\n",
    "# Create database \"allocine\" (or selects it if already exists)\n",
    "mydb = client[\"allocine\"]\n",
    "# client.drop_database(\"movies\")\n",
    "\n",
    "# Create a collection \"movies\" (table in SQL)\n",
    "col_movies = mydb[\"movies\"]\n",
    "# col_movies.drop()"
   ]
  },
  {
   "cell_type": "code",
   "execution_count": 81,
   "metadata": {},
   "outputs": [
    {
     "name": "stdout",
     "output_type": "stream",
     "text": [
      "['Rennes', 'Rennes2', 'admin', 'allocine', 'config', 'local', 'mydatabase', 'test_queries']\n",
      "['movies']\n",
      "Nb documents: 8823\n"
     ]
    }
   ],
   "source": [
    "# Insertion of movie plots in MongoDB database\n",
    "col_movies.insert_many(df_movies.to_dict(orient='records')) # TO DO ONLY ONCE\n",
    "# col_movies.drop()\n",
    "\n",
    "print(client.list_database_names())\n",
    "print(mydb.list_collection_names())\n",
    "\n",
    "# for doc in list(col_movies.find().limit(5)):\n",
    "#     pprint.pprint(doc)\n",
    "\n",
    "print(\"Nb documents:\", col_movies.count_documents({}))"
   ]
  },
  {
   "cell_type": "markdown",
   "metadata": {},
   "source": [
    "## **Checking what is in the Mongo DB**"
   ]
  },
  {
   "cell_type": "code",
   "execution_count": 83,
   "metadata": {},
   "outputs": [
    {
     "name": "stdout",
     "output_type": "stream",
     "text": [
      "518\n",
      "678\n",
      "869\n",
      "585\n",
      "807\n",
      "729\n",
      "980\n",
      "600\n",
      "750\n",
      "800\n",
      "750\n",
      "750\n",
      "24\n",
      "Nb total de films en base SQL 8840\n",
      "Nb documents MongoDB: 8823\n"
     ]
    },
    {
     "data": {
      "text/plain": [
       "8840"
      ]
     },
     "execution_count": 83,
     "metadata": {},
     "output_type": "execute_result"
    }
   ],
   "source": [
    "names = ['csv/movies_year_1960_to_1970.csv',\n",
    "         'csv/movies_year_1970_to_1980.csv',\n",
    "         'csv/movies_year_1980_to_1990.csv',\n",
    "         'csv/movies_year_1990_to_1995.csv',\n",
    "         'csv/movies_year_1995_to_2000.csv',\n",
    "         'csv/movies_year_2000_to_2003.csv',\n",
    "         'csv/movies_year_2003_to_2006.csv',\n",
    "         'csv/movies_year_2006_to_2010.csv',\n",
    "         'csv/movies_year_2010_to_2015.csv',\n",
    "         'csv/movies_year_2015_to_2019.csv',\n",
    "         'csv/movies_year_2019_to_2022.csv',\n",
    "         'csv/movies_year_2022_to_2025.csv',\n",
    "         'csv/movies_year_2025_week_1_to_5.csv',\n",
    "         ]\n",
    "\n",
    "lst_df = [pd.read_csv(name, delimiter = ',', usecols=['title', 'original_title', 'summary', 'url_thumbnail'])\n",
    "          for name in names]\n",
    "\n",
    "for df in lst_df:\n",
    "    print(df.shape[0])\n",
    "\n",
    "df_csv = pd.concat(lst_df)\n",
    "print(\"Nb total de films en base SQL\", df_csv.shape[0])\n",
    "# df_csv.to_csv('csv/mongoDB_all_years.csv', sep=',', index = False)\n",
    "\n",
    "# Reading data from Mongo DB\n",
    "client = pymongo.MongoClient(\"mongodb://localhost:27017/\")\n",
    "mydb = client[\"allocine\"]\n",
    "col_movies = mydb[\"movies\"]\n",
    "print(\"Nb documents MongoDB:\", col_movies.count_documents({}))\n",
    "\n",
    "# 1960 to 2010 stored in Mongo DB\n",
    "518 + 678 + 869 + 585 + 807 + 729 + 980 + 600 + 750 + 800 + 750 + 750 + 24"
   ]
  },
  {
   "cell_type": "code",
   "execution_count": 84,
   "metadata": {},
   "outputs": [
    {
     "name": "stdout",
     "output_type": "stream",
     "text": [
      "8823\n"
     ]
    }
   ],
   "source": [
    "# Store data in csv file\n",
    "lst = list(col_movies.find())\n",
    "df_mongo = pd.DataFrame(lst, columns = ['_id', 'title', 'original_title', 'plot', 'url_thumbnail'])\n",
    "print(df_mongo.shape[0])\n",
    "df_mongo.to_csv('csv/mongoDB_1960_to_2025_week_5.csv', sep=',', index = False)"
   ]
  },
  {
   "cell_type": "markdown",
   "metadata": {},
   "source": [
    "**Since we added twice the same 807 movies, we have to remove them from MongoDB**"
   ]
  },
  {
   "cell_type": "code",
   "execution_count": null,
   "metadata": {},
   "outputs": [
    {
     "name": "stdout",
     "output_type": "stream",
     "text": [
      "Nb documents: 4264\n",
      "Nb documents: 2639\n"
     ]
    }
   ],
   "source": [
    "client = pymongo.MongoClient(\"mongodb://localhost:27017/\")\n",
    "mydb = client[\"allocine\"]\n",
    "col_movies = mydb[\"movies\"]\n",
    "\n",
    "print(\"Nb documents:\", col_movies.count_documents({}))\n",
    "col_movies.delete_many({'original_title' : {'$in' : df_movies['original_title'].values.tolist()} })\n",
    "print(\"Nb documents:\", col_movies.count_documents({}))"
   ]
  },
  {
   "cell_type": "markdown",
   "metadata": {},
   "source": [
    "**Looks like more documents have been deleted**<br>\n",
    "So we will drop the whole data base and use the csv 'mongoDB.csv' to restore the previous database and re-add the movies needed."
   ]
  },
  {
   "cell_type": "code",
   "execution_count": null,
   "metadata": {},
   "outputs": [],
   "source": [
    "client = pymongo.MongoClient(\"mongodb://localhost:27017/\")\n",
    "client.drop_database('allocine')\n",
    "\n",
    "# Recreate DB\n",
    "client = pymongo.MongoClient(\"mongodb://localhost:27017/\")\n",
    "mydb = client[\"allocine\"]\n",
    "col_movies = mydb[\"movies\"]"
   ]
  },
  {
   "cell_type": "markdown",
   "metadata": {},
   "source": [
    "## **Query MongoDB Using PyMongo**"
   ]
  },
  {
   "cell_type": "markdown",
   "metadata": {},
   "source": [
    "### **We create another DB**"
   ]
  },
  {
   "cell_type": "code",
   "execution_count": 184,
   "metadata": {},
   "outputs": [
    {
     "name": "stdout",
     "output_type": "stream",
     "text": [
      "['Rennes', 'Rennes2', 'admin', 'allocine', 'config', 'local', 'mydatabase', 'test_queries']\n",
      "['fruits']\n"
     ]
    }
   ],
   "source": [
    "client2 = pymongo.MongoClient(\"mongodb://localhost:27017/\")\n",
    "mydb2 = client2[\"test_queries\"]\n",
    "# client.drop_database(\"test_queries\")\n",
    "\n",
    "# Create a collection \"movies\" (table in SQL)\n",
    "col_fruits = mydb2[\"fruits\"]\n",
    "# col_fruits.drop()\n",
    "\n",
    "col_fruits.insert_many([\n",
    "        # { \"_id\": 1, \"name\": \"apples\", \"qty\": 5, \"rating\": 3, \"color\": \"red\", \"type\": [\"fuji\", \"honeycrisp\"] },\n",
    "        # { \"_id\": 2, \"name\": \"bananas\", \"qty\": 7, \"rating\": 4, \"color\": \"yellow\", \"type\": [\"cavendish\"] },\n",
    "        { \"_id\": 3, \"name\": \"oranges\", \"qty\": 6, \"rating\": 2, \"type\": [\"naval\", \"mandarin\"] },\n",
    "        { \"_id\": 4, \"name\": \"pineapple\", \"qty\": 3, \"rating\": 5, \"color\": \"yellow\" },\n",
    "        { \"_id\": 5, \"name\": \"test\", \"qty\": 10, \"rating\": 3, \"color\": \"green\", \"type\": [\"fuji\", \"typeXXX\"] },\n",
    "    ])\n",
    "# col_fruits.drop()\n",
    "\n",
    "print(client2.list_database_names())\n",
    "print(mydb2.list_collection_names())"
   ]
  },
  {
   "cell_type": "markdown",
   "metadata": {},
   "source": [
    "**Sources**<br>\n",
    "https://www.mongodb.com/docs/languages/python/pymongo-driver/current/read/specify-a-query/<br>\n",
    "https://www.w3resource.com/mongodb/introduction-mongodb.php<br>\n",
    "https://www.mongodbtutorial.org/mongodb-crud/mongodb-findone/<br>\n",
    "https://geekflare.com/fr/mongodb-queries-examples/<br>\n"
   ]
  },
  {
   "cell_type": "markdown",
   "metadata": {},
   "source": [
    "**Exact Match**"
   ]
  },
  {
   "cell_type": "code",
   "execution_count": 175,
   "metadata": {},
   "outputs": [
    {
     "data": {
      "text/plain": [
       "[{'_id': ObjectId('67b1ae3a1e1d959e842460ed'),\n",
       "  'title': 'Eyes Wide Shut',\n",
       "  'original_title': 'Eyes Wide Shut',\n",
       "  'plot': \"A Manhattan doctor embarks on a bizarre, night-long odyssey after his wife's admission of unfulfilled longing.\",\n",
       "  'url_thumbnail': 'https://m.media-amazon.com/images/M/MV5BZTQ0MmM5MDAtYmYyZS00MzlmLTlhZTAtZDJlZWY5ZTZkZjZmXkEyXkFqcGc@._V1_SX300.jpg'},\n",
       " {'_id': ObjectId('67b1ae4a1e1d959e84246414'),\n",
       "  'title': 'Eyes Wide Shut',\n",
       "  'original_title': 'Eyes Wide Shut',\n",
       "  'plot': \"A Manhattan doctor embarks on a bizarre, night-long odyssey after his wife's admission of unfulfilled longing.\",\n",
       "  'url_thumbnail': 'https://m.media-amazon.com/images/M/MV5BZTQ0MmM5MDAtYmYyZS00MzlmLTlhZTAtZDJlZWY5ZTZkZjZmXkEyXkFqcGc@._V1_SX300.jpg'}]"
      ]
     },
     "execution_count": 175,
     "metadata": {},
     "output_type": "execute_result"
    }
   ],
   "source": [
    "results = col_movies.find({ \"title\": \"Eyes Wide Shut\" })\n",
    "results.to_list()"
   ]
  },
  {
   "cell_type": "code",
   "execution_count": 144,
   "metadata": {},
   "outputs": [
    {
     "data": {
      "text/plain": [
       "[{'_id': 2,\n",
       "  'name': 'bananas',\n",
       "  'qty': 7,\n",
       "  'rating': 4,\n",
       "  'color': 'yellow',\n",
       "  'type': ['cavendish']},\n",
       " {'_id': 4, 'name': 'pineapple', 'qty': 3, 'rating': 5, 'color': 'yellow'}]"
      ]
     },
     "execution_count": 144,
     "metadata": {},
     "output_type": "execute_result"
    }
   ],
   "source": [
    "results = col_fruits.find({ \"color\": \"yellow\" })\n",
    "results.to_list()"
   ]
  },
  {
   "cell_type": "markdown",
   "metadata": {},
   "source": [
    "**Partial Match** ???\n",
    "\n",
    "Avec des index\n",
    "\n",
    "https://www.mongodb.com/docs/manual/reference/operator/query/text/"
   ]
  },
  {
   "cell_type": "code",
   "execution_count": 62,
   "metadata": {},
   "outputs": [
    {
     "data": {
      "text/plain": [
       "[]"
      ]
     },
     "execution_count": 62,
     "metadata": {},
     "output_type": "execute_result"
    }
   ],
   "source": [
    "client = pymongo.MongoClient(\"mongodb://localhost:27017/\")\n",
    "mydb = client[\"allocine\"]\n",
    "\n",
    "col_movies = mydb[\"movies\"]\n",
    "results = col_movies.find({ \"title\": \"The Brutalist\" })\n",
    "results.to_list()"
   ]
  },
  {
   "cell_type": "code",
   "execution_count": 61,
   "metadata": {},
   "outputs": [
    {
     "data": {
      "text/plain": [
       "DeleteResult({'n': 1, 'ok': 1.0}, acknowledged=True)"
      ]
     },
     "execution_count": 61,
     "metadata": {},
     "output_type": "execute_result"
    }
   ],
   "source": [
    "col_movies.delete_one({'title' : \"The Brutalist\"})"
   ]
  },
  {
   "cell_type": "markdown",
   "metadata": {},
   "source": [
    "**Comparison operators**\n",
    "\n",
    "list of operators: https://www.mongodb.com/docs/manual/reference/operator/query-comparison/"
   ]
  },
  {
   "cell_type": "code",
   "execution_count": 143,
   "metadata": {},
   "outputs": [
    {
     "name": "stdout",
     "output_type": "stream",
     "text": [
      "{'_id': 1, 'name': 'apples', 'qty': 5, 'rating': 3, 'color': 'red', 'type': ['fuji', 'honeycrisp']}\n",
      "{'_id': 2, 'name': 'bananas', 'qty': 7, 'rating': 4, 'color': 'yellow', 'type': ['cavendish']}\n",
      "{'_id': 4, 'name': 'pineapple', 'qty': 3, 'rating': 5, 'color': 'yellow'}\n"
     ]
    }
   ],
   "source": [
    "results = col_fruits.find({ \"rating\": { \"$gt\" : 2 }})\n",
    "for f in results:\n",
    "    print(f) "
   ]
  },
  {
   "cell_type": "markdown",
   "metadata": {},
   "source": [
    "**Logical operators**\n",
    "\n",
    "https://www.mongodb.com/docs/manual/reference/operator/query-logical/"
   ]
  },
  {
   "cell_type": "code",
   "execution_count": 147,
   "metadata": {},
   "outputs": [
    {
     "name": "stdout",
     "output_type": "stream",
     "text": [
      "{'_id': 2, 'name': 'bananas', 'qty': 7, 'rating': 4, 'color': 'yellow', 'type': ['cavendish']}\n",
      "{'_id': 3, 'name': 'oranges', 'qty': 6, 'rating': 2, 'type': ['naval', 'mandarin']}\n",
      "{'_id': 4, 'name': 'pineapple', 'qty': 3, 'rating': 5, 'color': 'yellow'}\n"
     ]
    }
   ],
   "source": [
    "results = col_fruits.find({ \n",
    "    \"$or\": [\n",
    "        { \"qty\": { \"$gt\": 5 }},\n",
    "        { \"color\": \"yellow\" }\n",
    "    ]\n",
    "})\n",
    "for f in results:\n",
    "    print(f)"
   ]
  },
  {
   "cell_type": "markdown",
   "metadata": {},
   "source": [
    "**Arrays operators**\n",
    "\n",
    "https://www.mongodb.com/docs/manual/reference/operator/query-array/"
   ]
  },
  {
   "cell_type": "code",
   "execution_count": 158,
   "metadata": {},
   "outputs": [
    {
     "name": "stdout",
     "output_type": "stream",
     "text": [
      "{'_id': 1, 'name': 'apples', 'qty': 5, 'rating': 3, 'color': 'red', 'type': ['fuji', 'honeycrisp']}\n",
      "{'_id': 2, 'name': 'bananas', 'qty': 7, 'rating': 4, 'color': 'yellow', 'type': ['cavendish']}\n",
      "{'_id': 3, 'name': 'oranges', 'qty': 6, 'rating': 2, 'type': ['naval', 'mandarin']}\n",
      "{'_id': 4, 'name': 'pineapple', 'qty': 3, 'rating': 5, 'color': 'yellow'}\n",
      "{'_id': 5, 'name': 'test', 'qty': 10, 'rating': 3, 'color': 'green', 'type': ['fuji', 'typeXXX']}\n",
      "----\n",
      "{'_id': 1, 'name': 'apples', 'qty': 5, 'rating': 3, 'color': 'red', 'type': ['fuji', 'honeycrisp']}\n",
      "{'_id': 3, 'name': 'oranges', 'qty': 6, 'rating': 2, 'type': ['naval', 'mandarin']}\n",
      "{'_id': 5, 'name': 'test', 'qty': 10, 'rating': 3, 'color': 'green', 'type': ['fuji', 'typeXXX']}\n"
     ]
    }
   ],
   "source": [
    "for f in col_fruits.find({}):\n",
    "    print(f)\n",
    "\n",
    "print('----')\n",
    "results = col_fruits.find({\n",
    "    \"type\" : { \"$size\": 2 }\n",
    "})\n",
    "\n",
    "for f in results:\n",
    "    print(f)"
   ]
  },
  {
   "cell_type": "code",
   "execution_count": 159,
   "metadata": {},
   "outputs": [
    {
     "name": "stdout",
     "output_type": "stream",
     "text": [
      "{'_id': 1, 'name': 'apples', 'qty': 5, 'rating': 3, 'color': 'red', 'type': ['fuji', 'honeycrisp']}\n",
      "{'_id': 5, 'name': 'test', 'qty': 10, 'rating': 3, 'color': 'green', 'type': ['fuji', 'typeXXX']}\n"
     ]
    }
   ],
   "source": [
    "results = col_fruits.find({\n",
    "    \"type\" : { \"$all\": ['fuji'] }\n",
    "})\n",
    "\n",
    "for f in results:\n",
    "    print(f)"
   ]
  },
  {
   "cell_type": "markdown",
   "metadata": {},
   "source": [
    "**Element Operator**\n",
    "\n",
    "to check if a field exists"
   ]
  },
  {
   "cell_type": "code",
   "execution_count": 160,
   "metadata": {},
   "outputs": [
    {
     "name": "stdout",
     "output_type": "stream",
     "text": [
      "{'_id': 1, 'name': 'apples', 'qty': 5, 'rating': 3, 'color': 'red', 'type': ['fuji', 'honeycrisp']}\n",
      "{'_id': 2, 'name': 'bananas', 'qty': 7, 'rating': 4, 'color': 'yellow', 'type': ['cavendish']}\n",
      "{'_id': 4, 'name': 'pineapple', 'qty': 3, 'rating': 5, 'color': 'yellow'}\n",
      "{'_id': 5, 'name': 'test', 'qty': 10, 'rating': 3, 'color': 'green', 'type': ['fuji', 'typeXXX']}\n"
     ]
    }
   ],
   "source": [
    "results = col_fruits.find( { \"color\" : { \"$exists\": \"true\" }} )\n",
    "for f in results:\n",
    "    print(f)"
   ]
  },
  {
   "cell_type": "markdown",
   "metadata": {},
   "source": [
    "**Evaluation operators**\n",
    "\n",
    "https://www.mongodb.com/docs/manual/reference/operator/query-evaluation/"
   ]
  },
  {
   "cell_type": "code",
   "execution_count": null,
   "metadata": {},
   "outputs": [
    {
     "name": "stdout",
     "output_type": "stream",
     "text": [
      "{'_id': 1, 'name': 'apples', 'qty': 5, 'rating': 3, 'color': 'red', 'type': ['fuji', 'honeycrisp']}\n",
      "{'_id': 4, 'name': 'pineapple', 'qty': 3, 'rating': 5, 'color': 'yellow'}\n"
     ]
    }
   ],
   "source": [
    "results = col_fruits.find({ \"name\" : { \"$regex\" : \"p{2,}\" }} ) ## At least 2 consecutives p\n",
    "for f in results:\n",
    "    print(f)"
   ]
  },
  {
   "cell_type": "markdown",
   "metadata": {},
   "source": [
    "**Delete data**"
   ]
  },
  {
   "cell_type": "code",
   "execution_count": null,
   "metadata": {},
   "outputs": [
    {
     "name": "stdout",
     "output_type": "stream",
     "text": [
      "{'_id': 1, 'name': 'apples', 'qty': 5, 'rating': 3, 'color': 'red', 'type': ['fuji', 'honeycrisp']}\n",
      "{'_id': 2, 'name': 'bananas', 'qty': 7, 'rating': 4, 'color': 'yellow', 'type': ['cavendish']}\n",
      "{'_id': 3, 'name': 'oranges', 'qty': 6, 'rating': 2, 'type': ['naval', 'mandarin']}\n",
      "{'_id': 5, 'name': 'test', 'qty': 10, 'rating': 3, 'color': 'green', 'type': ['fuji', 'typeXXX']}\n",
      "{'_id': 4, 'name': 'pineapple', 'qty': 3, 'rating': 5, 'color': 'yellow'}\n",
      "{'_id': 1, 'name': 'apples', 'qty': 5, 'rating': 3, 'color': 'red', 'type': ['fuji', 'honeycrisp']}\n",
      "{'_id': 2, 'name': 'bananas', 'qty': 7, 'rating': 4, 'color': 'yellow', 'type': ['cavendish']}\n",
      "{'_id': 3, 'name': 'oranges', 'qty': 6, 'rating': 2, 'type': ['naval', 'mandarin']}\n",
      "{'_id': 5, 'name': 'test', 'qty': 10, 'rating': 3, 'color': 'green', 'type': ['fuji', 'typeXXX']}\n",
      "{'_id': 4, 'name': 'pineapple', 'qty': 3, 'rating': 5, 'color': 'yellow'}\n"
     ]
    }
   ],
   "source": [
    "# Delete_one\n",
    "for f in col_fruits.find({}):\n",
    "    print(f)\n",
    "\n",
    "col_fruits.delete_one({'_id' : 4})\n",
    "\n",
    "for f in col_fruits.find({}):\n",
    "    print(f)"
   ]
  },
  {
   "cell_type": "code",
   "execution_count": null,
   "metadata": {},
   "outputs": [
    {
     "name": "stdout",
     "output_type": "stream",
     "text": [
      "{'_id': 1, 'name': 'apples', 'qty': 5, 'rating': 3, 'color': 'red', 'type': ['fuji', 'honeycrisp']}\n",
      "{'_id': 2, 'name': 'bananas', 'qty': 7, 'rating': 4, 'color': 'yellow', 'type': ['cavendish']}\n",
      "{'_id': 3, 'name': 'oranges', 'qty': 6, 'rating': 2, 'type': ['naval', 'mandarin']}\n",
      "{'_id': 4, 'name': 'pineapple', 'qty': 3, 'rating': 5, 'color': 'yellow'}\n",
      "{'_id': 5, 'name': 'test', 'qty': 10, 'rating': 3, 'color': 'green', 'type': ['fuji', 'typeXXX']}\n",
      "{'_id': 1, 'name': 'apples', 'qty': 5, 'rating': 3, 'color': 'red', 'type': ['fuji', 'honeycrisp']}\n",
      "{'_id': 2, 'name': 'bananas', 'qty': 7, 'rating': 4, 'color': 'yellow', 'type': ['cavendish']}\n",
      "{'_id': 3, 'name': 'oranges', 'qty': 6, 'rating': 2, 'type': ['naval', 'mandarin']}\n",
      "{'_id': 4, 'name': 'pineapple', 'qty': 3, 'rating': 5, 'color': 'yellow'}\n",
      "{'_id': 5, 'name': 'test', 'qty': 10, 'rating': 3, 'color': 'green', 'type': ['fuji', 'typeXXX']}\n"
     ]
    }
   ],
   "source": [
    "# Delete_many\n",
    "for f in col_fruits.find({}):\n",
    "    print(f)\n",
    "\n",
    "col_fruits.delete_many({'_id' : {'$gte' : 3} })\n",
    "\n",
    "for f in col_fruits.find({}):\n",
    "    print(f)"
   ]
  },
  {
   "cell_type": "code",
   "execution_count": 186,
   "metadata": {},
   "outputs": [
    {
     "name": "stdout",
     "output_type": "stream",
     "text": [
      "{'_id': 1, 'name': 'apples', 'qty': 5, 'rating': 3, 'color': 'red', 'type': ['fuji', 'honeycrisp']}\n",
      "{'_id': 2, 'name': 'bananas', 'qty': 7, 'rating': 4, 'color': 'yellow', 'type': ['cavendish']}\n",
      "{'_id': 3, 'name': 'oranges', 'qty': 6, 'rating': 2, 'type': ['naval', 'mandarin']}\n",
      "{'_id': 4, 'name': 'pineapple', 'qty': 3, 'rating': 5, 'color': 'yellow'}\n",
      "{'_id': 5, 'name': 'test', 'qty': 10, 'rating': 3, 'color': 'green', 'type': ['fuji', 'typeXXX']}\n",
      "{'_id': 2, 'name': 'bananas', 'qty': 7, 'rating': 4, 'color': 'yellow', 'type': ['cavendish']}\n",
      "{'_id': 4, 'name': 'pineapple', 'qty': 3, 'rating': 5, 'color': 'yellow'}\n"
     ]
    }
   ],
   "source": [
    "# Delete_many\n",
    "for f in col_fruits.find({}):\n",
    "    print(f)\n",
    "\n",
    "col_fruits.delete_many({'_id' : {'$in' : [1, 3, 5]} })\n",
    "\n",
    "for f in col_fruits.find({}):\n",
    "    print(f)"
   ]
  },
  {
   "cell_type": "code",
   "execution_count": 2,
   "metadata": {},
   "outputs": [],
   "source": [
    "import pymongo\n",
    "client = pymongo.MongoClient(\"mongodb://localhost:27017/\")\n",
    "mydb = client[\"movies\"]\n",
    "col_movies = mydb[\"movies\"]"
   ]
  },
  {
   "cell_type": "code",
   "execution_count": 5,
   "metadata": {},
   "outputs": [
    {
     "name": "stdout",
     "output_type": "stream",
     "text": [
      "None\n"
     ]
    }
   ],
   "source": [
    "test = col_movies.find_one({ \"title\" : \"Eyes Wide Shut\" })\n",
    "print(test)"
   ]
  },
  {
   "cell_type": "code",
   "execution_count": null,
   "metadata": {},
   "outputs": [],
   "source": []
  }
 ],
 "metadata": {
  "kernelspec": {
   "display_name": "block1",
   "language": "python",
   "name": "python3"
  },
  "language_info": {
   "codemirror_mode": {
    "name": "ipython",
    "version": 3
   },
   "file_extension": ".py",
   "mimetype": "text/x-python",
   "name": "python",
   "nbconvert_exporter": "python",
   "pygments_lexer": "ipython3",
   "version": "3.12.8"
  }
 },
 "nbformat": 4,
 "nbformat_minor": 2
}
