{
 "cells": [
  {
   "cell_type": "markdown",
   "metadata": {},
   "source": [
    "# <center> **Requesting an external API**"
   ]
  },
  {
   "cell_type": "markdown",
   "metadata": {},
   "source": [
    "A partir d'une liste de titres de films nous allons requêter l'API publique [https://www.omdbapi.com](https://www.omdbapi.com)\n",
    "\n",
    "Nous enregistrerons les données non-structurées (résumé et affiche du film) dans une base NoSQL (MongoDB)"
   ]
  },
  {
   "cell_type": "code",
   "execution_count": 226,
   "metadata": {},
   "outputs": [],
   "source": [
    "%reset"
   ]
  },
  {
   "cell_type": "markdown",
   "metadata": {},
   "source": [
    "## **Imports**"
   ]
  },
  {
   "cell_type": "code",
   "execution_count": 1,
   "metadata": {},
   "outputs": [],
   "source": [
    "import math\n",
    "import copy\n",
    "import re\n",
    "import os\n",
    "import json\n",
    "import requests\n",
    "import numpy as np\n",
    "import pandas as pd\n",
    "from tqdm import tqdm\n",
    "from unidecode import unidecode\n",
    "\n",
    "# MongoDB / Pymongo\n",
    "import pymongo\n",
    "from pymongo.mongo_client import MongoClient\n",
    "from pymongo.server_api import ServerApi\n",
    "import pprint\n",
    "from dotenv import load_dotenv\n",
    "\n",
    "pd.set_option('display.max_rows', 10)\n",
    "tqdm.pandas()\n",
    "\n",
    "# Environnement variables\n",
    "load_dotenv()\n",
    "\n",
    "OMDB_API_KEY = os.getenv(\"OMDB_API_KEY\")"
   ]
  },
  {
   "cell_type": "code",
   "execution_count": 5,
   "metadata": {},
   "outputs": [
    {
     "data": {
      "text/plain": [
       "{'Title': 'In the Lost Lands',\n",
       " 'Year': '2025',\n",
       " 'Rated': 'R',\n",
       " 'Released': '07 Mar 2025',\n",
       " 'Runtime': '101 min',\n",
       " 'Genre': 'Action, Adventure, Fantasy',\n",
       " 'Director': 'Paul W.S. Anderson',\n",
       " 'Writer': 'Constantin Werner, Paul W.S. Anderson, George R.R. Martin',\n",
       " 'Actors': 'Milla Jovovich, Dave Bautista, Arly Jover',\n",
       " 'Plot': 'A queen sends the powerful and feared sorceress Gray Alys to the ghostly wilderness of the Lost Lands in search of a magical power, where the sorceress and her guide, the drifter Boyce, must outwit and outfight man and demon.',\n",
       " 'Language': 'English',\n",
       " 'Country': 'Germany, Canada, United States',\n",
       " 'Awards': 'N/A',\n",
       " 'Poster': 'https://m.media-amazon.com/images/M/MV5BOWYxYjEyYTUtY2FkZC00Y2QwLTk1ZjMtMTAyMTAyMzQ3MDZiXkEyXkFqcGc@._V1_SX300.jpg',\n",
       " 'Ratings': [{'Source': 'Internet Movie Database', 'Value': '5.4/10'},\n",
       "  {'Source': 'Metacritic', 'Value': '37/100'}],\n",
       " 'Metascore': '37',\n",
       " 'imdbRating': '5.4',\n",
       " 'imdbVotes': '193',\n",
       " 'imdbID': 'tt4419684',\n",
       " 'Type': 'movie',\n",
       " 'DVD': 'N/A',\n",
       " 'BoxOffice': 'N/A',\n",
       " 'Production': 'N/A',\n",
       " 'Website': 'N/A',\n",
       " 'Response': 'True'}"
      ]
     },
     "execution_count": 5,
     "metadata": {},
     "output_type": "execute_result"
    }
   ],
   "source": [
    "url = f\"https://www.omdbapi.com/?apikey={OMDB_API_KEY}&t=in+the+lost+lands\"\n",
    "r = requests.get(url)\n",
    "if r.status_code != 200:\n",
    "    print(\"Error:\", url)\n",
    "\n",
    "json.loads(r.text)"
   ]
  },
  {
   "cell_type": "markdown",
   "metadata": {},
   "source": [
    "## **Reading the data**\n"
   ]
  },
  {
   "cell_type": "code",
   "execution_count": 7,
   "metadata": {},
   "outputs": [
    {
     "name": "stdout",
     "output_type": "stream",
     "text": [
      "Nb movies : 9\n"
     ]
    },
    {
     "data": {
      "text/html": [
       "<div>\n",
       "<style scoped>\n",
       "    .dataframe tbody tr th:only-of-type {\n",
       "        vertical-align: middle;\n",
       "    }\n",
       "\n",
       "    .dataframe tbody tr th {\n",
       "        vertical-align: top;\n",
       "    }\n",
       "\n",
       "    .dataframe thead th {\n",
       "        text-align: right;\n",
       "    }\n",
       "</style>\n",
       "<table border=\"1\" class=\"dataframe\">\n",
       "  <thead>\n",
       "    <tr style=\"text-align: right;\">\n",
       "      <th></th>\n",
       "      <th>title</th>\n",
       "      <th>original_title</th>\n",
       "      <th>plot</th>\n",
       "      <th>url_thumbnail</th>\n",
       "    </tr>\n",
       "  </thead>\n",
       "  <tbody>\n",
       "    <tr>\n",
       "      <th>0</th>\n",
       "      <td>The Brutalist</td>\n",
       "      <td>The Brutalist</td>\n",
       "      <td>When a visionary architect and his wife flee p...</td>\n",
       "      <td>https://m.media-amazon.com/images/M/MV5BM2U0MW...</td>\n",
       "    </tr>\n",
       "    <tr>\n",
       "      <th>1</th>\n",
       "      <td>Bridget Jones : folle de lui</td>\n",
       "      <td>Bridget Jones: Mad About the Boy</td>\n",
       "      <td>Bridget Jones navigates life as a widow and si...</td>\n",
       "      <td>https://m.media-amazon.com/images/M/MV5BMDdlY2...</td>\n",
       "    </tr>\n",
       "    <tr>\n",
       "      <th>2</th>\n",
       "      <td>Captain America: Brave New World</td>\n",
       "      <td>Captain America: Brave New World</td>\n",
       "      <td>Sam Wilson, the new Captain America, finds him...</td>\n",
       "      <td>https://m.media-amazon.com/images/M/MV5BNDRjY2...</td>\n",
       "    </tr>\n",
       "    <tr>\n",
       "      <th>3</th>\n",
       "      <td>Le Dernier souffle</td>\n",
       "      <td>Le Dernier souffle</td>\n",
       "      <td>A Montreal police officer goes to Arkansas to ...</td>\n",
       "      <td>https://m.media-amazon.com/images/M/MV5BM2RmZj...</td>\n",
       "    </tr>\n",
       "    <tr>\n",
       "      <th>4</th>\n",
       "      <td>Le Mohican</td>\n",
       "      <td>Le Mohican</td>\n",
       "      <td>En plein cœur de l’été, Joseph, l’un des derni...</td>\n",
       "      <td>https://fr.web.img2.acsta.net/c_310_420/img/72...</td>\n",
       "    </tr>\n",
       "    <tr>\n",
       "      <th>5</th>\n",
       "      <td>Hola Frida</td>\n",
       "      <td>Hola Frida</td>\n",
       "      <td>C’est l’histoire d’une petite fille différente...</td>\n",
       "      <td>https://fr.web.img3.acsta.net/c_310_420/img/b8...</td>\n",
       "    </tr>\n",
       "    <tr>\n",
       "      <th>6</th>\n",
       "      <td>Prima la vita</td>\n",
       "      <td>Il tempo che si vuole</td>\n",
       "      <td>Un père et sa fille habitent les mondes de l’e...</td>\n",
       "      <td>https://fr.web.img6.acsta.net/c_310_420/img/a8...</td>\n",
       "    </tr>\n",
       "    <tr>\n",
       "      <th>7</th>\n",
       "      <td>Daffy et Porky sauvent le monde</td>\n",
       "      <td>The Day the Earth Blew Up: A Looney Tunes Movie</td>\n",
       "      <td>L’un des plus grands duos comiques de l’Histoi...</td>\n",
       "      <td>https://fr.web.img5.acsta.net/c_310_420/img/cc...</td>\n",
       "    </tr>\n",
       "    <tr>\n",
       "      <th>8</th>\n",
       "      <td>La Vie, en gros</td>\n",
       "      <td>Zivot k sezrání</td>\n",
       "      <td>C’est la rentrée. Ben trouve que ses camarades...</td>\n",
       "      <td>https://fr.web.img6.acsta.net/c_310_420/img/a7...</td>\n",
       "    </tr>\n",
       "  </tbody>\n",
       "</table>\n",
       "</div>"
      ],
      "text/plain": [
       "                              title  \\\n",
       "0                     The Brutalist   \n",
       "1      Bridget Jones : folle de lui   \n",
       "2  Captain America: Brave New World   \n",
       "3                Le Dernier souffle   \n",
       "4                        Le Mohican   \n",
       "5                        Hola Frida   \n",
       "6                     Prima la vita   \n",
       "7   Daffy et Porky sauvent le monde   \n",
       "8                   La Vie, en gros   \n",
       "\n",
       "                                    original_title  \\\n",
       "0                                    The Brutalist   \n",
       "1                 Bridget Jones: Mad About the Boy   \n",
       "2                 Captain America: Brave New World   \n",
       "3                               Le Dernier souffle   \n",
       "4                                       Le Mohican   \n",
       "5                                       Hola Frida   \n",
       "6                            Il tempo che si vuole   \n",
       "7  The Day the Earth Blew Up: A Looney Tunes Movie   \n",
       "8                                  Zivot k sezrání   \n",
       "\n",
       "                                                plot  \\\n",
       "0  When a visionary architect and his wife flee p...   \n",
       "1  Bridget Jones navigates life as a widow and si...   \n",
       "2  Sam Wilson, the new Captain America, finds him...   \n",
       "3  A Montreal police officer goes to Arkansas to ...   \n",
       "4  En plein cœur de l’été, Joseph, l’un des derni...   \n",
       "5  C’est l’histoire d’une petite fille différente...   \n",
       "6  Un père et sa fille habitent les mondes de l’e...   \n",
       "7  L’un des plus grands duos comiques de l’Histoi...   \n",
       "8  C’est la rentrée. Ben trouve que ses camarades...   \n",
       "\n",
       "                                       url_thumbnail  \n",
       "0  https://m.media-amazon.com/images/M/MV5BM2U0MW...  \n",
       "1  https://m.media-amazon.com/images/M/MV5BMDdlY2...  \n",
       "2  https://m.media-amazon.com/images/M/MV5BNDRjY2...  \n",
       "3  https://m.media-amazon.com/images/M/MV5BM2RmZj...  \n",
       "4  https://fr.web.img2.acsta.net/c_310_420/img/72...  \n",
       "5  https://fr.web.img3.acsta.net/c_310_420/img/b8...  \n",
       "6  https://fr.web.img6.acsta.net/c_310_420/img/a8...  \n",
       "7  https://fr.web.img5.acsta.net/c_310_420/img/cc...  \n",
       "8  https://fr.web.img6.acsta.net/c_310_420/img/a7...  "
      ]
     },
     "execution_count": 7,
     "metadata": {},
     "output_type": "execute_result"
    }
   ],
   "source": [
    "df_movies = pd.read_csv('csv/mongoDB_week_2025_02_12.csv', delimiter = ',', usecols=['title', 'original_title', 'plot', 'url_thumbnail'])\n",
    "print(\"Nb movies :\", df_movies.shape[0])\n",
    "df_movies"
   ]
  },
  {
   "cell_type": "code",
   "execution_count": 77,
   "metadata": {},
   "outputs": [],
   "source": [
    "def format_string(st):\n",
    "    ''' format string \n",
    "        from \"title of the movie\" \n",
    "        to title+of+the+movie\n",
    "\n",
    "        Arg: st string to be converted.\n",
    "    '''\n",
    "    res = ''\n",
    "    for c in st:\n",
    "        if c.isdigit() or c.isalpha() or c.isspace():\n",
    "            res += unidecode(c)\n",
    "        else:\n",
    "            res += ' '\n",
    "    return '+'.join([word for word in res.split() if len(word) > 1])\n",
    "\n",
    "def request_omdb_from_title(title):\n",
    "    ''' Request the omdb API\n",
    "    \n",
    "        return a json dictionary with the information about the movie.\n",
    "\n",
    "        Arg:\n",
    "         - title: string with title of the movie we want the infos about.\n",
    "    '''\n",
    "    url = f\"https://www.omdbapi.com/?apikey={api_key}&t={format_string(title)}\"\n",
    "    r = requests.get(url)\n",
    "    if r.status_code != 200:\n",
    "        print(f\"ERROR {title}, Response Code: {r.status_code}\")\n",
    "        print(\"Request:\", url)\n",
    "        return {'Response': 'False'}\n",
    "    return json.loads(r.text)\n",
    "\n",
    "def get_plot_and_thumbail_from_omdb(title):\n",
    "    ''' return movie plot and thumbail through an API request.\n",
    "\n",
    "        return: \n",
    "          - plot:      string containing the plot of the movie,\n",
    "          - thumbnail: string containing the url of the thumbnail.\n",
    "\n",
    "        Arg: title: string with the title of the movie.\n",
    "    '''\n",
    "    plot, thumbnail = '', ''\n",
    "    res_dict = request_omdb_from_title(title)\n",
    "    lst_keys = res_dict.keys()\n",
    "    assert 'Response' in res_dict\n",
    "    if res_dict['Response'] == 'True':\n",
    "        # print('res_dict', res_dict)\n",
    "        assert 'Plot' in lst_keys and 'Poster' in lst_keys\n",
    "        if res_dict['Plot'] != 'N/A':\n",
    "            plot = res_dict['Plot']\n",
    "        if res_dict['Poster'] != '' and res_dict['Poster'] != 'N/A':\n",
    "            thumbnail = res_dict['Poster']\n",
    "    return plot + \"AND\" + thumbnail"
   ]
  },
  {
   "cell_type": "markdown",
   "metadata": {},
   "source": [
    "## **Get the plot and the thumbnail from the omdb API**"
   ]
  },
  {
   "cell_type": "code",
   "execution_count": 78,
   "metadata": {},
   "outputs": [],
   "source": [
    "df_movies['temp']      = df_movies['original_title'].apply(get_plot_and_thumbail_from_omdb)\n",
    "df_movies['plot']      = df_movies['temp'].apply(lambda x : x.split('AND')[0])\n",
    "df_movies['thumbnail'] = df_movies['temp'].apply(lambda x : x.split('AND')[1])\n",
    "df_movies['plot']          = np.where(df_movies['plot'] != '', df_movies['plot'], df_movies['summary'])\n",
    "df_movies['url_thumbnail'] = np.where(df_movies['thumbnail'] != '', df_movies['thumbnail'], df_movies['url_thumbnail'])\n",
    "df_movies = df_movies[['title', 'original_title', 'plot', 'url_thumbnail']]"
   ]
  },
  {
   "cell_type": "code",
   "execution_count": 8,
   "metadata": {},
   "outputs": [
    {
     "data": {
      "text/html": [
       "<div>\n",
       "<style scoped>\n",
       "    .dataframe tbody tr th:only-of-type {\n",
       "        vertical-align: middle;\n",
       "    }\n",
       "\n",
       "    .dataframe tbody tr th {\n",
       "        vertical-align: top;\n",
       "    }\n",
       "\n",
       "    .dataframe thead th {\n",
       "        text-align: right;\n",
       "    }\n",
       "</style>\n",
       "<table border=\"1\" class=\"dataframe\">\n",
       "  <thead>\n",
       "    <tr style=\"text-align: right;\">\n",
       "      <th></th>\n",
       "      <th>title</th>\n",
       "      <th>original_title</th>\n",
       "      <th>plot</th>\n",
       "      <th>url_thumbnail</th>\n",
       "    </tr>\n",
       "  </thead>\n",
       "  <tbody>\n",
       "    <tr>\n",
       "      <th>0</th>\n",
       "      <td>The Brutalist</td>\n",
       "      <td>The Brutalist</td>\n",
       "      <td>When a visionary architect and his wife flee p...</td>\n",
       "      <td>https://m.media-amazon.com/images/M/MV5BM2U0MW...</td>\n",
       "    </tr>\n",
       "    <tr>\n",
       "      <th>1</th>\n",
       "      <td>Bridget Jones : folle de lui</td>\n",
       "      <td>Bridget Jones: Mad About the Boy</td>\n",
       "      <td>Bridget Jones navigates life as a widow and si...</td>\n",
       "      <td>https://m.media-amazon.com/images/M/MV5BMDdlY2...</td>\n",
       "    </tr>\n",
       "    <tr>\n",
       "      <th>2</th>\n",
       "      <td>Captain America: Brave New World</td>\n",
       "      <td>Captain America: Brave New World</td>\n",
       "      <td>Sam Wilson, the new Captain America, finds him...</td>\n",
       "      <td>https://m.media-amazon.com/images/M/MV5BNDRjY2...</td>\n",
       "    </tr>\n",
       "    <tr>\n",
       "      <th>3</th>\n",
       "      <td>Le Dernier souffle</td>\n",
       "      <td>Le Dernier souffle</td>\n",
       "      <td>A Montreal police officer goes to Arkansas to ...</td>\n",
       "      <td>https://m.media-amazon.com/images/M/MV5BM2RmZj...</td>\n",
       "    </tr>\n",
       "    <tr>\n",
       "      <th>4</th>\n",
       "      <td>Le Mohican</td>\n",
       "      <td>Le Mohican</td>\n",
       "      <td>En plein cœur de l’été, Joseph, l’un des derni...</td>\n",
       "      <td>https://fr.web.img2.acsta.net/c_310_420/img/72...</td>\n",
       "    </tr>\n",
       "    <tr>\n",
       "      <th>5</th>\n",
       "      <td>Hola Frida</td>\n",
       "      <td>Hola Frida</td>\n",
       "      <td>C’est l’histoire d’une petite fille différente...</td>\n",
       "      <td>https://fr.web.img3.acsta.net/c_310_420/img/b8...</td>\n",
       "    </tr>\n",
       "    <tr>\n",
       "      <th>6</th>\n",
       "      <td>Prima la vita</td>\n",
       "      <td>Il tempo che si vuole</td>\n",
       "      <td>Un père et sa fille habitent les mondes de l’e...</td>\n",
       "      <td>https://fr.web.img6.acsta.net/c_310_420/img/a8...</td>\n",
       "    </tr>\n",
       "    <tr>\n",
       "      <th>7</th>\n",
       "      <td>Daffy et Porky sauvent le monde</td>\n",
       "      <td>The Day the Earth Blew Up: A Looney Tunes Movie</td>\n",
       "      <td>L’un des plus grands duos comiques de l’Histoi...</td>\n",
       "      <td>https://fr.web.img5.acsta.net/c_310_420/img/cc...</td>\n",
       "    </tr>\n",
       "    <tr>\n",
       "      <th>8</th>\n",
       "      <td>La Vie, en gros</td>\n",
       "      <td>Zivot k sezrání</td>\n",
       "      <td>C’est la rentrée. Ben trouve que ses camarades...</td>\n",
       "      <td>https://fr.web.img6.acsta.net/c_310_420/img/a7...</td>\n",
       "    </tr>\n",
       "  </tbody>\n",
       "</table>\n",
       "</div>"
      ],
      "text/plain": [
       "                              title  \\\n",
       "0                     The Brutalist   \n",
       "1      Bridget Jones : folle de lui   \n",
       "2  Captain America: Brave New World   \n",
       "3                Le Dernier souffle   \n",
       "4                        Le Mohican   \n",
       "5                        Hola Frida   \n",
       "6                     Prima la vita   \n",
       "7   Daffy et Porky sauvent le monde   \n",
       "8                   La Vie, en gros   \n",
       "\n",
       "                                    original_title  \\\n",
       "0                                    The Brutalist   \n",
       "1                 Bridget Jones: Mad About the Boy   \n",
       "2                 Captain America: Brave New World   \n",
       "3                               Le Dernier souffle   \n",
       "4                                       Le Mohican   \n",
       "5                                       Hola Frida   \n",
       "6                            Il tempo che si vuole   \n",
       "7  The Day the Earth Blew Up: A Looney Tunes Movie   \n",
       "8                                  Zivot k sezrání   \n",
       "\n",
       "                                                plot  \\\n",
       "0  When a visionary architect and his wife flee p...   \n",
       "1  Bridget Jones navigates life as a widow and si...   \n",
       "2  Sam Wilson, the new Captain America, finds him...   \n",
       "3  A Montreal police officer goes to Arkansas to ...   \n",
       "4  En plein cœur de l’été, Joseph, l’un des derni...   \n",
       "5  C’est l’histoire d’une petite fille différente...   \n",
       "6  Un père et sa fille habitent les mondes de l’e...   \n",
       "7  L’un des plus grands duos comiques de l’Histoi...   \n",
       "8  C’est la rentrée. Ben trouve que ses camarades...   \n",
       "\n",
       "                                       url_thumbnail  \n",
       "0  https://m.media-amazon.com/images/M/MV5BM2U0MW...  \n",
       "1  https://m.media-amazon.com/images/M/MV5BMDdlY2...  \n",
       "2  https://m.media-amazon.com/images/M/MV5BNDRjY2...  \n",
       "3  https://m.media-amazon.com/images/M/MV5BM2RmZj...  \n",
       "4  https://fr.web.img2.acsta.net/c_310_420/img/72...  \n",
       "5  https://fr.web.img3.acsta.net/c_310_420/img/b8...  \n",
       "6  https://fr.web.img6.acsta.net/c_310_420/img/a8...  \n",
       "7  https://fr.web.img5.acsta.net/c_310_420/img/cc...  \n",
       "8  https://fr.web.img6.acsta.net/c_310_420/img/a7...  "
      ]
     },
     "execution_count": 8,
     "metadata": {},
     "output_type": "execute_result"
    }
   ],
   "source": [
    "df_movies"
   ]
  },
  {
   "cell_type": "markdown",
   "metadata": {},
   "source": [
    "## **Store the data in a NoSQL database**"
   ]
  },
  {
   "cell_type": "code",
   "execution_count": 9,
   "metadata": {},
   "outputs": [],
   "source": [
    "# Connect to MongoDB\n",
    "client = pymongo.MongoClient(\"mongodb://localhost:27017/\")\n",
    "\n",
    "# Create database \"allocine\" (or selects it if already exists)\n",
    "mydb = client[\"allocine\"]\n",
    "# client.drop_database(\"movies\")\n",
    "\n",
    "# Create a collection \"movies\" (table in SQL)\n",
    "col_movies = mydb[\"movies\"]\n",
    "# col_movies.drop()"
   ]
  },
  {
   "cell_type": "code",
   "execution_count": 10,
   "metadata": {},
   "outputs": [
    {
     "name": "stdout",
     "output_type": "stream",
     "text": [
      "['Rennes', 'Rennes2', 'admin', 'allocine', 'config', 'local', 'mydatabase', 'test_queries']\n",
      "['movies']\n",
      "Nb documents: 8832\n"
     ]
    }
   ],
   "source": [
    "# Insertion of movie plots in MongoDB database\n",
    "col_movies.insert_many(df_movies.to_dict(orient='records')) # TO DO ONLY ONCE\n",
    "# col_movies.drop()\n",
    "\n",
    "print(client.list_database_names())\n",
    "print(mydb.list_collection_names())\n",
    "\n",
    "# for doc in list(col_movies.find().limit(5)):\n",
    "#     pprint.pprint(doc)\n",
    "\n",
    "print(\"Nb documents:\", col_movies.count_documents({}))"
   ]
  },
  {
   "cell_type": "markdown",
   "metadata": {},
   "source": [
    "## **Checking what is in the Mongo DB**"
   ]
  },
  {
   "cell_type": "code",
   "execution_count": 83,
   "metadata": {},
   "outputs": [
    {
     "name": "stdout",
     "output_type": "stream",
     "text": [
      "518\n",
      "678\n",
      "869\n",
      "585\n",
      "807\n",
      "729\n",
      "980\n",
      "600\n",
      "750\n",
      "800\n",
      "750\n",
      "750\n",
      "24\n",
      "Nb total de films en base SQL 8840\n",
      "Nb documents MongoDB: 8823\n"
     ]
    },
    {
     "data": {
      "text/plain": [
       "8840"
      ]
     },
     "execution_count": 83,
     "metadata": {},
     "output_type": "execute_result"
    }
   ],
   "source": [
    "names = ['csv/movies_year_1960_to_1970.csv',\n",
    "         'csv/movies_year_1970_to_1980.csv',\n",
    "         'csv/movies_year_1980_to_1990.csv',\n",
    "         'csv/movies_year_1990_to_1995.csv',\n",
    "         'csv/movies_year_1995_to_2000.csv',\n",
    "         'csv/movies_year_2000_to_2003.csv',\n",
    "         'csv/movies_year_2003_to_2006.csv',\n",
    "         'csv/movies_year_2006_to_2010.csv',\n",
    "         'csv/movies_year_2010_to_2015.csv',\n",
    "         'csv/movies_year_2015_to_2019.csv',\n",
    "         'csv/movies_year_2019_to_2022.csv',\n",
    "         'csv/movies_year_2022_to_2025.csv',\n",
    "         'csv/movies_year_2025_week_1_to_5.csv',\n",
    "         ]\n",
    "\n",
    "lst_df = [pd.read_csv(name, delimiter = ',', usecols=['title', 'original_title', 'summary', 'url_thumbnail'])\n",
    "          for name in names]\n",
    "\n",
    "for df in lst_df:\n",
    "    print(df.shape[0])\n",
    "\n",
    "df_csv = pd.concat(lst_df)\n",
    "print(\"Nb total de films en base SQL\", df_csv.shape[0])\n",
    "# df_csv.to_csv('csv/mongoDB_all_years.csv', sep=',', index = False)\n",
    "\n",
    "# Reading data from Mongo DB\n",
    "client = pymongo.MongoClient(\"mongodb://localhost:27017/\")\n",
    "mydb = client[\"allocine\"]\n",
    "col_movies = mydb[\"movies\"]\n",
    "print(\"Nb documents MongoDB:\", col_movies.count_documents({}))\n",
    "\n",
    "# 1960 to 2010 stored in Mongo DB\n",
    "518 + 678 + 869 + 585 + 807 + 729 + 980 + 600 + 750 + 800 + 750 + 750 + 24"
   ]
  },
  {
   "cell_type": "code",
   "execution_count": 84,
   "metadata": {},
   "outputs": [
    {
     "name": "stdout",
     "output_type": "stream",
     "text": [
      "8823\n"
     ]
    }
   ],
   "source": [
    "# Store data in csv file\n",
    "lst = list(col_movies.find())\n",
    "df_mongo = pd.DataFrame(lst, columns = ['_id', 'title', 'original_title', 'plot', 'url_thumbnail'])\n",
    "print(df_mongo.shape[0])\n",
    "df_mongo.to_csv('csv/mongoDB_1960_to_2025_week_5.csv', sep=',', index = False)"
   ]
  },
  {
   "cell_type": "markdown",
   "metadata": {},
   "source": [
    "**Since we added twice the same 807 movies, we have to remove them from MongoDB**"
   ]
  },
  {
   "cell_type": "code",
   "execution_count": null,
   "metadata": {},
   "outputs": [
    {
     "name": "stdout",
     "output_type": "stream",
     "text": [
      "Nb documents: 4264\n",
      "Nb documents: 2639\n"
     ]
    }
   ],
   "source": [
    "client = pymongo.MongoClient(\"mongodb://localhost:27017/\")\n",
    "mydb = client[\"allocine\"]\n",
    "col_movies = mydb[\"movies\"]\n",
    "\n",
    "print(\"Nb documents:\", col_movies.count_documents({}))\n",
    "col_movies.delete_many({'original_title' : {'$in' : df_movies['original_title'].values.tolist()} })\n",
    "print(\"Nb documents:\", col_movies.count_documents({}))"
   ]
  },
  {
   "cell_type": "markdown",
   "metadata": {},
   "source": [
    "**Looks like more documents have been deleted**<br>\n",
    "So we will drop the whole data base and use the csv 'mongoDB.csv' to restore the previous database and re-add the movies needed."
   ]
  },
  {
   "cell_type": "code",
   "execution_count": null,
   "metadata": {},
   "outputs": [],
   "source": [
    "client = pymongo.MongoClient(\"mongodb://localhost:27017/\")\n",
    "client.drop_database('allocine')\n",
    "\n",
    "# Recreate DB\n",
    "client = pymongo.MongoClient(\"mongodb://localhost:27017/\")\n",
    "mydb = client[\"allocine\"]\n",
    "col_movies = mydb[\"movies\"]"
   ]
  },
  {
   "cell_type": "markdown",
   "metadata": {},
   "source": [
    "## **Query MongoDB Using PyMongo**"
   ]
  },
  {
   "cell_type": "markdown",
   "metadata": {},
   "source": [
    "### **We create another DB**"
   ]
  },
  {
   "cell_type": "code",
   "execution_count": 184,
   "metadata": {},
   "outputs": [
    {
     "name": "stdout",
     "output_type": "stream",
     "text": [
      "['Rennes', 'Rennes2', 'admin', 'allocine', 'config', 'local', 'mydatabase', 'test_queries']\n",
      "['fruits']\n"
     ]
    }
   ],
   "source": [
    "client2 = pymongo.MongoClient(\"mongodb://localhost:27017/\")\n",
    "mydb2 = client2[\"test_queries\"]\n",
    "# client.drop_database(\"test_queries\")\n",
    "\n",
    "# Create a collection \"movies\" (table in SQL)\n",
    "col_fruits = mydb2[\"fruits\"]\n",
    "# col_fruits.drop()\n",
    "\n",
    "col_fruits.insert_many([\n",
    "        # { \"_id\": 1, \"name\": \"apples\", \"qty\": 5, \"rating\": 3, \"color\": \"red\", \"type\": [\"fuji\", \"honeycrisp\"] },\n",
    "        # { \"_id\": 2, \"name\": \"bananas\", \"qty\": 7, \"rating\": 4, \"color\": \"yellow\", \"type\": [\"cavendish\"] },\n",
    "        { \"_id\": 3, \"name\": \"oranges\", \"qty\": 6, \"rating\": 2, \"type\": [\"naval\", \"mandarin\"] },\n",
    "        { \"_id\": 4, \"name\": \"pineapple\", \"qty\": 3, \"rating\": 5, \"color\": \"yellow\" },\n",
    "        { \"_id\": 5, \"name\": \"test\", \"qty\": 10, \"rating\": 3, \"color\": \"green\", \"type\": [\"fuji\", \"typeXXX\"] },\n",
    "    ])\n",
    "# col_fruits.drop()\n",
    "\n",
    "print(client2.list_database_names())\n",
    "print(mydb2.list_collection_names())"
   ]
  },
  {
   "cell_type": "markdown",
   "metadata": {},
   "source": [
    "**Sources**<br>\n",
    "https://www.mongodb.com/docs/languages/python/pymongo-driver/current/read/specify-a-query/<br>\n",
    "https://www.w3resource.com/mongodb/introduction-mongodb.php<br>\n",
    "https://www.mongodbtutorial.org/mongodb-crud/mongodb-findone/<br>\n",
    "https://geekflare.com/fr/mongodb-queries-examples/<br>\n"
   ]
  },
  {
   "cell_type": "markdown",
   "metadata": {},
   "source": [
    "**Exact Match**"
   ]
  },
  {
   "cell_type": "code",
   "execution_count": 175,
   "metadata": {},
   "outputs": [
    {
     "data": {
      "text/plain": [
       "[{'_id': ObjectId('67b1ae3a1e1d959e842460ed'),\n",
       "  'title': 'Eyes Wide Shut',\n",
       "  'original_title': 'Eyes Wide Shut',\n",
       "  'plot': \"A Manhattan doctor embarks on a bizarre, night-long odyssey after his wife's admission of unfulfilled longing.\",\n",
       "  'url_thumbnail': 'https://m.media-amazon.com/images/M/MV5BZTQ0MmM5MDAtYmYyZS00MzlmLTlhZTAtZDJlZWY5ZTZkZjZmXkEyXkFqcGc@._V1_SX300.jpg'},\n",
       " {'_id': ObjectId('67b1ae4a1e1d959e84246414'),\n",
       "  'title': 'Eyes Wide Shut',\n",
       "  'original_title': 'Eyes Wide Shut',\n",
       "  'plot': \"A Manhattan doctor embarks on a bizarre, night-long odyssey after his wife's admission of unfulfilled longing.\",\n",
       "  'url_thumbnail': 'https://m.media-amazon.com/images/M/MV5BZTQ0MmM5MDAtYmYyZS00MzlmLTlhZTAtZDJlZWY5ZTZkZjZmXkEyXkFqcGc@._V1_SX300.jpg'}]"
      ]
     },
     "execution_count": 175,
     "metadata": {},
     "output_type": "execute_result"
    }
   ],
   "source": [
    "results = col_movies.find({ \"title\": \"Eyes Wide Shut\" })\n",
    "results.to_list()"
   ]
  },
  {
   "cell_type": "code",
   "execution_count": 144,
   "metadata": {},
   "outputs": [
    {
     "data": {
      "text/plain": [
       "[{'_id': 2,\n",
       "  'name': 'bananas',\n",
       "  'qty': 7,\n",
       "  'rating': 4,\n",
       "  'color': 'yellow',\n",
       "  'type': ['cavendish']},\n",
       " {'_id': 4, 'name': 'pineapple', 'qty': 3, 'rating': 5, 'color': 'yellow'}]"
      ]
     },
     "execution_count": 144,
     "metadata": {},
     "output_type": "execute_result"
    }
   ],
   "source": [
    "results = col_fruits.find({ \"color\": \"yellow\" })\n",
    "results.to_list()"
   ]
  },
  {
   "cell_type": "markdown",
   "metadata": {},
   "source": [
    "**Partial Match** ???\n",
    "\n",
    "Avec des index\n",
    "\n",
    "https://www.mongodb.com/docs/manual/reference/operator/query/text/"
   ]
  },
  {
   "cell_type": "code",
   "execution_count": 62,
   "metadata": {},
   "outputs": [
    {
     "data": {
      "text/plain": [
       "[]"
      ]
     },
     "execution_count": 62,
     "metadata": {},
     "output_type": "execute_result"
    }
   ],
   "source": [
    "client = pymongo.MongoClient(\"mongodb://localhost:27017/\")\n",
    "mydb = client[\"allocine\"]\n",
    "\n",
    "col_movies = mydb[\"movies\"]\n",
    "results = col_movies.find({ \"title\": \"The Brutalist\" })\n",
    "results.to_list()"
   ]
  },
  {
   "cell_type": "code",
   "execution_count": 61,
   "metadata": {},
   "outputs": [
    {
     "data": {
      "text/plain": [
       "DeleteResult({'n': 1, 'ok': 1.0}, acknowledged=True)"
      ]
     },
     "execution_count": 61,
     "metadata": {},
     "output_type": "execute_result"
    }
   ],
   "source": [
    "col_movies.delete_one({'title' : \"The Brutalist\"})"
   ]
  },
  {
   "cell_type": "markdown",
   "metadata": {},
   "source": [
    "**Comparison operators**\n",
    "\n",
    "list of operators: https://www.mongodb.com/docs/manual/reference/operator/query-comparison/"
   ]
  },
  {
   "cell_type": "code",
   "execution_count": 143,
   "metadata": {},
   "outputs": [
    {
     "name": "stdout",
     "output_type": "stream",
     "text": [
      "{'_id': 1, 'name': 'apples', 'qty': 5, 'rating': 3, 'color': 'red', 'type': ['fuji', 'honeycrisp']}\n",
      "{'_id': 2, 'name': 'bananas', 'qty': 7, 'rating': 4, 'color': 'yellow', 'type': ['cavendish']}\n",
      "{'_id': 4, 'name': 'pineapple', 'qty': 3, 'rating': 5, 'color': 'yellow'}\n"
     ]
    }
   ],
   "source": [
    "results = col_fruits.find({ \"rating\": { \"$gt\" : 2 }})\n",
    "for f in results:\n",
    "    print(f) "
   ]
  },
  {
   "cell_type": "markdown",
   "metadata": {},
   "source": [
    "**Logical operators**\n",
    "\n",
    "https://www.mongodb.com/docs/manual/reference/operator/query-logical/"
   ]
  },
  {
   "cell_type": "code",
   "execution_count": 147,
   "metadata": {},
   "outputs": [
    {
     "name": "stdout",
     "output_type": "stream",
     "text": [
      "{'_id': 2, 'name': 'bananas', 'qty': 7, 'rating': 4, 'color': 'yellow', 'type': ['cavendish']}\n",
      "{'_id': 3, 'name': 'oranges', 'qty': 6, 'rating': 2, 'type': ['naval', 'mandarin']}\n",
      "{'_id': 4, 'name': 'pineapple', 'qty': 3, 'rating': 5, 'color': 'yellow'}\n"
     ]
    }
   ],
   "source": [
    "results = col_fruits.find({ \n",
    "    \"$or\": [\n",
    "        { \"qty\": { \"$gt\": 5 }},\n",
    "        { \"color\": \"yellow\" }\n",
    "    ]\n",
    "})\n",
    "for f in results:\n",
    "    print(f)"
   ]
  },
  {
   "cell_type": "markdown",
   "metadata": {},
   "source": [
    "**Arrays operators**\n",
    "\n",
    "https://www.mongodb.com/docs/manual/reference/operator/query-array/"
   ]
  },
  {
   "cell_type": "code",
   "execution_count": 158,
   "metadata": {},
   "outputs": [
    {
     "name": "stdout",
     "output_type": "stream",
     "text": [
      "{'_id': 1, 'name': 'apples', 'qty': 5, 'rating': 3, 'color': 'red', 'type': ['fuji', 'honeycrisp']}\n",
      "{'_id': 2, 'name': 'bananas', 'qty': 7, 'rating': 4, 'color': 'yellow', 'type': ['cavendish']}\n",
      "{'_id': 3, 'name': 'oranges', 'qty': 6, 'rating': 2, 'type': ['naval', 'mandarin']}\n",
      "{'_id': 4, 'name': 'pineapple', 'qty': 3, 'rating': 5, 'color': 'yellow'}\n",
      "{'_id': 5, 'name': 'test', 'qty': 10, 'rating': 3, 'color': 'green', 'type': ['fuji', 'typeXXX']}\n",
      "----\n",
      "{'_id': 1, 'name': 'apples', 'qty': 5, 'rating': 3, 'color': 'red', 'type': ['fuji', 'honeycrisp']}\n",
      "{'_id': 3, 'name': 'oranges', 'qty': 6, 'rating': 2, 'type': ['naval', 'mandarin']}\n",
      "{'_id': 5, 'name': 'test', 'qty': 10, 'rating': 3, 'color': 'green', 'type': ['fuji', 'typeXXX']}\n"
     ]
    }
   ],
   "source": [
    "for f in col_fruits.find({}):\n",
    "    print(f)\n",
    "\n",
    "print('----')\n",
    "results = col_fruits.find({\n",
    "    \"type\" : { \"$size\": 2 }\n",
    "})\n",
    "\n",
    "for f in results:\n",
    "    print(f)"
   ]
  },
  {
   "cell_type": "code",
   "execution_count": 159,
   "metadata": {},
   "outputs": [
    {
     "name": "stdout",
     "output_type": "stream",
     "text": [
      "{'_id': 1, 'name': 'apples', 'qty': 5, 'rating': 3, 'color': 'red', 'type': ['fuji', 'honeycrisp']}\n",
      "{'_id': 5, 'name': 'test', 'qty': 10, 'rating': 3, 'color': 'green', 'type': ['fuji', 'typeXXX']}\n"
     ]
    }
   ],
   "source": [
    "results = col_fruits.find({\n",
    "    \"type\" : { \"$all\": ['fuji'] }\n",
    "})\n",
    "\n",
    "for f in results:\n",
    "    print(f)"
   ]
  },
  {
   "cell_type": "markdown",
   "metadata": {},
   "source": [
    "**Element Operator**\n",
    "\n",
    "to check if a field exists"
   ]
  },
  {
   "cell_type": "code",
   "execution_count": 160,
   "metadata": {},
   "outputs": [
    {
     "name": "stdout",
     "output_type": "stream",
     "text": [
      "{'_id': 1, 'name': 'apples', 'qty': 5, 'rating': 3, 'color': 'red', 'type': ['fuji', 'honeycrisp']}\n",
      "{'_id': 2, 'name': 'bananas', 'qty': 7, 'rating': 4, 'color': 'yellow', 'type': ['cavendish']}\n",
      "{'_id': 4, 'name': 'pineapple', 'qty': 3, 'rating': 5, 'color': 'yellow'}\n",
      "{'_id': 5, 'name': 'test', 'qty': 10, 'rating': 3, 'color': 'green', 'type': ['fuji', 'typeXXX']}\n"
     ]
    }
   ],
   "source": [
    "results = col_fruits.find( { \"color\" : { \"$exists\": \"true\" }} )\n",
    "for f in results:\n",
    "    print(f)"
   ]
  },
  {
   "cell_type": "markdown",
   "metadata": {},
   "source": [
    "**Evaluation operators**\n",
    "\n",
    "https://www.mongodb.com/docs/manual/reference/operator/query-evaluation/"
   ]
  },
  {
   "cell_type": "code",
   "execution_count": null,
   "metadata": {},
   "outputs": [
    {
     "name": "stdout",
     "output_type": "stream",
     "text": [
      "{'_id': 1, 'name': 'apples', 'qty': 5, 'rating': 3, 'color': 'red', 'type': ['fuji', 'honeycrisp']}\n",
      "{'_id': 4, 'name': 'pineapple', 'qty': 3, 'rating': 5, 'color': 'yellow'}\n"
     ]
    }
   ],
   "source": [
    "results = col_fruits.find({ \"name\" : { \"$regex\" : \"p{2,}\" }} ) ## At least 2 consecutives p\n",
    "for f in results:\n",
    "    print(f)"
   ]
  },
  {
   "cell_type": "markdown",
   "metadata": {},
   "source": [
    "**Delete data**"
   ]
  },
  {
   "cell_type": "code",
   "execution_count": null,
   "metadata": {},
   "outputs": [
    {
     "name": "stdout",
     "output_type": "stream",
     "text": [
      "{'_id': 1, 'name': 'apples', 'qty': 5, 'rating': 3, 'color': 'red', 'type': ['fuji', 'honeycrisp']}\n",
      "{'_id': 2, 'name': 'bananas', 'qty': 7, 'rating': 4, 'color': 'yellow', 'type': ['cavendish']}\n",
      "{'_id': 3, 'name': 'oranges', 'qty': 6, 'rating': 2, 'type': ['naval', 'mandarin']}\n",
      "{'_id': 5, 'name': 'test', 'qty': 10, 'rating': 3, 'color': 'green', 'type': ['fuji', 'typeXXX']}\n",
      "{'_id': 4, 'name': 'pineapple', 'qty': 3, 'rating': 5, 'color': 'yellow'}\n",
      "{'_id': 1, 'name': 'apples', 'qty': 5, 'rating': 3, 'color': 'red', 'type': ['fuji', 'honeycrisp']}\n",
      "{'_id': 2, 'name': 'bananas', 'qty': 7, 'rating': 4, 'color': 'yellow', 'type': ['cavendish']}\n",
      "{'_id': 3, 'name': 'oranges', 'qty': 6, 'rating': 2, 'type': ['naval', 'mandarin']}\n",
      "{'_id': 5, 'name': 'test', 'qty': 10, 'rating': 3, 'color': 'green', 'type': ['fuji', 'typeXXX']}\n",
      "{'_id': 4, 'name': 'pineapple', 'qty': 3, 'rating': 5, 'color': 'yellow'}\n"
     ]
    }
   ],
   "source": [
    "# Delete_one\n",
    "for f in col_fruits.find({}):\n",
    "    print(f)\n",
    "\n",
    "col_fruits.delete_one({'_id' : 4})\n",
    "\n",
    "for f in col_fruits.find({}):\n",
    "    print(f)"
   ]
  },
  {
   "cell_type": "code",
   "execution_count": null,
   "metadata": {},
   "outputs": [
    {
     "name": "stdout",
     "output_type": "stream",
     "text": [
      "{'_id': 1, 'name': 'apples', 'qty': 5, 'rating': 3, 'color': 'red', 'type': ['fuji', 'honeycrisp']}\n",
      "{'_id': 2, 'name': 'bananas', 'qty': 7, 'rating': 4, 'color': 'yellow', 'type': ['cavendish']}\n",
      "{'_id': 3, 'name': 'oranges', 'qty': 6, 'rating': 2, 'type': ['naval', 'mandarin']}\n",
      "{'_id': 4, 'name': 'pineapple', 'qty': 3, 'rating': 5, 'color': 'yellow'}\n",
      "{'_id': 5, 'name': 'test', 'qty': 10, 'rating': 3, 'color': 'green', 'type': ['fuji', 'typeXXX']}\n",
      "{'_id': 1, 'name': 'apples', 'qty': 5, 'rating': 3, 'color': 'red', 'type': ['fuji', 'honeycrisp']}\n",
      "{'_id': 2, 'name': 'bananas', 'qty': 7, 'rating': 4, 'color': 'yellow', 'type': ['cavendish']}\n",
      "{'_id': 3, 'name': 'oranges', 'qty': 6, 'rating': 2, 'type': ['naval', 'mandarin']}\n",
      "{'_id': 4, 'name': 'pineapple', 'qty': 3, 'rating': 5, 'color': 'yellow'}\n",
      "{'_id': 5, 'name': 'test', 'qty': 10, 'rating': 3, 'color': 'green', 'type': ['fuji', 'typeXXX']}\n"
     ]
    }
   ],
   "source": [
    "# Delete_many\n",
    "for f in col_fruits.find({}):\n",
    "    print(f)\n",
    "\n",
    "col_fruits.delete_many({'_id' : {'$gte' : 3} })\n",
    "\n",
    "for f in col_fruits.find({}):\n",
    "    print(f)"
   ]
  },
  {
   "cell_type": "code",
   "execution_count": 186,
   "metadata": {},
   "outputs": [
    {
     "name": "stdout",
     "output_type": "stream",
     "text": [
      "{'_id': 1, 'name': 'apples', 'qty': 5, 'rating': 3, 'color': 'red', 'type': ['fuji', 'honeycrisp']}\n",
      "{'_id': 2, 'name': 'bananas', 'qty': 7, 'rating': 4, 'color': 'yellow', 'type': ['cavendish']}\n",
      "{'_id': 3, 'name': 'oranges', 'qty': 6, 'rating': 2, 'type': ['naval', 'mandarin']}\n",
      "{'_id': 4, 'name': 'pineapple', 'qty': 3, 'rating': 5, 'color': 'yellow'}\n",
      "{'_id': 5, 'name': 'test', 'qty': 10, 'rating': 3, 'color': 'green', 'type': ['fuji', 'typeXXX']}\n",
      "{'_id': 2, 'name': 'bananas', 'qty': 7, 'rating': 4, 'color': 'yellow', 'type': ['cavendish']}\n",
      "{'_id': 4, 'name': 'pineapple', 'qty': 3, 'rating': 5, 'color': 'yellow'}\n"
     ]
    }
   ],
   "source": [
    "# Delete_many\n",
    "for f in col_fruits.find({}):\n",
    "    print(f)\n",
    "\n",
    "col_fruits.delete_many({'_id' : {'$in' : [1, 3, 5]} })\n",
    "\n",
    "for f in col_fruits.find({}):\n",
    "    print(f)"
   ]
  },
  {
   "cell_type": "code",
   "execution_count": 2,
   "metadata": {},
   "outputs": [],
   "source": [
    "import pymongo\n",
    "client = pymongo.MongoClient(\"mongodb://localhost:27017/\")\n",
    "mydb = client[\"movies\"]\n",
    "col_movies = mydb[\"movies\"]"
   ]
  },
  {
   "cell_type": "code",
   "execution_count": 5,
   "metadata": {},
   "outputs": [
    {
     "name": "stdout",
     "output_type": "stream",
     "text": [
      "None\n"
     ]
    }
   ],
   "source": [
    "test = col_movies.find_one({ \"title\" : \"Eyes Wide Shut\" })\n",
    "print(test)"
   ]
  },
  {
   "cell_type": "code",
   "execution_count": null,
   "metadata": {},
   "outputs": [],
   "source": []
  }
 ],
 "metadata": {
  "kernelspec": {
   "display_name": "block1",
   "language": "python",
   "name": "python3"
  },
  "language_info": {
   "codemirror_mode": {
    "name": "ipython",
    "version": 3
   },
   "file_extension": ".py",
   "mimetype": "text/x-python",
   "name": "python",
   "nbconvert_exporter": "python",
   "pygments_lexer": "ipython3",
   "version": "3.12.8"
  }
 },
 "nbformat": 4,
 "nbformat_minor": 2
}
