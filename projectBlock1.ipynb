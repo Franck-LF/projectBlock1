{
 "cells": [
  {
   "cell_type": "markdown",
   "metadata": {},
   "source": [
    "# <center> Projet Bloc 1\n",
    "\n",
    "- Web scraping du site [allocine.fr](https://www.allocine.fr/films/)\n",
    "- Création d'une base de données\n",
    "- Création d'une API Flask pour requêter la BD"
   ]
  },
  {
   "cell_type": "markdown",
   "metadata": {},
   "source": [
    "### Création d'un nouvel environnement de travail\n",
    "\n",
    "<code>C:\\Users\\Utilisateur>conda create --name block1</code><br>\n",
    "\n",
    "<code>(base) C:\\Users\\Utilisateur>conda env list</code><br>\n",
    "<code># conda environments:</code><br>\n",
    "<code>#</code><br>\n",
    "<code>base                 * C:\\Users\\Utilisateur\\anaconda3</code><br>\n",
    "<code>block1                 C:\\Users\\Utilisateur\\anaconda3\\envs\\block1</code><br>\n",
    "<code>coursera               C:\\Users\\Utilisateur\\anaconda3\\envs\\coursera</code><br>\n",
    "<code>data                   C:\\Users\\Utilisateur\\anaconda3\\envs\\data</code><br>\n",
    "<code>envTest                C:\\Users\\Utilisateur\\anaconda3\\envs\\envTest</code><br>\n",
    "<code>ia                     C:\\Users\\Utilisateur\\anaconda3\\envs\\ia</code><br>\n",
    "<code>ia2                    C:\\Users\\Utilisateur\\anaconda3\\envs\\ia2</code><br>\n",
    "<code>jupytest               C:\\Users\\Utilisateur\\anaconda3\\envs\\jupytest</code><br>\n",
    "<code>streamlit              C:\\Users\\Utilisateur\\anaconda3\\envs\\streamlit</code><br>"
   ]
  },
  {
   "cell_type": "markdown",
   "metadata": {},
   "source": [
    "### Installation des packages\n",
    "\n",
    "<code>C:\\Users\\Utilisateur>conda activate block1</code><br>\n",
    "<code>C:\\Users\\Utilisateur>conda install numpy scipy seaborn tqdm pandas matplotlib</code><br>\n",
    "<code>C:\\Users\\Utilisateur>conda install beautifulsoup4</code><br>\n",
    "<code></code><br>"
   ]
  },
  {
   "cell_type": "markdown",
   "metadata": {},
   "source": []
  }
 ],
 "metadata": {
  "language_info": {
   "name": "python"
  }
 },
 "nbformat": 4,
 "nbformat_minor": 2
}
