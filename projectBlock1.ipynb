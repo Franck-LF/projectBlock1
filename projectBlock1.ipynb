{
 "cells": [
  {
   "cell_type": "markdown",
   "metadata": {},
   "source": [
    "# <center> Projet Bloc 1"
   ]
  },
  {
   "cell_type": "markdown",
   "metadata": {},
   "source": [
    "\n",
    "## **Description**"
   ]
  },
  {
   "cell_type": "markdown",
   "metadata": {},
   "source": [
    "\n",
    "- Web scraping du site [allocine.fr](https://www.allocine.fr/films/) et peut-être [themoviedb.org](https://www.themoviedb.org/person/6193-leonardo-dicaprio?language=fr)\n",
    "- Création d'une base de données\n",
    "- Création d'une API Flask pour requêter la BD (création de filtres sur la BD, recherche de films avec 2 acteurs précis)\n",
    "- Automatisation de la tâche (scraping des avis les plus récents avec CronTab et écriture automatique des ajouts accomplis dans un rapport LaTeX)\n",
    "- Crétion d'une interface / app pour présenter les résultats des requêtes.\n",
    "- Documentation et sécurité de l'API\n",
    "- Rendu Latex\n",
    "\n",
    "Il faut suivre le pdf : grille individuelle d'évaluation<br>\n",
    "ainsi que le lien [www.cnil.fr/registre-activites-traitement](https://www.cnil.fr/fr/RGPD-le-registre-des-activites-de-traitement) et le pdf déjà tléchargé avec le tableau de règles à suivre.<br>\n"
   ]
  },
  {
   "cell_type": "markdown",
   "metadata": {},
   "source": [
    "## **Création d'un nouvel environnement de travail**"
   ]
  },
  {
   "cell_type": "markdown",
   "metadata": {},
   "source": [
    "\n",
    "<code>C:\\Users\\Utilisateur>conda create --name block1</code><br>\n",
    "\n",
    "<code>(base) C:\\Users\\Utilisateur>conda env list</code><br>\n",
    "<code># conda environments:</code><br>\n",
    "<code>#</code><br>\n",
    "<code>base                 * C:\\Users\\Utilisateur\\anaconda3</code><br>\n",
    "<code>block1                 C:\\Users\\Utilisateur\\anaconda3\\envs\\block1</code><br>\n",
    "<code>coursera               C:\\Users\\Utilisateur\\anaconda3\\envs\\coursera</code><br>\n",
    "<code>data                   C:\\Users\\Utilisateur\\anaconda3\\envs\\data</code><br>\n",
    "<code>envTest                C:\\Users\\Utilisateur\\anaconda3\\envs\\envTest</code><br>\n",
    "<code>ia                     C:\\Users\\Utilisateur\\anaconda3\\envs\\ia</code><br>\n",
    "<code>ia2                    C:\\Users\\Utilisateur\\anaconda3\\envs\\ia2</code><br>\n",
    "<code>jupytest               C:\\Users\\Utilisateur\\anaconda3\\envs\\jupytest</code><br>\n",
    "<code>streamlit              C:\\Users\\Utilisateur\\anaconda3\\envs\\streamlit</code><br>\n",
    "\n",
    "<code>C:\\Users\\Utilisateur>conda activate block1</code>"
   ]
  },
  {
   "cell_type": "markdown",
   "metadata": {},
   "source": [
    "### Installation des packages\n",
    "\n",
    "<code>C:\\Users\\Utilisateur>conda install numpy scipy seaborn tqdm pandas matplotlib</code><br>\n",
    "<code>C:\\Users\\Utilisateur>conda install requests beautifulsoup4</code><br>\n",
    "<code>C:\\Users\\Utilisateur>pip install httpx</code> [https://www.python-httpx.org/](https://www.python-httpx.org/)<br>\n",
    "<code>C:\\Users\\Utilisateur>pip install selenium</code><br>\n",
    "<code>C:\\Users\\Utilisateur>pip install mysql-connector-python</code><br>\n",
    "<code></code><br>"
   ]
  },
  {
   "cell_type": "markdown",
   "metadata": {},
   "source": []
  },
  {
   "cell_type": "markdown",
   "metadata": {},
   "source": [
    "## **Webscrapping**"
   ]
  },
  {
   "cell_type": "markdown",
   "metadata": {},
   "source": [
    "## **Création des bases de données**"
   ]
  },
  {
   "cell_type": "markdown",
   "metadata": {},
   "source": [
    "### Création de la base de données des films"
   ]
  },
  {
   "cell_type": "markdown",
   "metadata": {},
   "source": [
    "## **Création de l'API**"
   ]
  },
  {
   "cell_type": "markdown",
   "metadata": {},
   "source": []
  }
 ],
 "metadata": {
  "language_info": {
   "name": "python"
  }
 },
 "nbformat": 4,
 "nbformat_minor": 2
}
