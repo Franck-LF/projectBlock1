{
 "cells": [
  {
   "cell_type": "markdown",
   "metadata": {},
   "source": [
    "# <center> webscraping\n",
    "\n",
    "### première partie du projet bloc 1\n",
    "\n",
    "- Webscraping du site [www.allocine.fr](https://www.allocine.fr/films/)\n",
    "\n",
    "![filtres](images/filtresSMALL.png)\n",
    "\n",
    "## Sources :\n",
    "[beautiful-soup-4](https://beautiful-soup-4.readthedocs.io/en/latest/)<br>\n",
    "<br>\n",
    "<br>\n",
    "<br>\n"
   ]
  },
  {
   "cell_type": "code",
   "execution_count": null,
   "metadata": {},
   "outputs": [],
   "source": [
    "%reset"
   ]
  },
  {
   "cell_type": "code",
   "execution_count": 19,
   "metadata": {},
   "outputs": [],
   "source": [
    "import os\n",
    "import re\n",
    "#import httpx\n",
    "import requests\n",
    "import pandas as pd\n",
    "\n",
    "from bs4 import BeautifulSoup\n",
    "from IPython.display import display\n",
    "from tqdm import tqdm\n",
    "\n",
    "%config IPCompleter.greedy = True\n",
    "\n",
    "url_site = 'https://www.allocine.fr/'\n",
    "#url_site = 'https://www.allocine.fr/films/'"
   ]
  },
  {
   "cell_type": "markdown",
   "metadata": {},
   "source": [
    "### On scrape tous les genres de film"
   ]
  },
  {
   "cell_type": "code",
   "execution_count": 20,
   "metadata": {},
   "outputs": [
    {
     "name": "stdout",
     "output_type": "stream",
     "text": [
      "<class 'bs4.BeautifulSoup'>\n"
     ]
    }
   ],
   "source": [
    "# Scrap all categories\n",
    "url_films = url_site + 'films/'\n",
    "r = requests.get(url_films, auth=('user', 'pass'))\n",
    "if r.status_code != 200:\n",
    "    print(\"url_site error\")\n",
    "    \n",
    "soup = BeautifulSoup(r.content, 'html.parser')\n",
    "print(type(soup))\n",
    "\n",
    "categories = []\n",
    "eltCategories = soup.find('div', class_='filter-entity-section')\n",
    "for elt in eltCategories.find_all('li'):\n",
    "    categories.append(elt.a.text)\n",
    "\n",
    "df_categories = pd.Series(categories)\n",
    "\n",
    "dict_n_cat = {k:v for k, v in enumerate(categories)}\n",
    "dict_cat_n = {v:k for v, k in dict_n_cat.items()}"
   ]
  },
  {
   "cell_type": "markdown",
   "metadata": {},
   "source": [
    "### On scrapte les films par période\n",
    "[1980 - 1989] puis [1990 - 1999] ..."
   ]
  },
  {
   "cell_type": "code",
   "execution_count": 21,
   "metadata": {},
   "outputs": [
    {
     "name": "stdout",
     "output_type": "stream",
     "text": [
      "2030 - 2039\n",
      "2020 - 2029\n",
      "2010 - 2019\n",
      "2000 - 2009\n",
      "1990 - 1999\n",
      "** 1980 - 1989\n",
      "1970 - 1979\n",
      "1960 - 1969\n",
      "1950 - 1959\n",
      "1940 - 1949\n",
      "1930 - 1939\n",
      "1920 - 1929\n",
      "1910 - 1919\n",
      "1900 - 1909\n",
      "1890 - 1899\n"
     ]
    }
   ],
   "source": [
    "# Scrap url of years we want to scrap the movies\n",
    "# Not Working\n",
    "# I cannot get the url by scraping\n",
    "decades_to_scrap = ['1980 - 1989']\n",
    "eltYears = eltCategories.find_next_sibling()\n",
    "lstUrl = []\n",
    "eltCur = eltYears.find('li')\n",
    "\n",
    "while eltCur:\n",
    "    text = eltCur.span.text\n",
    "    # print(eltCur)\n",
    "    # print(eltCur.span.get('href'))\n",
    "    if text in decades_to_scrap:\n",
    "        print(\"**\", text)\n",
    "    else:\n",
    "        print(eltCur.span.text)\n",
    "    eltCur = eltCur.find_next_sibling()"
   ]
  },
  {
   "cell_type": "markdown",
   "metadata": {},
   "source": [
    "### Ou bien nous pouvons entrer les url manuellement"
   ]
  },
  {
   "cell_type": "code",
   "execution_count": 22,
   "metadata": {},
   "outputs": [
    {
     "name": "stdout",
     "output_type": "stream",
     "text": [
      "47\n"
     ]
    }
   ],
   "source": [
    "url_decades = url_films + 'decennie-1980/'\n",
    "url_year = url_films + 'decennie-1980/annee-1980/'\n",
    "\n",
    "def getNumberOfPages(elt):\n",
    "    nb = 0\n",
    "    while elt:\n",
    "        if elt.text.isdigit():\n",
    "            nb = elt.text\n",
    "        elt = elt.find_next_sibling()\n",
    "    return int(nb)\n",
    "\n",
    "r = requests.get(url_year, auth=('user', 'pass'))\n",
    "if r.status_code != 200:\n",
    "    print(\"url_site error\")\n",
    "\n",
    "# We get the number of pages for this year\n",
    "soup = BeautifulSoup(r.content, 'html.parser')\n",
    "pagination = soup.find('div', class_='pagination-item-holder')\n",
    "nb_pages = int(pagination.find_all('span')[-1].text)\n",
    "assert nb_pages == getNumberOfPages(pagination.find('span'))\n",
    "print(nb_pages)"
   ]
  },
  {
   "cell_type": "markdown",
   "metadata": {},
   "source": [
    "### On scrape chaque page de films pour une année donnée"
   ]
  },
  {
   "cell_type": "code",
   "execution_count": 65,
   "metadata": {},
   "outputs": [
    {
     "name": "stdout",
     "output_type": "stream",
     "text": [
      "Titre : Shining\n",
      "<div class=\"meta-body\">\n",
      " <div class=\"meta-body-item meta-body-info\">\n",
      "  <span class=\"ACrL2ZACrpbG0vYWdlbmRhL3NlbS0xOTgwLTEwLTE1Lw== date blue-link\">\n",
      "   16 octobre 1980\n",
      "  </span>\n",
      "  <span class=\"meta-release-type\">\n",
      "   en salle\n",
      "  </span>\n",
      "  <span class=\"spacer\">\n",
      "   |\n",
      "  </span>\n",
      "  2h 23min\n",
      "  <span class=\"spacer\">\n",
      "   |\n",
      "  </span>\n",
      "  <span class=\"ACrL2ZACrpbG1zL2dlbnJlLTEzMDA5Lw== dark-grey-link\">\n",
      "   Epouvante-horreur\n",
      "  </span>\n",
      "  ,\n",
      "  <span class=\"ACrL2ZACrpbG1zL2dlbnJlLTEzMDIzLw== dark-grey-link\">\n",
      "   Thriller\n",
      "  </span>\n",
      " </div>\n",
      " <div class=\"meta-body-item\">\n",
      "  <span class=\"light\">\n",
      "   Date de reprise\n",
      "  </span>\n",
      "  <span class=\"ACrL2ZACrpbG0vYWdlbmRhL3NlbS0yMDE5LTA1LTIyLw== date\">\n",
      "   22 mai 2019\n",
      "  </span>\n",
      " </div>\n",
      " <div class=\"meta-body-item meta-body-direction meta-body-oneline\">\n",
      "  <span class=\"light\">\n",
      "   De\n",
      "  </span>\n",
      "  <span class=\"ACrL3BACrlcnNvbm5lL2ZpY2hlcGVyc29ubmVfZ2VuX2NwZXJzb25uZT01MjAuaHRtbA== dark-grey-link\">\n",
      "   Stanley Kubrick\n",
      "  </span>\n",
      " </div>\n",
      " <span class=\"spacer\">\n",
      "  |\n",
      " </span>\n",
      " <div class=\"meta-body-item meta-body-direction meta-body-oneline\">\n",
      "  <span class=\"light\">\n",
      "   Par\n",
      "  </span>\n",
      "  <span class=\"ACrL3BACrlcnNvbm5lL2ZpY2hlcGVyc29ubmVfZ2VuX2NwZXJzb25uZT01MjAuaHRtbA== dark-grey-link\">\n",
      "   Stanley Kubrick\n",
      "  </span>\n",
      "  ,\n",
      "  <span class=\"ACrL3BACrlcnNvbm5lL2ZpY2hlcGVyc29ubmVfZ2VuX2NwZXJzb25uZT02NDUwMi5odG1s dark-grey-link\">\n",
      "   Diane Johnson\n",
      "  </span>\n",
      " </div>\n",
      " <div class=\"meta-body-item meta-body-actor\">\n",
      "  <span class=\"light\">\n",
      "   Avec\n",
      "  </span>\n",
      "  <span class=\"ACrL3BACrlcnNvbm5lL2ZpY2hlcGVyc29ubmVfZ2VuX2NwZXJzb25uZT0zNDI3OC5odG1s dark-grey-link\">\n",
      "   Jack Nicholson\n",
      "  </span>\n",
      "  ,\n",
      "  <span class=\"ACrL3BACrlcnNvbm5lL2ZpY2hlcGVyc29ubmVfZ2VuX2NwZXJzb25uZT02ODIuaHRtbA== dark-grey-link\">\n",
      "   Jean-Louis Trintignant\n",
      "  </span>\n",
      "  ,\n",
      "  <span class=\"ACrL3BACrlcnNvbm5lL2ZpY2hlcGVyc29ubmVfZ2VuX2NwZXJzb25uZT0yNjYwLmh0bWw= dark-grey-link\">\n",
      "   Shelley Duvall\n",
      "  </span>\n",
      " </div>\n",
      " <div class=\"meta-body-item\">\n",
      "  <span class=\"light\">\n",
      "   Titre original\n",
      "  </span>\n",
      "  <span class=\"dark-grey\">\n",
      "   The Shining\n",
      "  </span>\n",
      " </div>\n",
      " <div class=\"meta-body-item\">\n",
      "  <span class=\"ACrL2ZACrpbG0vbGVzaW5kZXMv button button-sm button-les-indes\">\n",
      "  </span>\n",
      " </div>\n",
      "</div>\n",
      "\n",
      "\n",
      "\n",
      "\n",
      "                    16 octobre 1980\n",
      "                \n",
      "\n",
      "            en salle\n",
      "    \n",
      "                            \n",
      "    \n",
      "    \n",
      "    \n",
      "|\n",
      "                    \n",
      "                                                            \n",
      "                                            2h 23min\n",
      "                                        \n",
      "                                            |\n",
      "Epouvante-horreur,\n",
      "                                                                                                                                                    \n",
      "                                                                                Thriller\n",
      "\n",
      "\n",
      "Date de reprise\n",
      "\n",
      "                    22 mai 2019\n",
      "                \n",
      "\n",
      "\n",
      "De\n",
      "Stanley Kubrick\n",
      "\n",
      "|\n",
      "\n",
      "Par\n",
      "Stanley Kubrick,\n",
      "                                                                                                                    \n",
      "                                            Diane Johnson\n",
      "\n",
      "\n",
      "Avec\n",
      "Jack Nicholson,\n",
      "                                    \n",
      "                                                                                                                                                            \n",
      "                                                                \n",
      "                                            Jean-Louis Trintignant,\n",
      "                                    \n",
      "                                                                                                                                                            \n",
      "                                                                \n",
      "                                            Shelley Duvall\n",
      "\n",
      "\n",
      "Titre original \n",
      "The Shining\n",
      "\n",
      "\n",
      " \n",
      "\n",
      "\n"
     ]
    }
   ],
   "source": [
    "def scrapMoviePage(soupMovie):\n",
    "    print(\"Titre :\" , soupMovie.find('div', class_=\"titlebar-title titlebar-title-xl\").text)\n",
    "    elt = soupMovie.find('div', class_=\"meta-body\")\n",
    "    print(elt.prettify())\n",
    "    print(getattr(elt, 'text'))\n",
    "    return\n",
    "    elts = elt.findChildren(\"span\" , recursive=True)\n",
    "    for elt in elts[:8]:\n",
    "        if elt.get('class')[0].strip() != \"spacer\":\n",
    "            print(elt)\n",
    "            if 'date' in elt.get('class'):\n",
    "                print('Date :', elt.text.strip())\n",
    "            elif 'date' in elt.get('class'):\n",
    "                print('Date :', elt.text.strip())\n",
    "            else:\n",
    "                print(elt.text.strip())\n",
    "                print(elt.prettify())\n",
    "\n",
    "movies = []\n",
    "\n",
    "for i in range(1, 2):\n",
    "    url_year_page = url_year + '?page=' + str(i)\n",
    "    r = requests.get(url_year_page, auth=('user', 'pass'))\n",
    "    if r.status_code != 200:\n",
    "        print(\"url_site error\")\n",
    "    soupMovies = BeautifulSoup(r.content, 'html.parser')\n",
    "    eltMovies = soupMovies.find_all('li', class_='mdl')\n",
    "\n",
    "    for eltMovie in eltMovies:\n",
    "        for eltMovie in eltMovies:\n",
    "            #print(eltMovie.find(\"h2\").find('a').text.strip())\n",
    "            url_movie = url_site + eltMovie.h2.a.get('href')\n",
    "            #print(url_movie)\n",
    "            r = requests.get(url_movie, auth=('user', 'pass'))\n",
    "            soupMovie = BeautifulSoup(r.content, 'html.parser')\n",
    "            scrapMoviePage(soupMovie)\n",
    "            break\n",
    "        break"
   ]
  },
  {
   "cell_type": "markdown",
   "metadata": {},
   "source": [
    "### On scrape les pays"
   ]
  },
  {
   "cell_type": "code",
   "execution_count": null,
   "metadata": {},
   "outputs": [],
   "source": [
    "eltCountries = eltYears.find_next_sibling()\n",
    "print(eltCountries)"
   ]
  },
  {
   "cell_type": "code",
   "execution_count": null,
   "metadata": {},
   "outputs": [],
   "source": []
  }
 ],
 "metadata": {
  "kernelspec": {
   "display_name": "block1",
   "language": "python",
   "name": "python3"
  },
  "language_info": {
   "codemirror_mode": {
    "name": "ipython",
    "version": 3
   },
   "file_extension": ".py",
   "mimetype": "text/x-python",
   "name": "python",
   "nbconvert_exporter": "python",
   "pygments_lexer": "ipython3",
   "version": "3.12.8"
  }
 },
 "nbformat": 4,
 "nbformat_minor": 2
}
