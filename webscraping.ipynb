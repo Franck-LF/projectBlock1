{
 "cells": [
  {
   "cell_type": "markdown",
   "metadata": {},
   "source": [
    "# <center> webscraping\n",
    "\n",
    "### première partie du projet bloc 1\n",
    "\n",
    "- Webscraping du site [www.allocine.fr](https://www.allocine.fr/films/)\n",
    "\n",
    "![filtres](images/filtresSMALL.png)\n",
    "\n",
    "## Sources :\n",
    "[beautiful-soup-4](https://beautiful-soup-4.readthedocs.io/en/latest/)<br>\n",
    "<br>\n",
    "<br>\n",
    "<br>\n"
   ]
  },
  {
   "cell_type": "code",
   "execution_count": null,
   "metadata": {},
   "outputs": [],
   "source": [
    "%reset"
   ]
  },
  {
   "cell_type": "code",
   "execution_count": 2,
   "metadata": {},
   "outputs": [],
   "source": [
    "import os\n",
    "import re\n",
    "#import httpx\n",
    "import requests\n",
    "import pandas as pd\n",
    "\n",
    "from bs4 import BeautifulSoup\n",
    "from IPython.display import display\n",
    "from tqdm import tqdm\n",
    "\n",
    "%config IPCompleter.greedy = True\n",
    "\n",
    "url_site = 'https://www.allocine.fr/films/'"
   ]
  },
  {
   "cell_type": "markdown",
   "metadata": {},
   "source": [
    "### On scrape tous les genres de film"
   ]
  },
  {
   "cell_type": "code",
   "execution_count": 89,
   "metadata": {},
   "outputs": [
    {
     "name": "stdout",
     "output_type": "stream",
     "text": [
      "<class 'bs4.BeautifulSoup'>\n"
     ]
    }
   ],
   "source": [
    "# Scrap all categories\n",
    "r = requests.get(url_site, auth=('user', 'pass'))\n",
    "if r.status_code != 200:\n",
    "    print(\"url_site error\")\n",
    "    \n",
    "soup = BeautifulSoup(r.content, 'html.parser')\n",
    "print(type(soup))\n",
    "\n",
    "categories = []\n",
    "eltCategories = soup.find('div', class_='filter-entity-section')\n",
    "for elt in eltCategories.find_all('li'):\n",
    "    categories.append(elt.a.text)\n",
    "\n",
    "df_categories = pd.Series(categories)\n",
    "\n",
    "dict_n_cat = {k:v for k, v in enumerate(categories)}\n",
    "dict_cat_n = {v:k for v, k in dict_n_cat.items()}"
   ]
  },
  {
   "cell_type": "markdown",
   "metadata": {},
   "source": [
    "### On scrapte les films par période\n",
    "[1980 - 1989] puis [1990 - 1999] ..."
   ]
  },
  {
   "cell_type": "code",
   "execution_count": null,
   "metadata": {},
   "outputs": [],
   "source": [
    "# Scrap url of years we want to scrap the movies\n",
    "# Not Working\n",
    "# I cannot get the url by scraping\n",
    "decades_to_scrap = ['1980 - 1989']\n",
    "eltYears = eltCategories.find_next_sibling()\n",
    "lstUrl = []\n",
    "\n",
    "eltCur = eltYears.find('li')\n",
    "while eltCur:\n",
    "    print(eltCur)\n",
    "    text = eltCur.span.text\n",
    "    test = eltCur.a.get('title')\n",
    "    print(test)\n",
    "    if text in decades_to_scrap:\n",
    "        print(\"**\", text)\n",
    "    else:\n",
    "        print(eltCur.span.text)\n",
    "    eltCur = eltCur.find_next_sibling()\n",
    "    break"
   ]
  },
  {
   "cell_type": "markdown",
   "metadata": {},
   "source": [
    "### Ou bien nous pouvons entrer les url manuellement"
   ]
  },
  {
   "cell_type": "code",
   "execution_count": 172,
   "metadata": {},
   "outputs": [],
   "source": [
    "url_decades = url_site + 'decennie-1980/'\n",
    "url_year = url_site + 'decennie-1980/annee-1980/'\n",
    "\n",
    "def getNumberOfPages(elt):\n",
    "    nb = 0\n",
    "    while elt:\n",
    "        if elt.text.isdigit():\n",
    "            nb = elt.text\n",
    "        elt = elt.find_next_sibling()\n",
    "    return int(nb)\n",
    "\n",
    "r = requests.get(url_year, auth=('user', 'pass'))\n",
    "if r.status_code != 200:\n",
    "    print(\"url_site error\")\n",
    "\n",
    "# We get the number of pages for this year\n",
    "soup = BeautifulSoup(r.content, 'html.parser')\n",
    "pagination = soup.find('div', class_='pagination-item-holder')\n",
    "nb_pages = int(pagination.find_all('span')[-1].text)\n",
    "assert nb_pages == getNumberOfPages(pagination.find('span'))"
   ]
  },
  {
   "cell_type": "markdown",
   "metadata": {},
   "source": [
    "### On scrape chaque page de films pour une année donnée"
   ]
  },
  {
   "cell_type": "code",
   "execution_count": 175,
   "metadata": {},
   "outputs": [
    {
     "name": "stdout",
     "output_type": "stream",
     "text": [
      "https://www.allocine.fr/films/decennie-1980/annee-1980/?page=1\n",
      "https://www.allocine.fr/films/decennie-1980/annee-1980/?page=2\n",
      "https://www.allocine.fr/films/decennie-1980/annee-1980/?page=3\n",
      "https://www.allocine.fr/films/decennie-1980/annee-1980/?page=4\n",
      "https://www.allocine.fr/films/decennie-1980/annee-1980/?page=5\n",
      "https://www.allocine.fr/films/decennie-1980/annee-1980/?page=6\n",
      "https://www.allocine.fr/films/decennie-1980/annee-1980/?page=7\n",
      "https://www.allocine.fr/films/decennie-1980/annee-1980/?page=8\n",
      "https://www.allocine.fr/films/decennie-1980/annee-1980/?page=9\n",
      "https://www.allocine.fr/films/decennie-1980/annee-1980/?page=10\n",
      "https://www.allocine.fr/films/decennie-1980/annee-1980/?page=11\n",
      "https://www.allocine.fr/films/decennie-1980/annee-1980/?page=12\n",
      "https://www.allocine.fr/films/decennie-1980/annee-1980/?page=13\n",
      "https://www.allocine.fr/films/decennie-1980/annee-1980/?page=14\n",
      "https://www.allocine.fr/films/decennie-1980/annee-1980/?page=15\n",
      "https://www.allocine.fr/films/decennie-1980/annee-1980/?page=16\n",
      "https://www.allocine.fr/films/decennie-1980/annee-1980/?page=17\n",
      "https://www.allocine.fr/films/decennie-1980/annee-1980/?page=18\n",
      "https://www.allocine.fr/films/decennie-1980/annee-1980/?page=19\n",
      "https://www.allocine.fr/films/decennie-1980/annee-1980/?page=20\n",
      "https://www.allocine.fr/films/decennie-1980/annee-1980/?page=21\n",
      "https://www.allocine.fr/films/decennie-1980/annee-1980/?page=22\n",
      "https://www.allocine.fr/films/decennie-1980/annee-1980/?page=23\n",
      "https://www.allocine.fr/films/decennie-1980/annee-1980/?page=24\n",
      "https://www.allocine.fr/films/decennie-1980/annee-1980/?page=25\n",
      "https://www.allocine.fr/films/decennie-1980/annee-1980/?page=26\n",
      "https://www.allocine.fr/films/decennie-1980/annee-1980/?page=27\n",
      "https://www.allocine.fr/films/decennie-1980/annee-1980/?page=28\n",
      "https://www.allocine.fr/films/decennie-1980/annee-1980/?page=29\n",
      "https://www.allocine.fr/films/decennie-1980/annee-1980/?page=30\n",
      "https://www.allocine.fr/films/decennie-1980/annee-1980/?page=31\n",
      "https://www.allocine.fr/films/decennie-1980/annee-1980/?page=32\n",
      "https://www.allocine.fr/films/decennie-1980/annee-1980/?page=33\n",
      "https://www.allocine.fr/films/decennie-1980/annee-1980/?page=34\n",
      "https://www.allocine.fr/films/decennie-1980/annee-1980/?page=35\n",
      "https://www.allocine.fr/films/decennie-1980/annee-1980/?page=36\n",
      "https://www.allocine.fr/films/decennie-1980/annee-1980/?page=37\n",
      "https://www.allocine.fr/films/decennie-1980/annee-1980/?page=38\n",
      "https://www.allocine.fr/films/decennie-1980/annee-1980/?page=39\n",
      "https://www.allocine.fr/films/decennie-1980/annee-1980/?page=40\n",
      "https://www.allocine.fr/films/decennie-1980/annee-1980/?page=41\n",
      "https://www.allocine.fr/films/decennie-1980/annee-1980/?page=42\n",
      "https://www.allocine.fr/films/decennie-1980/annee-1980/?page=43\n",
      "https://www.allocine.fr/films/decennie-1980/annee-1980/?page=44\n",
      "https://www.allocine.fr/films/decennie-1980/annee-1980/?page=45\n",
      "https://www.allocine.fr/films/decennie-1980/annee-1980/?page=46\n",
      "https://www.allocine.fr/films/decennie-1980/annee-1980/?page=47\n"
     ]
    }
   ],
   "source": [
    "for i in range(1, nb_pages+1):\n",
    "    url_year_page = url_year + '?page=' + str(i)\n",
    "    print(url_year_page)"
   ]
  },
  {
   "cell_type": "markdown",
   "metadata": {},
   "source": [
    "### On scrape les pays"
   ]
  },
  {
   "cell_type": "code",
   "execution_count": null,
   "metadata": {},
   "outputs": [],
   "source": [
    "eltCountries = eltYears.find_next_sibling()\n",
    "print(eltCountries)"
   ]
  },
  {
   "cell_type": "code",
   "execution_count": null,
   "metadata": {},
   "outputs": [],
   "source": []
  }
 ],
 "metadata": {
  "kernelspec": {
   "display_name": "block1",
   "language": "python",
   "name": "python3"
  },
  "language_info": {
   "codemirror_mode": {
    "name": "ipython",
    "version": 3
   },
   "file_extension": ".py",
   "mimetype": "text/x-python",
   "name": "python",
   "nbconvert_exporter": "python",
   "pygments_lexer": "ipython3",
   "version": "3.12.8"
  }
 },
 "nbformat": 4,
 "nbformat_minor": 2
}
