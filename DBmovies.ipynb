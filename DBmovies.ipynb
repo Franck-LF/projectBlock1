{
 "cells": [
  {
   "cell_type": "markdown",
   "metadata": {},
   "source": [
    "# <center> **Base de données (Films)**"
   ]
  },
  {
   "cell_type": "markdown",
   "metadata": {},
   "source": [
    "## **Création de la base de données**"
   ]
  },
  {
   "cell_type": "markdown",
   "metadata": {},
   "source": [
    "Des fichiers csv contenant les données ont été générés lors de la phase précédente de scrapping, nous allons maintenant lire ces fichiers csv dans des dataFrame Pandas et nettoyer les données puis les insérer dans une base de données SQL.\n"
   ]
  },
  {
   "cell_type": "markdown",
   "metadata": {},
   "source": [
    "## **Création du schéma relationnel**"
   ]
  },
  {
   "cell_type": "markdown",
   "metadata": {},
   "source": [
    "Online tool: https://drawdb.vercel.app/editor<br>\n",
    "\n",
    "Une difficulté rencontrée est de faire apparaître les films similaires à un film dans la base de données, en effet cette situation est une relation \"Many to many\" où la table se référence elle-même, c'est un cas fréquent dans les réseaux sociaux où un utilisateur va avoir des amis eux-mêmes utilisateurs.<br>\n",
    "Deux situations sont observées : <br>\n",
    "- les relations symétriques (l'utilisateur Alice est amis avec l'utilisateur Bob implique nécessairement que Bob est ami d'Alice),\n",
    "- les relations asymétriques (Alice est amis avec Bob mais Bob n'est pas forcément ami avec Alice).\n",
    "\n",
    "Dans notre situation la relation est .....????\n",
    "\n",
    "Pour représenter cette relation ....\n",
    "\n",
    "\n",
    "\n",
    "\n",
    "\n",
    "**About Self many-to-many relationship**: https://stackoverflow.com/questions/17128472/many-to-many-on-same-table\n",
    "\n",
    "Relations n-n\n",
    "\n",
    "Remarque :\n",
    "La table \"reviews\" sert de table de jonction entre les films et les utilisateurs, en effet la relation movies-users est une relation n-n car un utilateur peut écrire des avis pour plusieurs films et un film possède des avis de plusieurs utilisateurs.\n",
    "\n",
    "\n"
   ]
  },
  {
   "cell_type": "markdown",
   "metadata": {},
   "source": []
  }
 ],
 "metadata": {
  "language_info": {
   "name": "python"
  }
 },
 "nbformat": 4,
 "nbformat_minor": 2
}
