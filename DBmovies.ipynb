{
 "cells": [
  {
   "cell_type": "markdown",
   "metadata": {},
   "source": [
    "# <center> **Base de données (Films)**"
   ]
  },
  {
   "cell_type": "markdown",
   "metadata": {},
   "source": [
    "## **Présentation**"
   ]
  },
  {
   "cell_type": "markdown",
   "metadata": {},
   "source": [
    "Des fichiers csv contenant les données ont été générés lors de la phase précédente de scrapping, nous allons maintenant lire ces fichiers csv dans des dataFrame Pandas et nettoyer les données puis les insérer dans une base de données SQL.\n"
   ]
  },
  {
   "cell_type": "markdown",
   "metadata": {},
   "source": [
    "## **Questions**\n",
    "\n",
    "**Quelles données mettre en SQL et en NoSQL ?**<br>\n",
    "SQL pour les données tabulaires, NoSQL pour les données non tabulaires ou non structurées.\n",
    "\n",
    "**Générer automatiquement des IDs chaines de caractères ?**\n"
   ]
  },
  {
   "cell_type": "markdown",
   "metadata": {},
   "source": [
    "## **Sources**\n",
    "\n",
    "**Neo4j pour créer des graphs ML**<br>\n",
    "https://neo4j.com/docs/getting-started/appendix/tutorials/guide-import-relational-and-etl/\n"
   ]
  },
  {
   "cell_type": "markdown",
   "metadata": {},
   "source": [
    "## **Création du schéma relationnel**"
   ]
  },
  {
   "cell_type": "markdown",
   "metadata": {},
   "source": [
    "![relation_schema](images/DB_diagram.png)"
   ]
  },
  {
   "cell_type": "markdown",
   "metadata": {},
   "source": [
    "Online tool: https://drawdb.vercel.app/editor<br>\n",
    "\n",
    "L'utilitaire en ligne **drawdb** permet d'exporter un fichier .SQL contenant la description de notre base (tables avec les relations)\n",
    "\n",
    "![export_SQL](images/export_SQL.png)\n",
    "\n",
    "Après quelques modifications à ce fichier nous pouvons créer notre base de données ainsi que les tables à partir de l'invite de commandes.\n",
    "\n",
    "<code>\"C:\\Program Files\\MySQL\\MySQL Server 8.0\\bin\\mysql.exe\" < movies.sql -u root -p</code>\n"
   ]
  },
  {
   "cell_type": "markdown",
   "metadata": {},
   "source": [
    "\n",
    "Une difficulté rencontrée est de faire apparaître les films similaires à un film dans la base de données, en effet cette situation est une relation \"Many to many\" où la table se référence elle-même, c'est un cas fréquent dans les réseaux sociaux où un utilisateur va avoir des amis eux-mêmes utilisateurs.<br>\n",
    "Deux situations sont observées : <br>\n",
    "- les relations symétriques (l'utilisateur Alice est amis avec l'utilisateur Bob implique nécessairement que Bob est ami d'Alice),\n",
    "- les relations asymétriques (Alice est amis avec Bob mais Bob n'est pas forcément ami avec Alice).\n",
    "\n",
    "Dans notre situation la relation est .....????\n",
    "\n",
    "Pour représenter cette relation ....\n",
    "\n",
    "\n",
    "\n",
    "\n",
    "\n",
    "**About Self many-to-many relationship**: https://stackoverflow.com/questions/17128472/many-to-many-on-same-table\n",
    "\n",
    "Relations n-n\n",
    "\n",
    "Remarque :\n",
    "La table \"reviews\" sert de table de jonction entre les films et les utilisateurs, en effet la relation movies-users est une relation n-n car un utilateur peut écrire des avis pour plusieurs films et un film possède des avis de plusieurs utilisateurs.\n",
    "\n",
    "\n"
   ]
  },
  {
   "cell_type": "markdown",
   "metadata": {},
   "source": [
    "## **Création de la base de données**"
   ]
  },
  {
   "cell_type": "markdown",
   "metadata": {},
   "source": [
    "On lance **MySQL Shell** puis on passe en mode **SQ** avec l'instruction <code>\\sql</code>\n",
    "\n",
    "On peut ensuite lancer la création de notre base de données et des tables en lançant le script \"movies.sql\"\n",
    "\n",
    "<code> \"C:\\Program Files\\MySQL\\MySQL Server 8.0\\bin\\mysql.exe\" < movies.sql -u root -p</code><br>\n",
    "\n",
    "Une fois la base 'movies' créée, on peut créer un connecteur sur la base."
   ]
  },
  {
   "cell_type": "code",
   "execution_count": 49,
   "metadata": {},
   "outputs": [],
   "source": [
    "import mysql.connector\n",
    "\n",
    "cnx = mysql.connector.connect(user='root', password='admin', \\\n",
    "                              host = '127.0.0.1', database='movies')\n",
    "cursor = cnx.cursor(buffered=True)"
   ]
  },
  {
   "cell_type": "markdown",
   "metadata": {},
   "source": [
    "## **Remplissage de la base de données**"
   ]
  },
  {
   "cell_type": "markdown",
   "metadata": {},
   "source": [
    "### **Imports**"
   ]
  },
  {
   "cell_type": "code",
   "execution_count": 9,
   "metadata": {},
   "outputs": [],
   "source": [
    "import math\n",
    "import copy\n",
    "import time\n",
    "import re\n",
    "import uuid\n",
    "import numpy as np\n",
    "import pandas as pd\n",
    "from tqdm import tqdm\n",
    "from IPython.display import display\n",
    "\n",
    "pd.set_option('display.max_rows', 10)\n",
    "tqdm.pandas()"
   ]
  },
  {
   "cell_type": "code",
   "execution_count": null,
   "metadata": {},
   "outputs": [],
   "source": [
    "cnx.disconnect()"
   ]
  },
  {
   "cell_type": "markdown",
   "metadata": {},
   "source": [
    "### **Lecture des données à partir des CSV**"
   ]
  },
  {
   "cell_type": "code",
   "execution_count": 46,
   "metadata": {},
   "outputs": [
    {
     "name": "stdout",
     "output_type": "stream",
     "text": [
      "Categories : (37,)\n",
      "Countries : (100,)\n",
      "movies : (109, 16)\n"
     ]
    }
   ],
   "source": [
    "# ds_categories = pd.read_csv('csv/categories.csv', delimiter = ',')\n",
    "# ds_countries = pd.read_csv('csv/countries.csv', delimiter = ',')\n",
    "arr_categories = np.load('csv/categories.npy')\n",
    "arr_countries = np.load('csv/countries.npy')\n",
    "df_movies = pd.read_csv('csv/movies_year_1980.csv', delimiter = ',')\n",
    "\n",
    "print(\"Categories :\", arr_categories.shape)\n",
    "print(\"Countries :\", arr_countries.shape)\n",
    "print(\"movies :\", df_movies.shape)"
   ]
  },
  {
   "cell_type": "markdown",
   "metadata": {},
   "source": [
    "### **Remplissage de la table de catégories**"
   ]
  },
  {
   "cell_type": "code",
   "execution_count": null,
   "metadata": {},
   "outputs": [],
   "source": [
    "# To run ONLY ONCE, otherwise : \"ERROR Duplicate entry '0' for key 'categories.PRIMARY'\"\n",
    "dict_category_id = {}\n",
    "for item in arr_categories:\n",
    "    dict_category_id[item] = str(uuid.uuid4())\n",
    "    sql = \"INSERT INTO categories(category_id, category) VALUES (%s, %s)\"\n",
    "    val = (dict_category_id[item], item)\n",
    "    cursor.execute(sql, val)\n",
    "cnx.commit()"
   ]
  },
  {
   "cell_type": "markdown",
   "metadata": {},
   "source": [
    "### **Remplissage de la table de pays**"
   ]
  },
  {
   "cell_type": "code",
   "execution_count": 54,
   "metadata": {},
   "outputs": [],
   "source": [
    "# To run ONLY ONCE, otherwise : \"ERROR Duplicate entry '0' for key 'countries.PRIMARY'\"\n",
    "dict_country_id = {}\n",
    "for item in arr_categories:\n",
    "    dict_country_id[item] = str(uuid.uuid4())\n",
    "    sql = \"INSERT INTO countries(country_id, country) VALUES (%s, %s)\"\n",
    "    val = (dict_country_id[item], item)\n",
    "    cursor.execute(sql, val)\n",
    "cnx.commit()"
   ]
  },
  {
   "cell_type": "markdown",
   "metadata": {},
   "source": [
    "### **Remplissage de la table des producteurs**"
   ]
  },
  {
   "cell_type": "code",
   "execution_count": null,
   "metadata": {},
   "outputs": [],
   "source": [
    "arr_directors = df_movies['directors']\n",
    "\n",
    "def string_to_list(st):\n",
    "    ''' Split string into list of strings '''\n",
    "    return [x for x in st[1:-1].split(\"'\") if len(x) > 1 and x != ', ']\n",
    "\n",
    "ds_director = df_movies['directors']\n",
    "ds_director = ds_director.apply(string_to_list)\n",
    "ds_director = ds_director.apply(pd.Series).stack().reset_index(drop=True)\n",
    "\n",
    "arr_director = []\n",
    "for item in ds_director.unique():\n",
    "    if item.lower() not in arr_director:\n",
    "        arr_director.append(item.lower())\n",
    "\n",
    "print(\"Nb directors : \", len(arr_director))"
   ]
  },
  {
   "cell_type": "code",
   "execution_count": null,
   "metadata": {},
   "outputs": [],
   "source": [
    "dict_director_id = {}\n",
    "for item in arr_categories:\n",
    "    dict_director_id[item] = str(uuid.uuid4())\n",
    "    sql = \"INSERT INTO countries(director_id, director) VALUES (%s, %s)\"\n",
    "    val = (dict_director_id[item], item)\n",
    "    cursor.execute(sql, val)\n",
    "cnx.commit()"
   ]
  },
  {
   "cell_type": "markdown",
   "metadata": {},
   "source": [
    "### **Remplissage de la table des acteurs**"
   ]
  },
  {
   "cell_type": "markdown",
   "metadata": {},
   "source": [
    "### **Remplissage de la table des films**"
   ]
  },
  {
   "cell_type": "code",
   "execution_count": 77,
   "metadata": {},
   "outputs": [
    {
     "name": "stdout",
     "output_type": "stream",
     "text": [
      "['Anthony Hopkins', 'John Hurt', 'Jack Nicholson', 'Shelley Duvall']\n"
     ]
    }
   ],
   "source": [
    "# --------------------------------------------------------\n",
    "#\n",
    "# Converting some columns of \"df_movies\" into the appropriate format:\n",
    "#   - correct date format\n",
    "#   - duration un minutes\n",
    "#   - IDs of the categories\n",
    "#   - IDs of the directors / actors / composers\n",
    "#\n",
    "# --------------------------------------------------------\n",
    "\n",
    "def string_list_to_list_of_strings(st):\n",
    "    st = st.replace(',', '')\n",
    "    return [item.strip() for item in st[1:-1].split(\"'\") if len(item.strip()) > 1]\n",
    "\n",
    "txt = \"['Anthony Hopkins', 'John Hurt', 'Jack Nicholson', 'Shelley Duvall']\"\n",
    "# txt = \"['David Lynch']\"\n",
    "print(string_list_to_list_of_strings(txt))\n",
    "\n",
    "df_movies_formatted = df_movies.copy()\n",
    "\n",
    "df_movies_formatted['categories']\n",
    "\n",
    "\n",
    "df_movies_formatted.head(5)"
   ]
  },
  {
   "cell_type": "code",
   "execution_count": 57,
   "metadata": {},
   "outputs": [
    {
     "data": {
      "text/html": [
       "<div>\n",
       "<style scoped>\n",
       "    .dataframe tbody tr th:only-of-type {\n",
       "        vertical-align: middle;\n",
       "    }\n",
       "\n",
       "    .dataframe tbody tr th {\n",
       "        vertical-align: top;\n",
       "    }\n",
       "\n",
       "    .dataframe thead th {\n",
       "        text-align: right;\n",
       "    }\n",
       "</style>\n",
       "<table border=\"1\" class=\"dataframe\">\n",
       "  <thead>\n",
       "    <tr style=\"text-align: right;\">\n",
       "      <th></th>\n",
       "      <th>Unnamed: 0</th>\n",
       "      <th>title</th>\n",
       "      <th>date</th>\n",
       "      <th>duration</th>\n",
       "      <th>categories</th>\n",
       "      <th>countries</th>\n",
       "      <th>star_rating</th>\n",
       "      <th>notes</th>\n",
       "      <th>critics</th>\n",
       "      <th>directors</th>\n",
       "      <th>actors</th>\n",
       "      <th>composers</th>\n",
       "      <th>summary</th>\n",
       "      <th>url_thumbnail</th>\n",
       "      <th>url_reviews</th>\n",
       "      <th>url_similar_movies</th>\n",
       "    </tr>\n",
       "  </thead>\n",
       "  <tbody>\n",
       "    <tr>\n",
       "      <th>0</th>\n",
       "      <td>0</td>\n",
       "      <td>Elephant Man</td>\n",
       "      <td>8 avril 1981</td>\n",
       "      <td>2h 05min</td>\n",
       "      <td>Biopic,Drame</td>\n",
       "      <td>U.S.A.</td>\n",
       "      <td>4,4</td>\n",
       "      <td>29356</td>\n",
       "      <td>689</td>\n",
       "      <td>['David Lynch']</td>\n",
       "      <td>['Anthony Hopkins', 'John Hurt', 'Anne Bancrof...</td>\n",
       "      <td>['John Morris (II)']</td>\n",
       "      <td>Londres, 1884. Le chirurgien Frederick Treves ...</td>\n",
       "      <td>https://fr.web.img4.acsta.net/c_310_420/pictur...</td>\n",
       "      <td>https://www.allocine.fr/film/fichefilm-180/cri...</td>\n",
       "      <td>https://www.allocine.fr/film/fichefilm-180/sim...</td>\n",
       "    </tr>\n",
       "    <tr>\n",
       "      <th>1</th>\n",
       "      <td>1</td>\n",
       "      <td>Cannibal Holocaust</td>\n",
       "      <td>22 avril 1981</td>\n",
       "      <td>1h 26min</td>\n",
       "      <td>Epouvante-horreur</td>\n",
       "      <td>Italie,Colombie</td>\n",
       "      <td>2,1</td>\n",
       "      <td>5795</td>\n",
       "      <td>548</td>\n",
       "      <td>['Ruggero Deodato']</td>\n",
       "      <td>['Robert Kerman', 'Francesca Ciardi', 'Perry P...</td>\n",
       "      <td>['Riz Ortolani']</td>\n",
       "      <td>Une équipe de journalistes composée de trois h...</td>\n",
       "      <td>https://fr.web.img3.acsta.net/c_310_420/medias...</td>\n",
       "      <td>https://www.allocine.fr/film/fichefilm-52677/c...</td>\n",
       "      <td>https://www.allocine.fr/film/fichefilm-52677/s...</td>\n",
       "    </tr>\n",
       "    <tr>\n",
       "      <th>2</th>\n",
       "      <td>2</td>\n",
       "      <td>Shining</td>\n",
       "      <td>16 octobre 1980</td>\n",
       "      <td>2h 23min</td>\n",
       "      <td>Epouvante-horreur,Thriller</td>\n",
       "      <td>Grande-Bretagne,U.S.A.</td>\n",
       "      <td>4,3</td>\n",
       "      <td>59203</td>\n",
       "      <td>1753</td>\n",
       "      <td>['Stanley Kubrick']</td>\n",
       "      <td>['Jack Nicholson', 'Shelley Duvall', 'Danny Ll...</td>\n",
       "      <td>['Wendy Carlos', 'Rachel Elkind']</td>\n",
       "      <td>Écrivain, Jack Torrance est engagé comme gardi...</td>\n",
       "      <td>https://fr.web.img3.acsta.net/c_310_420/pictur...</td>\n",
       "      <td>https://www.allocine.fr/film/fichefilm-863/cri...</td>\n",
       "      <td>https://www.allocine.fr/film/fichefilm-863/sim...</td>\n",
       "    </tr>\n",
       "    <tr>\n",
       "      <th>3</th>\n",
       "      <td>3</td>\n",
       "      <td>La Boum</td>\n",
       "      <td>17 décembre 1980</td>\n",
       "      <td>1h 49min</td>\n",
       "      <td>Comédie,Drame,Romance</td>\n",
       "      <td>France</td>\n",
       "      <td>3,0</td>\n",
       "      <td>18586</td>\n",
       "      <td>227</td>\n",
       "      <td>['Claude Pinoteau']</td>\n",
       "      <td>['Sophie Marceau', 'Brigitte Fossey', 'Claude ...</td>\n",
       "      <td>['Vladimir Cosma']</td>\n",
       "      <td>Vic vit tranquillement entre le lycée, ses par...</td>\n",
       "      <td>https://fr.web.img3.acsta.net/c_310_420/medias...</td>\n",
       "      <td>https://www.allocine.fr/film/fichefilm-4403/cr...</td>\n",
       "      <td>https://www.allocine.fr/film/fichefilm-4403/si...</td>\n",
       "    </tr>\n",
       "    <tr>\n",
       "      <th>4</th>\n",
       "      <td>4</td>\n",
       "      <td>Beau-Père</td>\n",
       "      <td>16 septembre 1981</td>\n",
       "      <td>2h 03min</td>\n",
       "      <td>Drame</td>\n",
       "      <td>France</td>\n",
       "      <td>3,6</td>\n",
       "      <td>821</td>\n",
       "      <td>82</td>\n",
       "      <td>['Bertrand Blier']</td>\n",
       "      <td>['Patrick Dewaere', 'Ariel Besse', 'Maurice Ro...</td>\n",
       "      <td>['Philippe Sarde']</td>\n",
       "      <td>Rémi est un musicien à la dérive. Sa compagne,...</td>\n",
       "      <td>https://fr.web.img3.acsta.net/c_310_420/pictur...</td>\n",
       "      <td>https://www.allocine.fr/film/fichefilm-1403/cr...</td>\n",
       "      <td>https://www.allocine.fr/film/fichefilm-1403/si...</td>\n",
       "    </tr>\n",
       "  </tbody>\n",
       "</table>\n",
       "</div>"
      ],
      "text/plain": [
       "   Unnamed: 0               title               date  duration  \\\n",
       "0           0        Elephant Man       8 avril 1981  2h 05min   \n",
       "1           1  Cannibal Holocaust      22 avril 1981  1h 26min   \n",
       "2           2             Shining    16 octobre 1980  2h 23min   \n",
       "3           3             La Boum   17 décembre 1980  1h 49min   \n",
       "4           4           Beau-Père  16 septembre 1981  2h 03min   \n",
       "\n",
       "                   categories               countries star_rating  notes  \\\n",
       "0                Biopic,Drame                  U.S.A.         4,4  29356   \n",
       "1           Epouvante-horreur         Italie,Colombie         2,1   5795   \n",
       "2  Epouvante-horreur,Thriller  Grande-Bretagne,U.S.A.         4,3  59203   \n",
       "3       Comédie,Drame,Romance                  France         3,0  18586   \n",
       "4                       Drame                  France         3,6    821   \n",
       "\n",
       "   critics            directors  \\\n",
       "0      689      ['David Lynch']   \n",
       "1      548  ['Ruggero Deodato']   \n",
       "2     1753  ['Stanley Kubrick']   \n",
       "3      227  ['Claude Pinoteau']   \n",
       "4       82   ['Bertrand Blier']   \n",
       "\n",
       "                                              actors  \\\n",
       "0  ['Anthony Hopkins', 'John Hurt', 'Anne Bancrof...   \n",
       "1  ['Robert Kerman', 'Francesca Ciardi', 'Perry P...   \n",
       "2  ['Jack Nicholson', 'Shelley Duvall', 'Danny Ll...   \n",
       "3  ['Sophie Marceau', 'Brigitte Fossey', 'Claude ...   \n",
       "4  ['Patrick Dewaere', 'Ariel Besse', 'Maurice Ro...   \n",
       "\n",
       "                           composers  \\\n",
       "0               ['John Morris (II)']   \n",
       "1                   ['Riz Ortolani']   \n",
       "2  ['Wendy Carlos', 'Rachel Elkind']   \n",
       "3                 ['Vladimir Cosma']   \n",
       "4                 ['Philippe Sarde']   \n",
       "\n",
       "                                             summary  \\\n",
       "0  Londres, 1884. Le chirurgien Frederick Treves ...   \n",
       "1  Une équipe de journalistes composée de trois h...   \n",
       "2  Écrivain, Jack Torrance est engagé comme gardi...   \n",
       "3  Vic vit tranquillement entre le lycée, ses par...   \n",
       "4  Rémi est un musicien à la dérive. Sa compagne,...   \n",
       "\n",
       "                                       url_thumbnail  \\\n",
       "0  https://fr.web.img4.acsta.net/c_310_420/pictur...   \n",
       "1  https://fr.web.img3.acsta.net/c_310_420/medias...   \n",
       "2  https://fr.web.img3.acsta.net/c_310_420/pictur...   \n",
       "3  https://fr.web.img3.acsta.net/c_310_420/medias...   \n",
       "4  https://fr.web.img3.acsta.net/c_310_420/pictur...   \n",
       "\n",
       "                                         url_reviews  \\\n",
       "0  https://www.allocine.fr/film/fichefilm-180/cri...   \n",
       "1  https://www.allocine.fr/film/fichefilm-52677/c...   \n",
       "2  https://www.allocine.fr/film/fichefilm-863/cri...   \n",
       "3  https://www.allocine.fr/film/fichefilm-4403/cr...   \n",
       "4  https://www.allocine.fr/film/fichefilm-1403/cr...   \n",
       "\n",
       "                                  url_similar_movies  \n",
       "0  https://www.allocine.fr/film/fichefilm-180/sim...  \n",
       "1  https://www.allocine.fr/film/fichefilm-52677/s...  \n",
       "2  https://www.allocine.fr/film/fichefilm-863/sim...  \n",
       "3  https://www.allocine.fr/film/fichefilm-4403/si...  \n",
       "4  https://www.allocine.fr/film/fichefilm-1403/si...  "
      ]
     },
     "execution_count": 57,
     "metadata": {},
     "output_type": "execute_result"
    }
   ],
   "source": [
    "df_movies.head(5)"
   ]
  },
  {
   "cell_type": "code",
   "execution_count": 61,
   "metadata": {},
   "outputs": [
    {
     "name": "stdout",
     "output_type": "stream",
     "text": [
      "<class 'str'>\n"
     ]
    },
    {
     "data": {
      "text/plain": [
       "'Biopic,Drame'"
      ]
     },
     "execution_count": 61,
     "metadata": {},
     "output_type": "execute_result"
    }
   ],
   "source": [
    "print(type(df_movies.loc[0, 'categories']))\n",
    "df_movies.loc[0, 'categories']"
   ]
  },
  {
   "cell_type": "markdown",
   "metadata": {},
   "source": []
  }
 ],
 "metadata": {
  "kernelspec": {
   "display_name": "block1",
   "language": "python",
   "name": "python3"
  },
  "language_info": {
   "codemirror_mode": {
    "name": "ipython",
    "version": 3
   },
   "file_extension": ".py",
   "mimetype": "text/x-python",
   "name": "python",
   "nbconvert_exporter": "python",
   "pygments_lexer": "ipython3",
   "version": "3.12.8"
  }
 },
 "nbformat": 4,
 "nbformat_minor": 2
}
