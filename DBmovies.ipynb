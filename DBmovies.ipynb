{
 "cells": [
  {
   "cell_type": "markdown",
   "metadata": {},
   "source": [
    "# <center> **Base de données (Films)**"
   ]
  },
  {
   "cell_type": "markdown",
   "metadata": {},
   "source": [
    "## **Présentation**"
   ]
  },
  {
   "cell_type": "markdown",
   "metadata": {},
   "source": [
    "Des fichiers csv contenant les données ont été générés lors de la phase précédente de scrapping, nous allons maintenant lire ces fichiers csv dans des dataFrame Pandas et nettoyer les données puis les insérer dans une base de données SQL.\n"
   ]
  },
  {
   "cell_type": "markdown",
   "metadata": {},
   "source": [
    "## **Questions**\n",
    "\n",
    "**Quelles données mettre en SQL et en NoSQL ?**<br>\n",
    "SQL pour les données tabulaires, NoSQL pour les données non tabulaires ou non structurées.\n",
    "\n",
    "**Générer automatiquement des IDs chaines de caractères ?**\n"
   ]
  },
  {
   "cell_type": "markdown",
   "metadata": {},
   "source": [
    "## **Sources**\n",
    "\n",
    "**Neo4j pour créer des graphs ML**<br>\n",
    "https://neo4j.com/docs/getting-started/appendix/tutorials/guide-import-relational-and-etl/\n"
   ]
  },
  {
   "cell_type": "markdown",
   "metadata": {},
   "source": [
    "## **Création du schéma relationnel**"
   ]
  },
  {
   "cell_type": "markdown",
   "metadata": {},
   "source": [
    "![relation_schema](images/DB_diagram.png)"
   ]
  },
  {
   "cell_type": "markdown",
   "metadata": {},
   "source": [
    "Online tool: https://drawdb.vercel.app/editor<br>\n",
    "\n",
    "L'utilitaire en ligne **drawdb** permet d'exporter un fichier .SQL contenant la description de notre base (tables avec les relations)\n",
    "\n",
    "![export_SQL](images/export_SQL.png)\n",
    "\n",
    "Après quelques modifications à ce fichier nous pouvons créer notre base de données ainsi que les tables à partir de l'invite de commandes.\n",
    "\n",
    "<code>\"C:\\Program Files\\MySQL\\MySQL Server 8.0\\bin\\mysql.exe\" < movies.sql -u root -p</code>\n"
   ]
  },
  {
   "cell_type": "markdown",
   "metadata": {},
   "source": [
    "\n",
    "Une difficulté rencontrée est de faire apparaître les films similaires à un film dans la base de données, en effet cette situation est une relation \"Many to many\" où la table se référence elle-même, c'est un cas fréquent dans les réseaux sociaux où un utilisateur va avoir des amis eux-mêmes utilisateurs.<br>\n",
    "Deux situations sont observées : <br>\n",
    "- les relations symétriques (l'utilisateur Alice est amis avec l'utilisateur Bob implique nécessairement que Bob est ami d'Alice),\n",
    "- les relations asymétriques (Alice est amis avec Bob mais Bob n'est pas forcément ami avec Alice).\n",
    "\n",
    "Dans notre situation la relation est .....????\n",
    "\n",
    "Pour représenter cette relation ....\n",
    "\n",
    "\n",
    "\n",
    "\n",
    "\n",
    "**About Self many-to-many relationship**: https://stackoverflow.com/questions/17128472/many-to-many-on-same-table\n",
    "\n",
    "Relations n-n\n",
    "\n",
    "Remarque :\n",
    "La table \"reviews\" sert de table de jonction entre les films et les utilisateurs, en effet la relation movies-users est une relation n-n car un utilateur peut écrire des avis pour plusieurs films et un film possède des avis de plusieurs utilisateurs.\n",
    "\n",
    "\n"
   ]
  },
  {
   "cell_type": "markdown",
   "metadata": {},
   "source": [
    "## **Création de la base de données**"
   ]
  },
  {
   "cell_type": "markdown",
   "metadata": {},
   "source": [
    "On lance **MySQL Shell** puis on passe en mode **SQ** avec l'instruction <code>\\sql</code>\n",
    "\n",
    "On peut ensuite lancer la création de notre base de données et des tables en lançant le script \"movies.sql\"\n",
    "\n",
    "<code> \"C:\\Program Files\\MySQL\\MySQL Server 8.0\\bin\\mysql.exe\" < movies.sql -u root -p</code><br>\n",
    "\n",
    "Une fois la base 'movies' créée, on peut créer un connecteur sur la base."
   ]
  },
  {
   "cell_type": "code",
   "execution_count": null,
   "metadata": {},
   "outputs": [],
   "source": [
    "import mysql.connector\n",
    "\n",
    "cnx = mysql.connector.connect(user='root', password='admin', \\\n",
    "                              host = '127.0.0.1', database='movies')\n",
    "cursor = cnx.cursor(buffered=True)"
   ]
  },
  {
   "cell_type": "markdown",
   "metadata": {},
   "source": [
    "## **Remplissage de la base de données**"
   ]
  },
  {
   "cell_type": "markdown",
   "metadata": {},
   "source": [
    "### **Imports**"
   ]
  },
  {
   "cell_type": "code",
   "execution_count": 2,
   "metadata": {},
   "outputs": [],
   "source": [
    "import math\n",
    "import copy\n",
    "import time\n",
    "import re\n",
    "import numpy as np\n",
    "import pandas as pd\n",
    "from tqdm import tqdm\n",
    "from IPython.display import display\n",
    "\n",
    "pd.set_option('display.max_rows', 10)\n",
    "tqdm.pandas()"
   ]
  },
  {
   "cell_type": "markdown",
   "metadata": {},
   "source": [
    "### **Lecture des données à partir des CSV**"
   ]
  },
  {
   "cell_type": "code",
   "execution_count": 4,
   "metadata": {},
   "outputs": [
    {
     "name": "stdout",
     "output_type": "stream",
     "text": [
      "Categories : (37, 2)\n",
      "Countries : (100, 2)\n",
      "movies : (109, 16)\n"
     ]
    }
   ],
   "source": [
    "df_categories = pd.read_csv('csv/categories.csv', delimiter = ',')\n",
    "df_countries = pd.read_csv('csv/countries.csv', delimiter = ',')\n",
    "df_movies = pd.read_csv('csv/movies_year_1980.csv', delimiter = ',')\n",
    "\n",
    "print(\"Categories :\", df_categories.shape)\n",
    "print(\"Countries :\", df_countries.shape)\n",
    "print(\"movies :\", df_movies.shape)"
   ]
  },
  {
   "cell_type": "code",
   "execution_count": null,
   "metadata": {},
   "outputs": [],
   "source": []
  }
 ],
 "metadata": {
  "kernelspec": {
   "display_name": "block1",
   "language": "python",
   "name": "python3"
  },
  "language_info": {
   "codemirror_mode": {
    "name": "ipython",
    "version": 3
   },
   "file_extension": ".py",
   "mimetype": "text/x-python",
   "name": "python",
   "nbconvert_exporter": "python",
   "pygments_lexer": "ipython3",
   "version": "3.12.8"
  }
 },
 "nbformat": 4,
 "nbformat_minor": 2
}
